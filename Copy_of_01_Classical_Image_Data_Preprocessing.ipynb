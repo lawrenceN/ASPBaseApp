{
  "nbformat": 4,
  "nbformat_minor": 0,
  "metadata": {
    "colab": {
      "name": "Copy of 01 - Classical Image Data Preprocessing.ipynb",
      "private_outputs": true,
      "provenance": [],
      "collapsed_sections": [],
      "toc_visible": true,
      "include_colab_link": true
    },
    "kernelspec": {
      "display_name": "Python 3",
      "language": "python",
      "name": "python3"
    },
    "accelerator": "GPU"
  },
  "cells": [
    {
      "cell_type": "markdown",
      "metadata": {
        "id": "view-in-github",
        "colab_type": "text"
      },
      "source": [
        "<a href=\"https://colab.research.google.com/github/lawrenceN/ASPBaseApp/blob/master/Copy_of_01_Classical_Image_Data_Preprocessing.ipynb\" target=\"_parent\"><img src=\"https://colab.research.google.com/assets/colab-badge.svg\" alt=\"Open In Colab\"/></a>"
      ]
    },
    {
      "cell_type": "markdown",
      "metadata": {
        "id": "512Q0aypBG0w"
      },
      "source": [
        "# Data Preprocessing and Visualization Techniques\n",
        "\n",
        "This notebook provides a method of reading images from a local file system and preprocesses the images into a NumPy format.\n",
        "\n",
        "This image also shares a quick method to visualize train / test data distribution and methods to ensure data sanity is preserved when converting data from different formats to a machine learning pipeline."
      ]
    },
    {
      "cell_type": "markdown",
      "metadata": {
        "id": "UtqMVI_UEKRt"
      },
      "source": [
        "## Mounting Data from Google Drive\n",
        "\n",
        "If you are running this notebook on Colab and you would like to mount data from Google Drive, you can run the cell below and check if you are able to view the contents inside the `Data` folder."
      ]
    },
    {
      "cell_type": "code",
      "metadata": {
        "id": "0I7Vn8MqVSuy"
      },
      "source": [
        ""
      ],
      "execution_count": null,
      "outputs": []
    },
    {
      "cell_type": "code",
      "metadata": {
        "id": "vVN1GA8xVWoT"
      },
      "source": [
        "from google.colab import drive\n",
        "drive.mount('/content/drive')"
      ],
      "execution_count": null,
      "outputs": []
    },
    {
      "cell_type": "code",
      "metadata": {
        "id": "uy11wZAILm14"
      },
      "source": [
        "\n",
        "\n",
        "!ls './drive/My Drive/Data/'"
      ],
      "execution_count": null,
      "outputs": []
    },
    {
      "cell_type": "code",
      "metadata": {
        "id": "NWLdkc_J-t1x"
      },
      "source": [
        "!ls './drive/My Drive/Data/cars/train/'"
      ],
      "execution_count": null,
      "outputs": []
    },
    {
      "cell_type": "markdown",
      "metadata": {
        "id": "yuz7McI1BRa2"
      },
      "source": [
        "## Download Images \n",
        "\n",
        "Download the images from the official [Stanford Cars dataset project page](https://ai.stanford.edu/~jkrause/cars/car_dataset.html). "
      ]
    },
    {
      "cell_type": "markdown",
      "metadata": {
        "id": "V0t3jobsC_Xh"
      },
      "source": [
        "## Import Statements\n",
        "\n",
        "These are the libraries that would be needed to run this notebook. If you miss any of the libraries below, you can run it by creating a new cell and the following command:\n",
        "```!pip install <library-name>```"
      ]
    },
    {
      "cell_type": "code",
      "metadata": {
        "id": "KLTQzUARnMot"
      },
      "source": [
        "from collections import Counter\n",
        "from cv2 import imread, resize, cvtColor, COLOR_BGR2RGB\n",
        "from glob import glob\n",
        "from random import randint\n",
        "from tqdm import tqdm\n",
        "\n",
        "\n",
        "import matplotlib.pyplot as plt\n",
        "import numpy as np\n",
        "%matplotlib inline"
      ],
      "execution_count": null,
      "outputs": []
    },
    {
      "cell_type": "code",
      "metadata": {
        "id": "jVXqtPPPB6NE"
      },
      "source": [
        "root_folder = \"./drive/My Drive/Data\"\n",
        "class_names = [\"swift\", \"wagonr\"]\n",
        "dataset_name = \"cars\"\n",
        "train_folder = \"train\"\n",
        "val_folder = \"validation\"\n",
        "test_folder = \"test\""
      ],
      "execution_count": null,
      "outputs": []
    },
    {
      "cell_type": "code",
      "metadata": {
        "id": "8dLnWcRNChfn"
      },
      "source": [
        "train_list = []\n",
        "for class_name in class_names:\n",
        "    for file_name in glob(f\"{root_folder}/{dataset_name}/{train_folder}/{class_name}/*.jpg\"):\n",
        "        train_list.append(file_name)\n",
        "\n",
        "print(len(train_list))"
      ],
      "execution_count": null,
      "outputs": []
    },
    {
      "cell_type": "code",
      "metadata": {
        "id": "RGh2FsQED_LS"
      },
      "source": [
        "val_list = []\n",
        "for class_name in class_names:\n",
        "    for file_name in glob(f\"{root_folder}/{dataset_name}/{val_folder}/{class_name}/*.jpg\"):\n",
        "        val_list.append(file_name)\n",
        "\n",
        "print(len(val_list))"
      ],
      "execution_count": null,
      "outputs": []
    },
    {
      "cell_type": "code",
      "metadata": {
        "id": "mz6xV4rTETno"
      },
      "source": [
        "test_list = []\n",
        "for class_name in class_names:\n",
        "    for file_name in glob(f\"{root_folder}/{dataset_name}/{test_folder}/{class_name}/*.jpg\"):\n",
        "        test_list.append(file_name)\n",
        "\n",
        "print(len(test_list))"
      ],
      "execution_count": null,
      "outputs": []
    },
    {
      "cell_type": "markdown",
      "metadata": {
        "id": "PU9Ysb8GeUaD"
      },
      "source": [
        "## Helper Methods"
      ]
    },
    {
      "cell_type": "code",
      "metadata": {
        "id": "Kd3bXM3hyT9Q"
      },
      "source": [
        "# Defining some constants\n",
        "new_w, new_h = 100, 100\n",
        "n_channels = 3"
      ],
      "execution_count": null,
      "outputs": []
    },
    {
      "cell_type": "code",
      "metadata": {
        "id": "eUAcwbs2plrF"
      },
      "source": [
        "def read_and_process_image(file_path, show_details=False):\n",
        "  '''Reads the image from the file and folder name, resizes and preprocesses it'''\n",
        "  # Read image using OpenCV \n",
        "  img = imread(file_path)\n",
        "\n",
        "  if show_details: print(f\"Shape: {img.shape}\")  # Print only when needed\n",
        "\n",
        "  # Resize the image to a constant width and height\n",
        "  img = resize(img, (new_w, new_h))\n",
        "  img = cvtColor(img, COLOR_BGR2RGB)\n",
        "  # Normalize the image\n",
        "  img = img / 255\n",
        "  \n",
        "  if show_details: print(f\"Reshape: {img.shape}\") # Print only when needed\n",
        "\n",
        "  return img"
      ],
      "execution_count": null,
      "outputs": []
    },
    {
      "cell_type": "code",
      "metadata": {
        "id": "4_UYcmnR_YDu"
      },
      "source": [
        "# Call the method to process the image \n",
        "img = read_and_process_image(train_list[10], show_details=True)\n",
        "\n",
        "# Plots image inline due to the `matplotlib inline` command above\n",
        "plt.imshow(img)"
      ],
      "execution_count": null,
      "outputs": []
    },
    {
      "cell_type": "code",
      "metadata": {
        "id": "-DtQpUcJofOv"
      },
      "source": [
        "def show_images(images_list):\n",
        "    '''Method for debugging and visualization of images'''\n",
        "    n: int = len(images_list)\n",
        "    f = plt.figure(figsize=(15, 15))\n",
        "    columns = 4\n",
        "    rows = 4\n",
        "    for i in range(columns*rows):\n",
        "        image_path = images_list[randint(0, n - 1)]\n",
        "        fol_name = image_path.split(\"/\")[-2]\n",
        "        # Debug, plot figure\n",
        "        ax = f.add_subplot(rows, columns, i + 1)\n",
        "        ax.set_title(fol_name)\n",
        "        img = read_and_process_image(image_path)\n",
        "        plt.axis('off')\n",
        "        plt.imshow(img)\n",
        "\n",
        "    plt.show(block=True)"
      ],
      "execution_count": null,
      "outputs": []
    },
    {
      "cell_type": "code",
      "metadata": {
        "id": "VocjOk87I_6F"
      },
      "source": [
        "show_images(train_list)"
      ],
      "execution_count": null,
      "outputs": []
    },
    {
      "cell_type": "markdown",
      "metadata": {
        "id": "6HO1JF4Gg4FB"
      },
      "source": [
        "## Visualization of Class Distribution\n",
        "\n",
        "It is important to check the distribution of the train and test data. This would give an idea of the bias present in the data even before a classifier is trained."
      ]
    },
    {
      "cell_type": "code",
      "metadata": {
        "id": "u08HvK-kihL8"
      },
      "source": [
        "def visualize_classes(image_path_list):\n",
        "    image_class_list = []\n",
        "    for image_path in image_path_list:\n",
        "        fol_name = image_path.split(\"/\")[-2]\n",
        "        image_class_list.append(fol_name)\n",
        "\n",
        "    image_class_counter = Counter(image_class_list)\n",
        "    plt.bar(image_class_counter.keys(), image_class_counter.values())\n",
        "\n",
        "    return image_class_list"
      ],
      "execution_count": null,
      "outputs": []
    },
    {
      "cell_type": "code",
      "metadata": {
        "id": "22i30DRRuljM"
      },
      "source": [
        "# Train data \n",
        "train_class_list = visualize_classes(train_list)"
      ],
      "execution_count": null,
      "outputs": []
    },
    {
      "cell_type": "code",
      "metadata": {
        "id": "J7jDMr0hQR-K"
      },
      "source": [
        "# Validation data \n",
        "val_class_list = visualize_classes(val_list)"
      ],
      "execution_count": null,
      "outputs": []
    },
    {
      "cell_type": "code",
      "metadata": {
        "id": "hnyUeo91xCj1"
      },
      "source": [
        "# Test data \n",
        "test_class_list = visualize_classes(test_list)"
      ],
      "execution_count": null,
      "outputs": []
    },
    {
      "cell_type": "markdown",
      "metadata": {
        "id": "5GDEj3k1nvR5"
      },
      "source": [
        "## Convert Data to NumPy"
      ]
    },
    {
      "cell_type": "code",
      "metadata": {
        "id": "-qlGEQ7hmG4B"
      },
      "source": [
        "def prepare_numpy_image_array(image_path_list):\n",
        "  '''Prepare a NumPy version of the image data for further usage in training'''\n",
        "  images_numpy = np.zeros((len(image_path_list), new_w, new_h, n_channels))\n",
        "  \n",
        "  for idx in tqdm(range(len(image_path_list))):\n",
        "    img = read_and_process_image(image_path_list[idx])\n",
        "    images_numpy[idx, :, :, :] = img\n",
        "\n",
        "  return images_numpy"
      ],
      "execution_count": null,
      "outputs": []
    },
    {
      "cell_type": "code",
      "metadata": {
        "id": "eI2N38r7nKXD"
      },
      "source": [
        "train_images_numpy = prepare_numpy_image_array(train_list)\n",
        "print(f\"Train images shape: {train_images_numpy.shape}\")"
      ],
      "execution_count": null,
      "outputs": []
    },
    {
      "cell_type": "code",
      "metadata": {
        "id": "qNy-C7CtREQI"
      },
      "source": [
        "val_images_numpy = prepare_numpy_image_array(val_list)\n",
        "print(f\"Validation images shape: {val_images_numpy.shape}\")"
      ],
      "execution_count": null,
      "outputs": []
    },
    {
      "cell_type": "code",
      "metadata": {
        "id": "FORgWrlfnVll"
      },
      "source": [
        "test_images_numpy = prepare_numpy_image_array(test_list)\n",
        "print(f\"Test images shape: {test_images_numpy.shape}\")"
      ],
      "execution_count": null,
      "outputs": []
    },
    {
      "cell_type": "markdown",
      "metadata": {
        "id": "UZPR0HqzoO7y"
      },
      "source": [
        "## Validate NumPy and Original Data\n",
        "\n",
        "This step makes sure that the transformations that we have applied and the data that is converted into NumPy array are one and the same. We check various random example indices to ensure that the data sanity is preserved."
      ]
    },
    {
      "cell_type": "code",
      "metadata": {
        "id": "FMzI00IkXKET"
      },
      "source": [
        "print(np.amin(test_images_numpy), np.amax(test_images_numpy))"
      ],
      "execution_count": null,
      "outputs": []
    },
    {
      "cell_type": "code",
      "metadata": {
        "id": "SbxT_TvU5QpP"
      },
      "source": [
        "plt.imshow(test_images_numpy[100, :, :, :])"
      ],
      "execution_count": null,
      "outputs": []
    },
    {
      "cell_type": "code",
      "metadata": {
        "id": "L6fLx3jL7S39"
      },
      "source": [
        "# Call the method to process the image \n",
        "img = read_and_process_image(test_list[100], show_details=True)\n",
        "\n",
        "# Plots image inline due to the `matplotlib inline` command above\n",
        "plt.imshow(img)"
      ],
      "execution_count": null,
      "outputs": []
    },
    {
      "cell_type": "markdown",
      "metadata": {
        "id": "bhzBhTfMvFHo"
      },
      "source": [
        "## Save to Pickle \n",
        "\n",
        "Pickling data ensures that all the preprocessing steps are preserved and the data is saved to local disk in the state at which we have processed it."
      ]
    },
    {
      "cell_type": "code",
      "metadata": {
        "id": "8esDL4If-4DG"
      },
      "source": [
        "import pickle as pkl\n",
        "\n",
        "pickle_path = f\"{root_folder}/{dataset_name}/train_val_test_numpy.pkl\"\n",
        "pkl.dump([train_images_numpy, train_class_list, \n",
        "          val_images_numpy, val_class_list,\n",
        "          test_images_numpy, test_class_list], \n",
        "         open(pickle_path, \"wb\"))\n",
        "print(f\"Saving NumPy arrays to {pickle_path}\")"
      ],
      "execution_count": null,
      "outputs": []
    }
  ]
}