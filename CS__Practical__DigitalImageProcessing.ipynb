{
  "nbformat": 4,
  "nbformat_minor": 0,
  "metadata": {
    "colab": {
      "name": "CS_ Practical_ DigitalImageProcessing.ipynb",
      "provenance": [],
      "collapsed_sections": [
        "sKZRq3Lm7t1_",
        "u95BS8qBMqcK"
      ],
      "include_colab_link": true
    },
    "kernelspec": {
      "name": "python3",
      "display_name": "Python 3"
    },
    "accelerator": "GPU"
  },
  "cells": [
    {
      "cell_type": "markdown",
      "metadata": {
        "id": "view-in-github",
        "colab_type": "text"
      },
      "source": [
        "<a href=\"https://colab.research.google.com/github/lawrenceN/ASPBaseApp/blob/master/CS__Practical__DigitalImageProcessing.ipynb\" target=\"_parent\"><img src=\"https://colab.research.google.com/assets/colab-badge.svg\" alt=\"Open In Colab\"/></a>"
      ]
    },
    {
      "cell_type": "markdown",
      "metadata": {
        "id": "7f-ovMfbU7so",
        "colab_type": "text"
      },
      "source": [
        "Load the dataset\n"
      ]
    },
    {
      "cell_type": "code",
      "metadata": {
        "id": "R21x6r0fU_NQ",
        "colab_type": "code",
        "colab": {}
      },
      "source": [
        "from tensorflow.keras.datasets import mnist\n"
      ],
      "execution_count": null,
      "outputs": []
    },
    {
      "cell_type": "code",
      "metadata": {
        "id": "xK-BYEY0VjH8",
        "colab_type": "code",
        "colab": {}
      },
      "source": [
        "#Loads the MNIST dataset\n",
        "(x_train, y_train), (x_test, y_test) = mnist.load_data()"
      ],
      "execution_count": null,
      "outputs": []
    },
    {
      "cell_type": "code",
      "metadata": {
        "id": "sXJgaRG-V42J",
        "colab_type": "code",
        "colab": {
          "base_uri": "https://localhost:8080/",
          "height": 217
        },
        "outputId": "c2fbf9c7-ffb6-421a-c11f-0df4b9d465b3"
      },
      "source": [
        "#Display the number of samples in the x_train, x_test, y_train and y_test\n",
        "print(\"Initial shape of dimensions of x_train\", str(x_train.shape) + \"\\n\")\n",
        "print(\"Number of samples in our training data: \" + str(len(x_train)))\n",
        "print(\"Number of labels in our training data: \" + str(len(y_train)))\n",
        "print(\"Number of samples in our test data: \" + str(len(x_test)))\n",
        "print(\"Number of labels in our test data: \" + str(len(y_test)) + \"\\n\")\n",
        "\n",
        "print(\"Dimensions of the x_train: \" + str(x_train[0].shape))\n",
        "print(\"Labels in y_train: \" + str(y_train.shape))\n",
        "\n",
        "print(\"Dimensions of the x_train: \" + str(x_test[0].shape))\n",
        "print(\"Labels in y_train: \" + str(y_test.shape))"
      ],
      "execution_count": null,
      "outputs": [
        {
          "output_type": "stream",
          "text": [
            "Initial shape of dimensions of x_train (60000, 28, 28)\n",
            "\n",
            "Number of samples in our training data: 60000\n",
            "Number of labels in our training data: 60000\n",
            "Number of samples in our test data: 10000\n",
            "Number of labels in our test data: 10000\n",
            "\n",
            "Dimensions of the x_train: (28, 28)\n",
            "Labels in y_train: (60000,)\n",
            "Dimensions of the x_train: (28, 28)\n",
            "Labels in y_train: (10000,)\n"
          ],
          "name": "stdout"
        }
      ]
    },
    {
      "cell_type": "markdown",
      "metadata": {
        "id": "OYTsTFFkYhkY",
        "colab_type": "text"
      },
      "source": [
        "Take a look at the images"
      ]
    },
    {
      "cell_type": "code",
      "metadata": {
        "id": "dIcWuuveYkdf",
        "colab_type": "code",
        "colab": {}
      },
      "source": [
        "import matplotlib.pyplot as plt\n",
        "import numpy as np\n"
      ],
      "execution_count": null,
      "outputs": []
    },
    {
      "cell_type": "code",
      "metadata": {
        "id": "CU4EMfJyYpps",
        "colab_type": "code",
        "colab": {
          "base_uri": "https://localhost:8080/",
          "height": 191
        },
        "outputId": "e013809a-18ad-4fa1-b5f0-110de65c626d"
      },
      "source": [
        "#Plot 6 images in subplots\n",
        "#set the colormap to grey since our image data is in greyscale\n",
        "plt.subplot(331)\n",
        "random_num = np.random.randint(0, len(x_train))\n",
        "_=plt.imshow(x_train[random_num],cmap=plt.get_cmap('gray'))\n",
        "\n",
        "plt.subplot(332)\n",
        "random_num = np.random.randint(0, len(x_train))\n",
        "_=plt.imshow(x_train[random_num],cmap=plt.get_cmap('gray'))\n",
        "\n",
        "plt.subplot(333)\n",
        "random_num = np.random.randint(0, len(x_train))\n",
        "_=plt.imshow(x_train[random_num],cmap=plt.get_cmap('gray'))\n",
        "\n",
        "plt.subplot(334)\n",
        "random_num = np.random.randint(0, len(x_train))\n",
        "_=plt.imshow(x_train[random_num],cmap=plt.get_cmap('gray'))\n",
        "\n",
        "plt.subplot(335)\n",
        "random_num = np.random.randint(0, len(x_train))\n",
        "_=plt.imshow(x_train[random_num],cmap=plt.get_cmap('gray'))\n",
        "\n",
        "plt.subplot(336)\n",
        "random_num = np.random.randint(0, len(x_train))\n",
        "_=plt.imshow(x_train[random_num],cmap=plt.get_cmap('gray'))"
      ],
      "execution_count": null,
      "outputs": [
        {
          "output_type": "display_data",
          "data": {
            "image/png": "[encoded data removed]",
            "text/plain": [
              "<Figure size 432x288 with 6 Axes>"
            ]
          },
          "metadata": {
            "tags": [],
            "needs_background": "light"
          }
        }
      ]
    },
    {
      "cell_type": "code",
      "metadata": {
        "id": "-lVqDM41ZY1a",
        "colab_type": "code",
        "colab": {}
      },
      "source": [
        "#store the number of rows and columns\n",
        "img_rows = x_train[0].shape[0]\n",
        "img_columns = x_train[0].shape[1]\n",
        "\n",
        "#get the data into the right shape for keras\n",
        "#add 4th dimension to the tensor\n",
        "x_train = x_train.reshape(x_train.shape[0], img_rows, img_columns, 1)\n",
        "x_test = x_test.reshape(x_test.shape[0], img_rows, img_columns, 1)"
      ],
      "execution_count": null,
      "outputs": []
    },
    {
      "cell_type": "code",
      "metadata": {
        "id": "YLHmQx9JbN7b",
        "colab_type": "code",
        "colab": {
          "base_uri": "https://localhost:8080/",
          "height": 72
        },
        "outputId": "dbc13928-8eae-4d23-c137-de1add63a893"
      },
      "source": [
        "#store the shape of a single image for future use\n",
        "input_shape= (img_rows, img_columns, 1)\n",
        "\n",
        "#change the image type to float32 from unsignedint\n",
        "x_train = x_train.astype('float32')\n",
        "x_test = x_test.astype('float32')\n",
        "\n",
        "#normalzie the data by changing the range from 0-255 to 0-1\n",
        "x_train /=255.0\n",
        "x_test /=255.0\n",
        "\n",
        "print(\"X_train shape \", x_train.shape)\n",
        "print(x_train.shape[0], \"x_train samples\")\n",
        "print(x_test.shape[0], \"x_test samples\")\n"
      ],
      "execution_count": null,
      "outputs": [
        {
          "output_type": "stream",
          "text": [
            "X_train shape  (60000, 28, 28, 1)\n",
            "60000 x_train samples\n",
            "10000 x_test samples\n"
          ],
          "name": "stdout"
        }
      ]
    },
    {
      "cell_type": "code",
      "metadata": {
        "id": "hio6iu5-cEPm",
        "colab_type": "code",
        "colab": {
          "base_uri": "https://localhost:8080/",
          "height": 35
        },
        "outputId": "a1acc225-3b4b-416c-c151-562fa447e2fd"
      },
      "source": [
        "from tensorflow.keras.utils import to_categorical\n",
        "#one-hot encode for outputs\n",
        "y_train =to_categorical(y_train)\n",
        "y_test = to_categorical(y_test)\n",
        "\n",
        "#count the number of columns in our hot coded matrix\n",
        "print('Number of classes: '+str(y_test.shape[1]))\n",
        "num_classes=y_test.shape[1]"
      ],
      "execution_count": null,
      "outputs": [
        {
          "output_type": "stream",
          "text": [
            "Number of classes: 10\n"
          ],
          "name": "stdout"
        }
      ]
    },
    {
      "cell_type": "code",
      "metadata": {
        "id": "ohN-GxLTdYtV",
        "colab_type": "code",
        "colab": {
          "base_uri": "https://localhost:8080/",
          "height": 35
        },
        "outputId": "1ef84ffd-9df7-44f0-bb55-45db5721a87c"
      },
      "source": [
        "from tensorflow.keras.models import Sequential\n",
        "from tensorflow.keras.layers import Dense, Dropout, Flatten\n",
        "from tensorflow.keras.layers import Conv2D, MaxPooling2D\n",
        "from tensorflow.keras import backend as K\n",
        "from tensorflow.keras.optimizers import SGD\n",
        "\n",
        "#create a model\n",
        "model=Sequential()\n",
        "\n",
        "#First Convolutional layer, filter size 32, which reduces our layer size to 28*28*32\n",
        "#we use ReLU activation and specify our input shape which is 28*28*1\n",
        "model.add(Conv2D(32, kernel_size=(3,3), activation='relu', input_shape=input_shape))\n",
        "\n",
        "#second Convolutional layer, filter size 64, which reduces layer size to 24*24*64\n",
        "model.add(Conv2D(64, (3,3),activation='relu'))\n",
        "\n",
        "#we use maxpooling with kernel size of 2*2, which reduces size to 12*12*64\n",
        "model.add(MaxPooling2D(pool_size=(2,2)))\n",
        "\n",
        "#Dropout P setting as 0.25 to reduce overfitting\n",
        "model.add(Dropout(0.25))\n",
        "\n",
        "#We then flatten our tensor object before input into our dense layer\n",
        "#A flatten operation on a tensor reshapes the tensor to have a shape that is\n",
        "#equal to the number of elements combined in tensor\n",
        "#in our CNN it goes from  12*12*64 to 9216*1\n",
        "model.add(Flatten())\n",
        "\n",
        "#We use another dropout layer\n",
        "model.add(Dropout(0.5))\n",
        "\n",
        "#We create fully connected/Dense layer with an output of each class (10)\n",
        "model.add(Dense(num_classes, activation='softmax'))\n",
        "\n",
        "#we compile our model, this creates an object that stores the model. We set the \n",
        "#Optimizer to use stochastic Gradient Descent (learning rate of 0.01)\n",
        "#We set the loss function to be categorical_crossentropy as its suitable for\n",
        "#multiclass problems. And finally the  metrics (to judge the performance of the model) we use accuracy\n",
        "model.compile(loss='categorical_crossentropy', optimizer=SGD(0.01), metrics=['accuracy'])\n",
        "\n",
        "#the summary function can be used to display the model layers and parameters\n",
        "print(model.summary)"
      ],
      "execution_count": null,
      "outputs": [
        {
          "output_type": "stream",
          "text": [
            "<bound method Model.summary of <tensorflow.python.keras.engine.sequential.Sequential object at 0x7f20916bbc50>>\n"
          ],
          "name": "stdout"
        }
      ]
    },
    {
      "cell_type": "code",
      "metadata": {
        "id": "x0OSShyOjlx-",
        "colab_type": "code",
        "colab": {
          "base_uri": "https://localhost:8080/",
          "height": 437
        },
        "outputId": "5fb0f38e-7ea6-47d1-dda3-e21eb00d16f8"
      },
      "source": [
        "batch_size=32\n",
        "epochs=10\n",
        "\n",
        "#store the results for later plotting\n",
        "#in our fit function we specify  our dataset (x_train and y_train)\n",
        "#batch size (typically 16 to 128 -- RAM). The number of epochs (10 to 100)\n",
        "#validation dataset (x_test, y_test)\n",
        "#verbose = 1, setting the  training to output performance metrics every epoch\n",
        "\n",
        "history = model.fit(x_train, y_train, batch_size=batch_size, epochs=epochs, verbose=1, validation_data=(x_test, y_test))\n",
        "\n",
        "#We then obtain the accuracy score\n",
        "score =model.evaluate(x_test, y_test, verbose=0)\n",
        "print(\"test loss: \", score[0])\n",
        "print(\"Test accuracy\", score[1])"
      ],
      "execution_count": null,
      "outputs": [
        {
          "output_type": "stream",
          "text": [
            "Epoch 1/10\n",
            "1875/1875 [==============================] - 6s 3ms/step - loss: 0.5516 - accuracy: 0.8327 - val_loss: 0.2627 - val_accuracy: 0.9264\n",
            "Epoch 2/10\n",
            "1875/1875 [==============================] - 6s 3ms/step - loss: 0.2542 - accuracy: 0.9252 - val_loss: 0.1405 - val_accuracy: 0.9627\n",
            "Epoch 3/10\n",
            "1875/1875 [==============================] - 6s 3ms/step - loss: 0.1625 - accuracy: 0.9527 - val_loss: 0.0968 - val_accuracy: 0.9726\n",
            "Epoch 4/10\n",
            "1875/1875 [==============================] - 6s 3ms/step - loss: 0.1288 - accuracy: 0.9618 - val_loss: 0.0761 - val_accuracy: 0.9784\n",
            "Epoch 5/10\n",
            "1875/1875 [==============================] - 5s 3ms/step - loss: 0.1099 - accuracy: 0.9675 - val_loss: 0.0676 - val_accuracy: 0.9797\n",
            "Epoch 6/10\n",
            "1875/1875 [==============================] - 6s 3ms/step - loss: 0.0983 - accuracy: 0.9701 - val_loss: 0.0612 - val_accuracy: 0.9815\n",
            "Epoch 7/10\n",
            "1875/1875 [==============================] - 6s 3ms/step - loss: 0.0894 - accuracy: 0.9724 - val_loss: 0.0555 - val_accuracy: 0.9829\n",
            "Epoch 8/10\n",
            "1875/1875 [==============================] - 6s 3ms/step - loss: 0.0815 - accuracy: 0.9753 - val_loss: 0.0551 - val_accuracy: 0.9829\n",
            "Epoch 9/10\n",
            "1875/1875 [==============================] - 6s 3ms/step - loss: 0.0791 - accuracy: 0.9758 - val_loss: 0.0521 - val_accuracy: 0.9828\n",
            "Epoch 10/10\n",
            "1875/1875 [==============================] - 6s 3ms/step - loss: 0.0730 - accuracy: 0.9779 - val_loss: 0.0471 - val_accuracy: 0.9846\n",
            "test loss:  0.04710038751363754\n",
            "Test accuracy 0.9846000075340271\n"
          ],
          "name": "stdout"
        }
      ]
    },
    {
      "cell_type": "code",
      "metadata": {
        "id": "r8kV7Mdulr0F",
        "colab_type": "code",
        "colab": {
          "base_uri": "https://localhost:8080/",
          "height": 279
        },
        "outputId": "739841b8-932e-4b96-b296-9749b32315b8"
      },
      "source": [
        "#Plotting the loss charts\n",
        "#Use the history object to get our svaed performace results\n",
        "history_dict=history.history\n",
        "\n",
        "#extract the loss and the validation losses\n",
        "loss_values=history_dict['loss']\n",
        "val_loss_values=history_dict['val_loss']\n",
        "\n",
        "#get the number of epochs and create an array up to that number using range()\n",
        "epochs=range(1, len(loss_values) +1)\n",
        "\n",
        "#Plot line charts for both validation and loss\n",
        "line1 = plt.plot(epochs, val_loss_values, label='Validation/Test loss')\n",
        "line2 = plt.plot(epochs, loss_values, label='Training loss')\n",
        "plt.setp(line1, linewidth=2.0, marker='+', markersize=10.0)\n",
        "plt.setp(line2, linewidth=2.0, marker='4', markersize=10.0)\n",
        "plt.xlabel('Epochs')\n",
        "plt.ylabel('Loss')\n",
        "plt.grid(True)\n",
        "plt.legend()\n",
        "plt.show()"
      ],
      "execution_count": null,
      "outputs": [
        {
          "output_type": "display_data",
          "data": {
            "image/png": "[encoded data removed]",
            "text/plain": [
              "<Figure size 432x288 with 1 Axes>"
            ]
          },
          "metadata": {
            "tags": [],
            "needs_background": "light"
          }
        }
      ]
    },
    {
      "cell_type": "markdown",
      "metadata": {
        "id": "zs4N75YT1m4p",
        "colab_type": "text"
      },
      "source": [
        "Plot of the Accuracy"
      ]
    },
    {
      "cell_type": "code",
      "metadata": {
        "id": "foPSYBNu1wEM",
        "colab_type": "code",
        "colab": {
          "base_uri": "https://localhost:8080/",
          "height": 279
        },
        "outputId": "72ee581f-b71a-46d2-ccee-17ee4d04ef92"
      },
      "source": [
        "#Plotting the accuracy chart\n",
        "import matplotlib.pyplot as plt\n",
        "\n",
        "#Use the history object to get our svaed performace results\n",
        "history_dict=history.history\n",
        "\n",
        "#extract the loss and the validation losses\n",
        "acc_values=history_dict['accuracy']\n",
        "val_acc_values=history_dict['val_accuracy']\n",
        "\n",
        "#get the number of epochs and create an array up to that number using range()\n",
        "epochs=range(1, len(acc_values) +1)\n",
        "\n",
        "#Plot line charts for both validation and loss\n",
        "line1 = plt.plot(epochs, val_acc_values, label='Validation/Test Accuracy')\n",
        "line2 = plt.plot(epochs, acc_values, label='Training')\n",
        "plt.setp(line1, linewidth=2.0, marker='+', markersize=10.0)\n",
        "plt.setp(line2, linewidth=2.0, marker='4', markersize=10.0)\n",
        "plt.xlabel('Epochs')\n",
        "plt.ylabel('Loss')\n",
        "plt.grid(True)\n",
        "plt.legend()\n",
        "plt.show()"
      ],
      "execution_count": null,
      "outputs": [
        {
          "output_type": "display_data",
          "data": {
            "image/png": "[encoded data removed]",
            "text/plain": [
              "<Figure size 432x288 with 1 Axes>"
            ]
          },
          "metadata": {
            "tags": [],
            "needs_background": "light"
          }
        }
      ]
    },
    {
      "cell_type": "code",
      "metadata": {
        "id": "UPLethtC2tTc",
        "colab_type": "code",
        "colab": {
          "base_uri": "https://localhost:8080/",
          "height": 35
        },
        "outputId": "f721b04c-bc1f-4d59-d7c3-ade8bd8877c0"
      },
      "source": [
        "#saving the model\n",
        "model.save('mnist_simple_cnn_10_Epochs.h5')\n",
        "print('model is saved')"
      ],
      "execution_count": null,
      "outputs": [
        {
          "output_type": "stream",
          "text": [
            "model is saved\n"
          ],
          "name": "stdout"
        }
      ]
    },
    {
      "cell_type": "code",
      "metadata": {
        "id": "Pg2ZUAP82-xa",
        "colab_type": "code",
        "colab": {}
      },
      "source": [
        "from tensorflow.keras.models import load_model\n",
        "classifier=load_model('mnist_simple_cnn_10_Epochs.h5')"
      ],
      "execution_count": null,
      "outputs": []
    },
    {
      "cell_type": "code",
      "metadata": {
        "id": "Ka9vRFal3Mgk",
        "colab_type": "code",
        "colab": {
          "base_uri": "https://localhost:8080/",
          "height": 293
        },
        "outputId": "4ddfbf40-3afe-41cd-d1cf-6e765893b6bf"
      },
      "source": [
        "import numpy as np\n",
        "figure=plt.figure(figsize=(20,20))\n",
        "for i in range(5):\n",
        "  figure.add_subplot(1,5,i+1)\n",
        "  random_idx=np.random.randint(0,len(x_test))\n",
        "  plt.imshow(x_test[random_idx,:,:,0],cmap='gray')\n",
        "  plt.axis('off')\n",
        "  print(np.squeeze(np.argmax(model.predict(x_test[random_idx].reshape(1,28,28,1)), axis=1),axis=0))"
      ],
      "execution_count": null,
      "outputs": [
        {
          "output_type": "stream",
          "text": [
            "5\n",
            "2\n",
            "5\n",
            "9\n",
            "9\n"
          ],
          "name": "stdout"
        },
        {
          "output_type": "display_data",
          "data": {
            "image/png": "[encoded data removed]",
            "text/plain": [
              "<Figure size 1440x1440 with 5 Axes>"
            ]
          },
          "metadata": {
            "tags": [],
            "needs_background": "light"
          }
        }
      ]
    },
    {
      "cell_type": "code",
      "metadata": {
        "id": "PNTxtoq-d4OT",
        "colab_type": "code",
        "colab": {}
      },
      "source": [
        ""
      ],
      "execution_count": null,
      "outputs": []
    },
    {
      "cell_type": "markdown",
      "metadata": {
        "id": "TeB-ZgFn4qUy",
        "colab_type": "text"
      },
      "source": [
        "**Visualitazion of the Convolutional Neural Network**"
      ]
    },
    {
      "cell_type": "markdown",
      "metadata": {
        "id": "LCfWw-BTeEiO",
        "colab_type": "text"
      },
      "source": [
        "Objective: Load trained CNN and understand what they \"See\" or learn, this well help in better understanding how they work.\n",
        "\n",
        "Workflow:\n",
        "1. Load dataset from milestone 1\n",
        "\n",
        "2. Analyze the model's perfomance by viewing Confusion matrix and Classification Report. Aim at identifying weaknesses of the model.\n",
        "Look at individual perfomance of each class of the CNN and see cases where it has trouble classifying the data correctly.\n",
        "\n",
        "3. Identify all samples wrongly classified by the CNN and display the results. Think  why the model got it wrong.\n",
        "\n",
        "4. Extract our layer outputs and create our activation model. So that we can visualize the activation of each layer. Give model some input and see how it deals with it.\n",
        "\n",
        "5. Display output shape of the first activation layer and compare it with the output layer shape that can be seen from the model summary.\n",
        "\n",
        "6. Show the output of the activation map of the first convolution layer and compare it with the output layer shape that can be seen from the model summary.\n",
        "\n",
        "7. Display all the activations for the first 3 layers of the model.\n",
        "\n",
        "\n",
        "Output: Display of the classification report and confusion matrix. A display of the sample data that is wrongly classified. We then display the activation layer for various CNN layers.\n"
      ]
    },
    {
      "cell_type": "code",
      "metadata": {
        "id": "8z61MkNvlK_L",
        "colab_type": "code",
        "colab": {}
      },
      "source": [
        "#Reload the data\n",
        "from tensorflow.keras.models import load_model\n",
        "from tensorflow.keras.utils import to_categorical\n",
        "from tensorflow.keras.datasets import mnist"
      ],
      "execution_count": null,
      "outputs": []
    },
    {
      "cell_type": "code",
      "metadata": {
        "id": "_-3InXF1lp8X",
        "colab_type": "code",
        "colab": {}
      },
      "source": [
        "#Load datasets\n",
        "(x_train, y_train), (x_test, y_test) = mnist.load_data()\n",
        "model=load_model('mnist_simple_cnn_10_Epochs.h5')"
      ],
      "execution_count": null,
      "outputs": []
    },
    {
      "cell_type": "code",
      "metadata": {
        "id": "nqyYyX09mDoZ",
        "colab_type": "code",
        "colab": {}
      },
      "source": [
        "#Number of rows and cols\n",
        "img_rows=x_train[0].shape[0]\n",
        "img_cols=x_train[0].shape[1]"
      ],
      "execution_count": null,
      "outputs": []
    },
    {
      "cell_type": "code",
      "metadata": {
        "id": "zAhHYFA8mdla",
        "colab_type": "code",
        "colab": {}
      },
      "source": [
        "#get data in the right shape for keras\n",
        "x_test=x_test.reshape(x_test.shape[0],img_rows,img_cols,1)"
      ],
      "execution_count": null,
      "outputs": []
    },
    {
      "cell_type": "code",
      "metadata": {
        "id": "M7iNGpafnPRH",
        "colab_type": "code",
        "colab": {
          "base_uri": "https://localhost:8080/",
          "height": 35
        },
        "outputId": "0f3a830e-4149-425b-e7ed-58000fe87136"
      },
      "source": [
        "#store the shape of a single image\n",
        "input_shape=(img_rows,img_cols,1)\n",
        "\n",
        "#Change the image type to float32 data type\n",
        "x_test=x_test.astype('float32')\n",
        "\n",
        "#Normalize the data by changing the ranges from 0-255\n",
        "x_test/=255.0\n",
        "y_test=to_categorical(y_test)\n",
        "print(x_test.shape[0],'test samples')"
      ],
      "execution_count": null,
      "outputs": [
        {
          "output_type": "stream",
          "text": [
            "10000 test samples\n"
          ],
          "name": "stdout"
        }
      ]
    },
    {
      "cell_type": "code",
      "metadata": {
        "id": "86HJE1vJoTrJ",
        "colab_type": "code",
        "colab": {
          "base_uri": "https://localhost:8080/",
          "height": 583
        },
        "outputId": "bff3064d-9c63-45d9-e283-232288d359fd"
      },
      "source": [
        "from sklearn.metrics import classification_report, confusion_matrix\n",
        "import numpy as np\n",
        "\n",
        "y_pred=model.predict_classes(x_test)\n",
        "\n",
        "print(classification_report(np.argmax(y_test,axis=1),y_pred))\n",
        "print(confusion_matrix(np.argmax(y_test,axis=1),y_pred))"
      ],
      "execution_count": null,
      "outputs": [
        {
          "output_type": "stream",
          "text": [
            "WARNING:tensorflow:From <ipython-input-24-45e14cf7c97b>:4: Sequential.predict_classes (from tensorflow.python.keras.engine.sequential) is deprecated and will be removed after 2021-01-01.\n",
            "Instructions for updating:\n",
            "Please use instead:* `np.argmax(model.predict(x), axis=-1)`,   if your model does multi-class classification   (e.g. if it uses a `softmax` last-layer activation).* `(model.predict(x) > 0.5).astype(\"int32\")`,   if your model does binary classification   (e.g. if it uses a `sigmoid` last-layer activation).\n",
            "              precision    recall  f1-score   support\n",
            "\n",
            "           0       0.98      0.99      0.99       980\n",
            "           1       0.99      0.99      0.99      1135\n",
            "           2       0.97      0.99      0.98      1032\n",
            "           3       0.99      0.99      0.99      1010\n",
            "           4       0.99      0.99      0.99       982\n",
            "           5       0.98      0.99      0.99       892\n",
            "           6       0.99      0.98      0.99       958\n",
            "           7       0.98      0.97      0.98      1028\n",
            "           8       0.99      0.97      0.98       974\n",
            "           9       0.98      0.97      0.98      1009\n",
            "\n",
            "    accuracy                           0.98     10000\n",
            "   macro avg       0.98      0.98      0.98     10000\n",
            "weighted avg       0.98      0.98      0.98     10000\n",
            "\n",
            "[[ 974    0    2    0    0    1    1    1    1    0]\n",
            " [   1 1129    2    1    0    1    1    0    0    0]\n",
            " [   1    3 1020    2    1    0    0    3    2    0]\n",
            " [   0    0    2 1000    0    2    0    4    2    0]\n",
            " [   1    0    3    0  969    0    1    0    2    6]\n",
            " [   1    0    0    4    0  884    2    0    1    0]\n",
            " [   6    2    1    0    2    5  939    0    3    0]\n",
            " [   1    3   13    2    0    1    0 1001    2    5]\n",
            " [   6    0    4    3    2    3    1    4  947    4]\n",
            " [   4    5    1    2    3    4    0    6    1  983]]\n"
          ],
          "name": "stdout"
        }
      ]
    },
    {
      "cell_type": "code",
      "metadata": {
        "id": "iy82_4tkqgH_",
        "colab_type": "code",
        "colab": {}
      },
      "source": [
        "#Getting misclassified data\n",
        "\n",
        "import cv2\n",
        "import numpy as np\n",
        "from tensorflow.keras.datasets import mnist\n",
        "\n",
        "#Load the data\n",
        "(x_train, y_train), (x_test, y_test) = mnist.load_data()\n"
      ],
      "execution_count": null,
      "outputs": []
    },
    {
      "cell_type": "code",
      "metadata": {
        "id": "0nLAi6wawceN",
        "colab_type": "code",
        "colab": {
          "base_uri": "https://localhost:8080/",
          "height": 308
        },
        "outputId": "35ef7e1b-a3d7-4ffc-c2c0-e578addfa04a"
      },
      "source": [
        "#use numpy to create an array to store a value of 1 when a misclassification occurs\n",
        "\n",
        "result=np.absolute(y_test -y_pred)\n",
        "result_indices=np.nonzero(result>0)\n",
        "                          \n",
        "#display the indices of the missclassificiiton\n",
        "print('Indices of missclassified data are: \\n\\n'+ str(result_indices))"
      ],
      "execution_count": null,
      "outputs": [
        {
          "output_type": "stream",
          "text": [
            "Indices of missclassified data are: \n",
            "\n",
            "(array([ 247,  259,  321,  340,  445,  449,  582,  659,  684,  717,  720,\n",
            "        726,  740,  839,  844,  846,  882,  947,  965, 1014, 1039, 1112,\n",
            "       1182, 1226, 1232, 1242, 1247, 1260, 1319, 1326, 1393, 1414, 1500,\n",
            "       1522, 1530, 1621, 1681, 1709, 1717, 1754, 1878, 1901, 1955, 2016,\n",
            "       2035, 2043, 2098, 2109, 2118, 2129, 2130, 2135, 2189, 2266, 2272,\n",
            "       2293, 2387, 2406, 2425, 2447, 2454, 2488, 2607, 2654, 2780, 2896,\n",
            "       2921, 2939, 2995, 3030, 3060, 3073, 3206, 3289, 3422, 3503, 3520,\n",
            "       3550, 3559, 3597, 3726, 3751, 3767, 3808, 3853, 3906, 3941, 4065,\n",
            "       4075, 4078, 4102, 4163, 4176, 4224, 4238, 4248, 4256, 4500, 4536,\n",
            "       4571, 4575, 4578, 4601, 4639, 4731, 4740, 4761, 4783, 4807, 4874,\n",
            "       4956, 5246, 5600, 5634, 5642, 5734, 5749, 5887, 5888, 5937, 5955,\n",
            "       5973, 6091, 6505, 6555, 6571, 6572, 6576, 6597, 6625, 6651, 6783,\n",
            "       6847, 7432, 7434, 8059, 8094, 8183, 8408, 9009, 9015, 9019, 9024,\n",
            "       9638, 9664, 9679, 9692, 9729, 9770, 9811, 9879, 9892, 9905, 9982]),)\n"
          ],
          "name": "stdout"
        }
      ]
    },
    {
      "cell_type": "code",
      "metadata": {
        "id": "q3F8Fc40xXKN",
        "colab_type": "code",
        "colab": {
          "base_uri": "https://localhost:8080/",
          "height": 35
        },
        "outputId": "0a34fbf2-e081-44a3-fad0-26f66608ae56"
      },
      "source": [
        "#Reload the dataset\n",
        "\n",
        "#Number of rows and cols\n",
        "img_rows=x_train[0].shape[0]\n",
        "img_columns=x_train[0].shape[1]\n",
        "\n",
        "\n",
        "x_test = x_test.reshape(x_test.shape[0], img_rows, img_columns, 1)\n",
        "\n",
        "#store the shape of a single image\n",
        "input_shape = (img_rows,img_columns,1)\n",
        "\n",
        "#change image type to float32\n",
        "x_train = x_train.astype('float32')\n",
        "x_test = x_test.astype('float32')\n",
        "\n",
        "#normalize the data by changing the range\n",
        "x_test /= 255.0\n",
        "y_test = to_categorical(y_test)\n",
        "print(x_test.shape[0], 'test samples')"
      ],
      "execution_count": null,
      "outputs": [
        {
          "output_type": "stream",
          "text": [
            "10000 test samples\n"
          ],
          "name": "stdout"
        }
      ]
    },
    {
      "cell_type": "code",
      "metadata": {
        "id": "uTVCK74xxsRq",
        "colab_type": "code",
        "colab": {}
      },
      "source": [
        ""
      ],
      "execution_count": null,
      "outputs": []
    },
    {
      "cell_type": "markdown",
      "metadata": {
        "id": "3C1JUBuZyGKC",
        "colab_type": "text"
      },
      "source": [
        "Display misclassified item"
      ]
    },
    {
      "cell_type": "code",
      "metadata": {
        "id": "ALbV4vc8yKw4",
        "colab_type": "code",
        "colab": {
          "base_uri": "https://localhost:8080/",
          "height": 220
        },
        "outputId": "4c873b73-2712-4d52-e25f-bef26b98ac44"
      },
      "source": [
        "import matplotlib.pyplot as plt\n",
        "\n",
        "figure= plt.figure(figsize=(20,20))\n",
        "for i in range(5):\n",
        "  figure.add_subplot(1,5,i+1)\n",
        "  index=result_indices[0][i]\n",
        "  plt.imshow(x_test[index,:,:,0],cmap='gray')\n",
        "  plt.axis('off')\n",
        "  prediction=np.squeeze(np.argmax(model.predict(x_test[index].reshape(1,28,28,1)),axis=1),axis=0)\n",
        "  print(prediction, end='\\t')"
      ],
      "execution_count": null,
      "outputs": [
        {
          "output_type": "stream",
          "text": [
            "2\t0\t7\t3\t0\t"
          ],
          "name": "stdout"
        },
        {
          "output_type": "display_data",
          "data": {
            "image/png": "[encoded data removed]",
            "text/plain": [
              "<Figure size 1440x1440 with 5 Axes>"
            ]
          },
          "metadata": {
            "tags": [],
            "needs_background": "light"
          }
        }
      ]
    },
    {
      "cell_type": "code",
      "metadata": {
        "id": "V4gRyuVf-kqI",
        "colab_type": "code",
        "colab": {}
      },
      "source": [
        ""
      ],
      "execution_count": null,
      "outputs": []
    },
    {
      "cell_type": "markdown",
      "metadata": {
        "id": "6k0ECFj-zbSF",
        "colab_type": "text"
      },
      "source": [
        "# Viewing the activation maps of the CNN"
      ]
    },
    {
      "cell_type": "markdown",
      "metadata": {
        "id": "gIbLBSdv2ZyX",
        "colab_type": "text"
      },
      "source": [
        "\n"
      ]
    },
    {
      "cell_type": "code",
      "metadata": {
        "id": "gQwv-UZU2qpK",
        "colab_type": "code",
        "colab": {
          "base_uri": "https://localhost:8080/",
          "height": 320
        },
        "outputId": "3baf4ff4-c689-48b6-cdd0-01667bccc565"
      },
      "source": [
        "from tensorflow.keras.models import Model\n",
        "\n",
        "#Extract the outputs of the top 7 layers\n",
        "layer_outputs=[layer.output for layer in model.layers[:7]]\n",
        "\n",
        "#create a model to return those outputs given the model's input\n",
        "activation_model = Model(inputs=model.input,outputs= layer_outputs)\n",
        "\n",
        "#display the test image of the activation model\n",
        "img_tensor = x_test[151].reshape(1,28,28,1)\n",
        "figure1 = plt.figure(figsize=(5,5))\n",
        "plt.imshow(img_tensor[0,:,:,0],cmap='inferno')\n",
        "plt.axis='off'"
      ],
      "execution_count": null,
      "outputs": [
        {
          "output_type": "display_data",
          "data": {
            "image/png": "[encoded data removed]",
            "text/plain": [
              "<Figure size 360x360 with 1 Axes>"
            ]
          },
          "metadata": {
            "tags": [],
            "needs_background": "light"
          }
        }
      ]
    },
    {
      "cell_type": "code",
      "metadata": {
        "id": "-3YIjRKu3O5Y",
        "colab_type": "code",
        "colab": {
          "base_uri": "https://localhost:8080/",
          "height": 511
        },
        "outputId": "ea24d091-402d-4655-f163-88a001ef6c50"
      },
      "source": [
        "import matplotlib.pyplot as plt\n",
        "\n",
        "img_tensor=x_test[151].reshape(1,28,28,1)\n",
        "fig=plt.figure(figsize=(5,5))\n",
        "plt.imshow(img_tensor[0,:,:,0],cmap='inferno')\n",
        "plt.axis('off')"
      ],
      "execution_count": null,
      "outputs": [
        {
          "output_type": "error",
          "ename": "TypeError",
          "evalue": "ignored",
          "traceback": [
            "\u001b[0;31m---------------------------------------------------------------------------\u001b[0m",
            "\u001b[0;31mTypeError\u001b[0m                                 Traceback (most recent call last)",
            "\u001b[0;32m<ipython-input-33-cbe5c6c4a7e0>\u001b[0m in \u001b[0;36m<module>\u001b[0;34m()\u001b[0m\n\u001b[1;32m      3\u001b[0m \u001b[0mfig\u001b[0m\u001b[0;34m=\u001b[0m\u001b[0mplt\u001b[0m\u001b[0;34m.\u001b[0m\u001b[0mfigure\u001b[0m\u001b[0;34m(\u001b[0m\u001b[0mfigsize\u001b[0m\u001b[0;34m=\u001b[0m\u001b[0;34m(\u001b[0m\u001b[0;36m5\u001b[0m\u001b[0;34m,\u001b[0m\u001b[0;36m5\u001b[0m\u001b[0;34m)\u001b[0m\u001b[0;34m)\u001b[0m\u001b[0;34m\u001b[0m\u001b[0;34m\u001b[0m\u001b[0m\n\u001b[1;32m      4\u001b[0m \u001b[0mplt\u001b[0m\u001b[0;34m.\u001b[0m\u001b[0mimshow\u001b[0m\u001b[0;34m(\u001b[0m\u001b[0mimg_tensor\u001b[0m\u001b[0;34m[\u001b[0m\u001b[0;36m0\u001b[0m\u001b[0;34m,\u001b[0m\u001b[0;34m:\u001b[0m\u001b[0;34m,\u001b[0m\u001b[0;34m:\u001b[0m\u001b[0;34m,\u001b[0m\u001b[0;36m0\u001b[0m\u001b[0;34m]\u001b[0m\u001b[0;34m,\u001b[0m\u001b[0mcmap\u001b[0m\u001b[0;34m=\u001b[0m\u001b[0;34m'inferno'\u001b[0m\u001b[0;34m)\u001b[0m\u001b[0;34m\u001b[0m\u001b[0;34m\u001b[0m\u001b[0m\n\u001b[0;32m----> 5\u001b[0;31m \u001b[0mplt\u001b[0m\u001b[0;34m.\u001b[0m\u001b[0maxis\u001b[0m\u001b[0;34m(\u001b[0m\u001b[0;34m'off'\u001b[0m\u001b[0;34m)\u001b[0m\u001b[0;34m\u001b[0m\u001b[0;34m\u001b[0m\u001b[0m\n\u001b[0m",
            "\u001b[0;31mTypeError\u001b[0m: 'str' object is not callable"
          ]
        },
        {
          "output_type": "display_data",
          "data": {
            "image/png": "[encoded data removed]",
            "text/plain": [
              "<Figure size 360x360 with 1 Axes>"
            ]
          },
          "metadata": {
            "tags": [],
            "needs_background": "light"
          }
        }
      ]
    },
    {
      "cell_type": "code",
      "metadata": {
        "id": "JJrSFQ7h4Ngq",
        "colab_type": "code",
        "colab": {}
      },
      "source": [
        ""
      ],
      "execution_count": null,
      "outputs": []
    },
    {
      "cell_type": "markdown",
      "metadata": {
        "id": "1uO9sg7b4UTu",
        "colab_type": "text"
      },
      "source": [
        "# Running the model in predict mode to get the activation layer"
      ]
    },
    {
      "cell_type": "markdown",
      "metadata": {
        "id": "fRjGN8Sz4e9b",
        "colab_type": "text"
      },
      "source": [
        "When an image is fed to the model it returns the values of the layer activations im the original model."
      ]
    },
    {
      "cell_type": "code",
      "metadata": {
        "id": "8wgSSVV34nbr",
        "colab_type": "code",
        "colab": {
          "base_uri": "https://localhost:8080/",
          "height": 35
        },
        "outputId": "a52c646d-8364-40e9-be51-f0d90eb95dd9"
      },
      "source": [
        "activations=activation_model.predict(img_tensor)\n",
        "print('Number of layer activation:'+ str(len(activations)) )"
      ],
      "execution_count": null,
      "outputs": [
        {
          "output_type": "stream",
          "text": [
            "Number of layer activation:7\n"
          ],
          "name": "stdout"
        }
      ]
    },
    {
      "cell_type": "code",
      "metadata": {
        "id": "ubjEMPq65L6Q",
        "colab_type": "code",
        "colab": {
          "base_uri": "https://localhost:8080/",
          "height": 35
        },
        "outputId": "3075a5e8-f0e5-4710-806c-6d3c973fbc88"
      },
      "source": [
        "#activation of the first convolution layer for the input\n",
        "first_layer_activation=activations[0]\n",
        "print(first_layer_activation.shape)"
      ],
      "execution_count": null,
      "outputs": [
        {
          "output_type": "stream",
          "text": [
            "(1, 26, 26, 32)\n"
          ],
          "name": "stdout"
        }
      ]
    },
    {
      "cell_type": "code",
      "metadata": {
        "id": "1rSAlcss5ga0",
        "colab_type": "code",
        "colab": {
          "base_uri": "https://localhost:8080/",
          "height": 436
        },
        "outputId": "20f44504-c061-42ee-e2ff-a2fb222bfa80"
      },
      "source": [
        "print(model.summary())"
      ],
      "execution_count": null,
      "outputs": [
        {
          "output_type": "stream",
          "text": [
            "Model: \"sequential\"\n",
            "_________________________________________________________________\n",
            "Layer (type)                 Output Shape              Param #   \n",
            "=================================================================\n",
            "conv2d (Conv2D)              (None, 26, 26, 32)        320       \n",
            "_________________________________________________________________\n",
            "conv2d_1 (Conv2D)            (None, 24, 24, 64)        18496     \n",
            "_________________________________________________________________\n",
            "max_pooling2d (MaxPooling2D) (None, 12, 12, 64)        0         \n",
            "_________________________________________________________________\n",
            "dropout (Dropout)            (None, 12, 12, 64)        0         \n",
            "_________________________________________________________________\n",
            "flatten (Flatten)            (None, 9216)              0         \n",
            "_________________________________________________________________\n",
            "dropout_1 (Dropout)          (None, 9216)              0         \n",
            "_________________________________________________________________\n",
            "dense (Dense)                (None, 10)                92170     \n",
            "=================================================================\n",
            "Total params: 110,986\n",
            "Trainable params: 110,986\n",
            "Non-trainable params: 0\n",
            "_________________________________________________________________\n",
            "None\n"
          ],
          "name": "stdout"
        }
      ]
    },
    {
      "cell_type": "markdown",
      "metadata": {
        "id": "ThjTQmTL6rRu",
        "colab_type": "text"
      },
      "source": [
        "Output of the first activation layer can be seen to be of the same shape as the output of the first Convolution layer.\n",
        "We then plot the 4th conv channel/filter of the activation of the 1st layer of the original model"
      ]
    },
    {
      "cell_type": "markdown",
      "metadata": {
        "id": "yowcE8fc7Pcu",
        "colab_type": "text"
      },
      "source": [
        "[link text](https://)"
      ]
    },
    {
      "cell_type": "markdown",
      "metadata": {
        "id": "E9PA6Nos7Q02",
        "colab_type": "text"
      },
      "source": [
        "# The output of the 4th conv filter in the 1st conv layer"
      ]
    },
    {
      "cell_type": "code",
      "metadata": {
        "id": "6wqZ0XDf7VkL",
        "colab_type": "code",
        "colab": {
          "base_uri": "https://localhost:8080/",
          "height": 293
        },
        "outputId": "18f2688f-d264-4cf5-a833-4ed57981ebe0"
      },
      "source": [
        "plt.matshow(first_layer_activation[0,:,:,3],cmap='viridis')"
      ],
      "execution_count": null,
      "outputs": [
        {
          "output_type": "execute_result",
          "data": {
            "text/plain": [
              "<matplotlib.image.AxesImage at 0x7f1febf81cc0>"
            ]
          },
          "metadata": {
            "tags": []
          },
          "execution_count": 37
        },
        {
          "output_type": "display_data",
          "data": {
            "image/png": "[encoded data removed]",
            "text/plain": [
              "<Figure size 288x288 with 1 Axes>"
            ]
          },
          "metadata": {
            "tags": [],
            "needs_background": "light"
          }
        }
      ]
    },
    {
      "cell_type": "markdown",
      "metadata": {
        "id": "sKZRq3Lm7t1_",
        "colab_type": "text"
      },
      "source": [
        "# A function that displays the activations of specific layers"
      ]
    },
    {
      "cell_type": "code",
      "metadata": {
        "id": "y1sTdETl7ypS",
        "colab_type": "code",
        "colab": {
          "base_uri": "https://localhost:8080/",
          "height": 621
        },
        "outputId": "5b95fef6-6037-406b-c4e0-832299b3e13c"
      },
      "source": [
        "def display_activations(activations,col_size,row_size,act_index):\n",
        "  activation = activations[act_index]\n",
        "  activation_index = 0\n",
        "  fig,ax = plt.subplots(row_size,col_size, figsize=(row_size*2.5,col_size*1.5))\n",
        "  for row in range(0,row_size):\n",
        "    for col in range(0,col_size):\n",
        "      ax[row][col].imshow(activation[0,:,:,activation_index],cmap = 'viridis')\n",
        "      activation_index += 1\n",
        "\n",
        "display_activations(activations,8,4,1)"
      ],
      "execution_count": null,
      "outputs": [
        {
          "output_type": "display_data",
          "data": {
            "image/png": "[encoded data removed]",
            "text/plain": [
              "<Figure size 720x864 with 32 Axes>"
            ]
          },
          "metadata": {
            "tags": [],
            "needs_background": "light"
          }
        }
      ]
    },
    {
      "cell_type": "markdown",
      "metadata": {
        "id": "aoutVMbU-n2H",
        "colab_type": "text"
      },
      "source": [
        "#Part 3:Transfer Learning: Understanding Transfer of Learning"
      ]
    },
    {
      "cell_type": "markdown",
      "metadata": {
        "id": "d5xH6QbGroRb",
        "colab_type": "text"
      },
      "source": [
        "Objective: Use Transfer Learning to improve accuracy on the CIFAR10 dataset.\n",
        "Purpose: To help experience using pre-trained models."
      ]
    },
    {
      "cell_type": "markdown",
      "metadata": {
        "id": "mgrx1wzefN5H",
        "colab_type": "text"
      },
      "source": [
        "**Workflow**\n",
        "1.Load the CIFAR10 dataset (keras dataset) and train a Deeper CNN with various configurations.\n",
        "\n",
        "2. Train this CNN for 10 Epochs or more using a Batch Size/ of 32 (batch size does not matter significantly as this depends on RAM size)\n",
        "-Examine the perfomance metrics of trained CNN. The accuracy after 10 Epochs should be between 60 and 65% on the test data.\n",
        "How we can perfom better on this.\n",
        "\n",
        "3. See what our CNN is capable of by testing the model on some of the Test images used in part 1. How would you compare this classification perfomance to a human.\n",
        "\n",
        "4. The model created could be dissapointing, we then use the Transfer learning to significantly improve it. (Load the weight of a pre-trained CNN such as VGG16)- to import that model: from tensorflow.keras.applications import vgg16 as vgg.\n",
        "\n",
        "5. Do not include top layer when loading,, we are using this model to apply the concept of Transfer Learning- the function *vgg.VGG16(weights='imagenet', include_top=False,input_shape=(48,48,3))*\n",
        "\n",
        "6. Extract the last layer from the 3rd block of the VGG16 model. We will be usiong the VGG model uptpp *block3_pool*\n",
        "\n",
        "7. Add the classification layers for the CIFAR10 classed on top of it.\n",
        "\n",
        "8. Freeze all layers in the pretrained VGG16 model since we will be reusing them and compile the merged model. Iterare through out base_model.layers and set the trainable parameter to be false by using layer.trainable=false\n",
        "\n",
        "9. Keras data generator loading the image data.\n",
        "\n",
        "10. Train the model and atleast 5 (10 is best) epochs and note the improvement.\n",
        "\n",
        "11. Visualize the filters of the pre-trained VGG16 model- Reload the VGG16 model, extract the convolution layers since we want the filters and biased values of these. We will inspect the bias and weights usinbg 3rd convlayer using get_wights(). ==a good idea of what filters and biases are.\n",
        "\n",
        "\n",
        "12. 12. Plot the first 6 conv filters- First normalixe the filter values (0-1) --get filters using f=filters[:,:,:,i]. Plot and visualixe it using plt.imshow(f[f:,:,:,j], cmap='gray')\n",
        "\n",
        "13. Visulaize the features map of the VGG16 by running an input image (Create your own image) through the model. --redefine the model to output right after the 1st hidden layer using model=Model(input=model.inout,outputs=model.layers[1].output.\n",
        "Using the inbuilt keras preprocessing functions load_img and img_to_img along the numpy's expand_dims and keras VGG16 funtion from tensorflow.keras.applictions.vgg16 import preprocess_input\n",
        "\n",
        "14. plot these features maps for the output of the 5 convolution blocks indexed as [2,5,9,13,17]"
      ]
    },
    {
      "cell_type": "markdown",
      "metadata": {
        "id": "57StunADqV2Y",
        "colab_type": "text"
      },
      "source": [
        "# Training model for CIFAR10 using Deeper CNN"
      ]
    },
    {
      "cell_type": "code",
      "metadata": {
        "id": "zVBLMwhlqon_",
        "colab_type": "code",
        "colab": {}
      },
      "source": [
        "from __future__ import print_function\n",
        "from tensorflow.keras.datasets import cifar10\n",
        "from tensorflow.keras.preprocessing.image import ImageDataGenerator\n",
        "from tensorflow.keras.models import Sequential\n",
        "from tensorflow.keras.layers import Dense,Dropout,Activation,Flatten\n",
        "from tensorflow.keras.layers import Conv2D, MaxPooling2D\n",
        "from tensorflow.keras.models import load_model\n",
        "from tensorflow.keras.utils import to_categorical\n",
        "from tensorflow.keras.optimizers import SGD\n",
        "import os"
      ],
      "execution_count": null,
      "outputs": []
    },
    {
      "cell_type": "code",
      "metadata": {
        "id": "eDvoP5QxrzB4",
        "colab_type": "code",
        "colab": {}
      },
      "source": [
        "batch_size=32\n",
        "num_classes=10\n",
        "epochs=10\n"
      ],
      "execution_count": null,
      "outputs": []
    },
    {
      "cell_type": "code",
      "metadata": {
        "id": "FVLNNglnr-vE",
        "colab_type": "code",
        "colab": {
          "base_uri": "https://localhost:8080/",
          "height": 53
        },
        "outputId": "8a7b13a0-eafe-46cf-8160-146f26f0ca2a"
      },
      "source": [
        "#load the CIFAR10 dataset\n",
        "\n",
        "(x_train,y_train),(x_test,y_test) = cifar10.load_data()"
      ],
      "execution_count": null,
      "outputs": [
        {
          "output_type": "stream",
          "text": [
            "Downloading data from https://www.cs.toronto.edu/~kriz/cifar-10-python.tar.gz\n",
            "170500096/170498071 [==============================] - 2s 0us/step\n"
          ],
          "name": "stdout"
        }
      ]
    },
    {
      "cell_type": "code",
      "metadata": {
        "id": "cN-1n8u1sTen",
        "colab_type": "code",
        "colab": {
          "base_uri": "https://localhost:8080/",
          "height": 72
        },
        "outputId": "2a2c4f19-d7dc-4d58-a189-8d1e662a7ea4"
      },
      "source": [
        "#Display data shape/dimesions\n",
        "print('x_train shape',x_train.shape)\n",
        "print(x_train.shape[0],'train samples')\n",
        "print(x_test.shape[0],'test samples')"
      ],
      "execution_count": null,
      "outputs": [
        {
          "output_type": "stream",
          "text": [
            "x_train shape (50000, 32, 32, 3)\n",
            "50000 train samples\n",
            "10000 test samples\n"
          ],
          "name": "stdout"
        }
      ]
    },
    {
      "cell_type": "code",
      "metadata": {
        "id": "psFEpj7ks207",
        "colab_type": "code",
        "colab": {}
      },
      "source": [
        "#Format the trainging data by normalizing and changing data type\n",
        "x_train=x_train.astype('float32')\n",
        "x_test=x_test.astype('float32')\n",
        "x_train/=255\n",
        "x_test/=255"
      ],
      "execution_count": null,
      "outputs": []
    },
    {
      "cell_type": "code",
      "metadata": {
        "id": "J2hsH2VWtTxZ",
        "colab_type": "code",
        "colab": {}
      },
      "source": [
        "#one hot encode outputs\n",
        "y_train=to_categorical(y_train,num_classes)\n",
        "y_test=to_categorical(y_test,num_classes)"
      ],
      "execution_count": null,
      "outputs": []
    },
    {
      "cell_type": "code",
      "metadata": {
        "id": "GjxQmmLBtl5n",
        "colab_type": "code",
        "colab": {
          "base_uri": "https://localhost:8080/",
          "height": 836
        },
        "outputId": "084c5776-e721-47d0-99d1-ac28e6a1d32d"
      },
      "source": [
        "model=Sequential()\n",
        "#Padding = 'same' results in padding the input such that\n",
        "#the output has the same length as the original input\n",
        "model.add(Conv2D(32,(3,3),padding='same',input_shape=x_train.shape[1:]))\n",
        "model.add(Activation('relu'))\n",
        "model.add(Conv2D(32,(3,3)))\n",
        "model.add(Activation('relu'))\n",
        "model.add(MaxPooling2D(pool_size=(2,2)))\n",
        "model.add(Dropout(0.25))\n",
        " \n",
        "model.add(Conv2D(64,(3,3),padding='same'))\n",
        "model.add(Activation('relu'))\n",
        "model.add(Conv2D(64,(3,3)))\n",
        "model.add(Activation('relu'))\n",
        "model.add(MaxPooling2D(pool_size=(2,2)))\n",
        "model.add(Dropout(0.25))\n",
        " \n",
        "model.add(Flatten())\n",
        "model.add(Dense(512))\n",
        "model.add(Activation('relu'))\n",
        "model.add(Dropout(0.5))\n",
        "model.add(Dense(num_classes))\n",
        "model.add(Activation('softmax'))\n",
        " \n",
        "#model build\n",
        "model.compile(loss='categorical_crossentropy',optimizer=SGD(0.01),metrics=['accuracy'])\n",
        "print(model.summary())"
      ],
      "execution_count": null,
      "outputs": [
        {
          "output_type": "stream",
          "text": [
            "Model: \"sequential\"\n",
            "_________________________________________________________________\n",
            "Layer (type)                 Output Shape              Param #   \n",
            "=================================================================\n",
            "conv2d (Conv2D)              (None, 32, 32, 32)        896       \n",
            "_________________________________________________________________\n",
            "activation (Activation)      (None, 32, 32, 32)        0         \n",
            "_________________________________________________________________\n",
            "conv2d_1 (Conv2D)            (None, 30, 30, 32)        9248      \n",
            "_________________________________________________________________\n",
            "activation_1 (Activation)    (None, 30, 30, 32)        0         \n",
            "_________________________________________________________________\n",
            "max_pooling2d (MaxPooling2D) (None, 15, 15, 32)        0         \n",
            "_________________________________________________________________\n",
            "dropout (Dropout)            (None, 15, 15, 32)        0         \n",
            "_________________________________________________________________\n",
            "conv2d_2 (Conv2D)            (None, 15, 15, 64)        18496     \n",
            "_________________________________________________________________\n",
            "activation_2 (Activation)    (None, 15, 15, 64)        0         \n",
            "_________________________________________________________________\n",
            "conv2d_3 (Conv2D)            (None, 13, 13, 64)        36928     \n",
            "_________________________________________________________________\n",
            "activation_3 (Activation)    (None, 13, 13, 64)        0         \n",
            "_________________________________________________________________\n",
            "max_pooling2d_1 (MaxPooling2 (None, 6, 6, 64)          0         \n",
            "_________________________________________________________________\n",
            "dropout_1 (Dropout)          (None, 6, 6, 64)          0         \n",
            "_________________________________________________________________\n",
            "flatten (Flatten)            (None, 2304)              0         \n",
            "_________________________________________________________________\n",
            "dense (Dense)                (None, 512)               1180160   \n",
            "_________________________________________________________________\n",
            "activation_4 (Activation)    (None, 512)               0         \n",
            "_________________________________________________________________\n",
            "dropout_2 (Dropout)          (None, 512)               0         \n",
            "_________________________________________________________________\n",
            "dense_1 (Dense)              (None, 10)                5130      \n",
            "_________________________________________________________________\n",
            "activation_5 (Activation)    (None, 10)                0         \n",
            "=================================================================\n",
            "Total params: 1,250,858\n",
            "Trainable params: 1,250,858\n",
            "Non-trainable params: 0\n",
            "_________________________________________________________________\n",
            "None\n"
          ],
          "name": "stdout"
        }
      ]
    },
    {
      "cell_type": "markdown",
      "metadata": {
        "id": "-7OVk-O_wny_",
        "colab_type": "text"
      },
      "source": [
        "# Training the model"
      ]
    },
    {
      "cell_type": "code",
      "metadata": {
        "id": "hTNjSHKqwsgb",
        "colab_type": "code",
        "colab": {
          "base_uri": "https://localhost:8080/",
          "height": 401
        },
        "outputId": "20a8e369-b6df-4afc-98f7-b8e2d964e52a"
      },
      "source": [
        "history=model.fit(x_train,y_train,batch_size=batch_size,epochs=epochs,validation_data=(x_test,y_test),shuffle=True,verbose=1)\n",
        "model.save('cifar_simple_cnn_2.h5')"
      ],
      "execution_count": null,
      "outputs": [
        {
          "output_type": "stream",
          "text": [
            "Epoch 1/10\n",
            "1563/1563 [==============================] - 283s 181ms/step - loss: 2.0836 - accuracy: 0.2260 - val_loss: 1.8204 - val_accuracy: 0.3492\n",
            "Epoch 2/10\n",
            "1563/1563 [==============================] - 282s 181ms/step - loss: 1.7645 - accuracy: 0.3561 - val_loss: 1.5682 - val_accuracy: 0.4250\n",
            "Epoch 3/10\n",
            "1563/1563 [==============================] - 282s 180ms/step - loss: 1.5725 - accuracy: 0.4274 - val_loss: 1.5044 - val_accuracy: 0.4543\n",
            "Epoch 4/10\n",
            "1563/1563 [==============================] - 298s 191ms/step - loss: 1.4485 - accuracy: 0.4729 - val_loss: 1.3173 - val_accuracy: 0.5333\n",
            "Epoch 5/10\n",
            "1563/1563 [==============================] - 284s 182ms/step - loss: 1.3611 - accuracy: 0.5101 - val_loss: 1.2445 - val_accuracy: 0.5498\n",
            "Epoch 6/10\n",
            "1563/1563 [==============================] - 289s 185ms/step - loss: 1.2864 - accuracy: 0.5400 - val_loss: 1.2631 - val_accuracy: 0.5604\n",
            "Epoch 7/10\n",
            "1563/1563 [==============================] - 287s 184ms/step - loss: 1.2277 - accuracy: 0.5614 - val_loss: 1.1055 - val_accuracy: 0.6108\n",
            "Epoch 8/10\n",
            "1563/1563 [==============================] - 286s 183ms/step - loss: 1.1700 - accuracy: 0.5838 - val_loss: 1.0659 - val_accuracy: 0.6239\n",
            "Epoch 9/10\n",
            "1563/1563 [==============================] - 277s 177ms/step - loss: 1.1164 - accuracy: 0.6041 - val_loss: 1.0065 - val_accuracy: 0.6428\n",
            "Epoch 10/10\n",
            "1563/1563 [==============================] - 295s 189ms/step - loss: 1.0756 - accuracy: 0.6181 - val_loss: 1.0512 - val_accuracy: 0.6296\n"
          ],
          "name": "stdout"
        }
      ]
    },
    {
      "cell_type": "code",
      "metadata": {
        "id": "F069E9Lq7XJi",
        "colab_type": "code",
        "colab": {
          "base_uri": "https://localhost:8080/",
          "height": 72
        },
        "outputId": "19ae7787-9cb7-482a-ac65-e004fdbd283c"
      },
      "source": [
        "#Evaluate perfomance of trained model\n",
        "scores=model.evaluate(x_test,y_test,verbose=1)\n",
        "print('Test loss', scores[0])\n",
        "print('Test accuracy', scores[1])"
      ],
      "execution_count": null,
      "outputs": [
        {
          "output_type": "stream",
          "text": [
            "313/313 [==============================] - 15s 47ms/step - loss: 1.0512 - accuracy: 0.6296\n",
            "Test loss 1.0511783361434937\n",
            "Test accuracy 0.6295999884605408\n"
          ],
          "name": "stdout"
        }
      ]
    },
    {
      "cell_type": "code",
      "metadata": {
        "id": "6aNHCJcG7tkH",
        "colab_type": "code",
        "colab": {}
      },
      "source": [
        ""
      ],
      "execution_count": null,
      "outputs": []
    },
    {
      "cell_type": "markdown",
      "metadata": {
        "id": "IbLfrFqa7yVK",
        "colab_type": "text"
      },
      "source": [
        "# Test on some of the Test Images"
      ]
    },
    {
      "cell_type": "code",
      "metadata": {
        "id": "aR2yIHxw72pt",
        "colab_type": "code",
        "colab": {}
      },
      "source": [
        "#create function to get class label\n",
        "def getName(label,class_labels):\n",
        "  return class_labels.get(int(label))"
      ],
      "execution_count": null,
      "outputs": []
    },
    {
      "cell_type": "code",
      "metadata": {
        "id": "R16zNBLB8FRI",
        "colab_type": "code",
        "colab": {}
      },
      "source": [
        "import numpy as np\n",
        "import matplotlib.pyplot as plt\n",
        "import cv2\n",
        "class_labels={0:'airplane',1:'automobile',2:'bird',3:'cat',4:'deer',5:'dog',6:'frog',7:'horse',8:'ship',9:'truck'}\n"
      ],
      "execution_count": null,
      "outputs": []
    },
    {
      "cell_type": "code",
      "metadata": {
        "id": "LIlKOGVdAr6X",
        "colab_type": "code",
        "colab": {
          "base_uri": "https://localhost:8080/",
          "height": 199
        },
        "outputId": "1a6b5cc2-7b61-47b3-ea1c-8cb99320420c"
      },
      "source": [
        "class_labels"
      ],
      "execution_count": null,
      "outputs": [
        {
          "output_type": "execute_result",
          "data": {
            "text/plain": [
              "{0: 'airplane',\n",
              " 1: 'automobile',\n",
              " 2: 'bird',\n",
              " 3: 'cat',\n",
              " 4: 'deer',\n",
              " 5: 'dog',\n",
              " 6: 'frog',\n",
              " 7: 'horse',\n",
              " 8: 'ship',\n",
              " 9: 'truck'}"
            ]
          },
          "metadata": {
            "tags": []
          },
          "execution_count": 15
        }
      ]
    },
    {
      "cell_type": "code",
      "metadata": {
        "id": "GQkRdaY9CBhw",
        "colab_type": "code",
        "colab": {
          "base_uri": "https://localhost:8080/",
          "height": 220
        },
        "outputId": "0b237338-d611-4d63-a4d9-a1e3b9c7902c"
      },
      "source": [
        "figure=plt.figure(figsize=(20,20))\n",
        "for i in range(5):\n",
        "  figure.add_subplot(1,5,i+1)\n",
        "  random_idx=np.random.randint(0,len(x_test))\n",
        "  plt.imshow(x_test[random_idx])\n",
        "  plt.axis('off')\n",
        "  label=np.squeeze(np.argmax(model.predict(x_test[random_idx].reshape(1,32,32,3)),axis=1),axis=0)\n",
        "  print(getName(label,class_labels), end='\\t')"
      ],
      "execution_count": null,
      "outputs": [
        {
          "output_type": "stream",
          "text": [
            "cat\tairplane\ttruck\tship\tautomobile\t"
          ],
          "name": "stdout"
        },
        {
          "output_type": "display_data",
          "data": {
            "image/png": "[encoded data removed]",
            "text/plain": [
              "<Figure size 1440x1440 with 5 Axes>"
            ]
          },
          "metadata": {
            "tags": [],
            "needs_background": "light"
          }
        }
      ]
    },
    {
      "cell_type": "markdown",
      "metadata": {
        "id": "LuJVP2Ul_M6P",
        "colab_type": "text"
      },
      "source": [
        "# Now lets use transfer learning to get better accuracy\n",
        "\n",
        "---\n",
        "\n"
      ]
    },
    {
      "cell_type": "code",
      "metadata": {
        "id": "cC5SclSA_Tn4",
        "colab_type": "code",
        "colab": {}
      },
      "source": [
        "#Perfom the imports\n",
        "import tensorflow as tf\n",
        "from tensorflow.keras import callbacks\n",
        "from tensorflow.keras import optimizers\n",
        "from tensorflow.keras.datasets import cifar10\n",
        "from tensorflow.keras import Model\n",
        "from tensorflow.keras.applications import vgg16 as vgg\n",
        "from tensorflow.keras.layers import Dropout, Flatten, Dense, GlobalAveragePooling2D, BatchNormalization\n",
        "from tensorflow.keras.preprocessing.image import ImageDataGenerator\n",
        "\n",
        "\n",
        "#define some parameters\n",
        "BATCH_SIZE=32\n",
        "EPOCHS=5\n",
        "NUM_CLASSES=10\n",
        "LEARNING_RATE=1E-4 \n",
        "MOMENTUM=0.9\n",
        "\n",
        "#IMPORT  scipy yo resize our images quickly\n",
        "import scipy.misc\n",
        "(x_train,y_train),(x_test,y_test)=cifar10.load_data()\n",
        "x_train=np.array([cv2.resize(x,(48,48), interpolation=cv2.INTER_AREA) for x in x_train])\n",
        "x_test=np.array([cv2.resize(x,(48,48), interpolation=cv2.INTER_AREA) for x in x_test])"
      ],
      "execution_count": null,
      "outputs": []
    },
    {
      "cell_type": "code",
      "metadata": {
        "id": "Rk6Dj-74I7CD",
        "colab_type": "code",
        "colab": {}
      },
      "source": [
        "#perfom hot one encoding\n",
        "from tensorflow.keras.utils import to_categorical\n",
        "y_train=to_categorical(y_train, NUM_CLASSES)\n",
        "y_test=to_categorical(y_test, NUM_CLASSES)"
      ],
      "execution_count": null,
      "outputs": []
    },
    {
      "cell_type": "markdown",
      "metadata": {
        "id": "jCJbs06OJUDc",
        "colab_type": "text"
      },
      "source": [
        ""
      ]
    },
    {
      "cell_type": "markdown",
      "metadata": {
        "id": "Rqi2n-hfJUdm",
        "colab_type": "text"
      },
      "source": [
        "#Import the pre-trained model VGG16, but without the 'HEAD' Layer"
      ]
    },
    {
      "cell_type": "code",
      "metadata": {
        "id": "9IgtELL9JcrS",
        "colab_type": "code",
        "colab": {
          "base_uri": "https://localhost:8080/",
          "height": 73
        },
        "outputId": "c24adc22-a313-4b03-fb3c-9c17bdac2aa8"
      },
      "source": [
        "from tensorflow.keras.applications import vgg16 as vgg\n",
        "base_model=vgg.VGG16(weights='imagenet',include_top=False, input_shape=(48,48,3))\n"
      ],
      "execution_count": null,
      "outputs": [
        {
          "output_type": "stream",
          "text": [
            "Downloading data from https://storage.googleapis.com/tensorflow/keras-applications/vgg16/vgg16_weights_tf_dim_ordering_tf_kernels_notop.h5\n",
            "58892288/58889256 [==============================] - 1s 0us/step\n"
          ],
          "name": "stdout"
        }
      ]
    },
    {
      "cell_type": "markdown",
      "metadata": {
        "id": "wuC74EvCJ4z4",
        "colab_type": "text"
      },
      "source": [
        "#Extract the last layer from the 3rd block of the VGG16 model"
      ]
    },
    {
      "cell_type": "code",
      "metadata": {
        "id": "x3hJR0VFKAER",
        "colab_type": "code",
        "colab": {}
      },
      "source": [
        "last=base_model.get_layer('block3_pool').output"
      ],
      "execution_count": null,
      "outputs": []
    },
    {
      "cell_type": "code",
      "metadata": {
        "id": "QSeaEcokKO7q",
        "colab_type": "code",
        "colab": {
          "base_uri": "https://localhost:8080/",
          "height": 35
        },
        "outputId": "4e85f6a2-e460-4828-ac7c-92d0f7fb52f4"
      },
      "source": [
        "last"
      ],
      "execution_count": null,
      "outputs": [
        {
          "output_type": "execute_result",
          "data": {
            "text/plain": [
              "<tf.Tensor 'block3_pool/MaxPool:0' shape=(None, 6, 6, 256) dtype=float32>"
            ]
          },
          "metadata": {
            "tags": []
          },
          "execution_count": 7
        }
      ]
    },
    {
      "cell_type": "markdown",
      "metadata": {
        "id": "i5eclAL5KUef",
        "colab_type": "text"
      },
      "source": [
        "# Add classification layers on top of it\n"
      ]
    },
    {
      "cell_type": "code",
      "metadata": {
        "id": "VLQ7LeTHKaWv",
        "colab_type": "code",
        "colab": {}
      },
      "source": [
        "#Add classification layers on top of it\n",
        "#x is our model that we're putting  ontop part of our pre-trained model\n",
        "x=GlobalAveragePooling2D()(last)\n",
        "x=BatchNormalization()(x)\n",
        "x=Dense(256,activation='relu')(x)\n",
        "x=Dense(256,activation='relu')(x)\n",
        "x=Dropout(0.5)(x)\n",
        "\n",
        "#Make our top model\n",
        "number_of_classes=10\n",
        "top=Dense(number_of_classes,activation='softmax') (x)\n",
        "\n",
        "#construct full model\n",
        "model=Model(base_model.input,top)\n"
      ],
      "execution_count": null,
      "outputs": []
    },
    {
      "cell_type": "code",
      "metadata": {
        "id": "Ir1FygC8Lc9d",
        "colab_type": "code",
        "colab": {}
      },
      "source": [
        ""
      ],
      "execution_count": null,
      "outputs": []
    },
    {
      "cell_type": "markdown",
      "metadata": {
        "id": "wbF5oQRrLeAL",
        "colab_type": "text"
      },
      "source": [
        "# Freeze all layers in the model as we'll be reusing them"
      ]
    },
    {
      "cell_type": "code",
      "metadata": {
        "id": "Bub--sXRLnV5",
        "colab_type": "code",
        "colab": {}
      },
      "source": [
        "#iterate through the base model to 'freeze' the layer so that we dont train them\n",
        "\n",
        "for layer in base_model.layers:\n",
        "  layer.trainable=False"
      ],
      "execution_count": null,
      "outputs": []
    },
    {
      "cell_type": "markdown",
      "metadata": {
        "id": "4UdYW3-FL76M",
        "colab_type": "text"
      },
      "source": [
        "# Compare merged model"
      ]
    },
    {
      "cell_type": "code",
      "metadata": {
        "id": "za38ynG3SWsg",
        "colab_type": "code",
        "colab": {}
      },
      "source": [
        "#compiling the merge\n",
        "model.compile(loss='binary_crossentropy', optimizer=optimizers.Adam(lr=1e-4),metrics=['accuracy'])"
      ],
      "execution_count": null,
      "outputs": []
    },
    {
      "cell_type": "markdown",
      "metadata": {
        "id": "H4rgQwtIMUY2",
        "colab_type": "text"
      },
      "source": [
        "# Model Summary"
      ]
    },
    {
      "cell_type": "code",
      "metadata": {
        "id": "_y4Fd8zdMXH8",
        "colab_type": "code",
        "colab": {
          "base_uri": "https://localhost:8080/",
          "height": 781
        },
        "outputId": "c744ee1c-7927-41fb-9a99-5b43cf575c4f"
      },
      "source": [
        "model.summary()"
      ],
      "execution_count": null,
      "outputs": [
        {
          "output_type": "stream",
          "text": [
            "Model: \"functional_1\"\n",
            "_________________________________________________________________\n",
            "Layer (type)                 Output Shape              Param #   \n",
            "=================================================================\n",
            "input_1 (InputLayer)         [(None, 48, 48, 3)]       0         \n",
            "_________________________________________________________________\n",
            "block1_conv1 (Conv2D)        (None, 48, 48, 64)        1792      \n",
            "_________________________________________________________________\n",
            "block1_conv2 (Conv2D)        (None, 48, 48, 64)        36928     \n",
            "_________________________________________________________________\n",
            "block1_pool (MaxPooling2D)   (None, 24, 24, 64)        0         \n",
            "_________________________________________________________________\n",
            "block2_conv1 (Conv2D)        (None, 24, 24, 128)       73856     \n",
            "_________________________________________________________________\n",
            "block2_conv2 (Conv2D)        (None, 24, 24, 128)       147584    \n",
            "_________________________________________________________________\n",
            "block2_pool (MaxPooling2D)   (None, 12, 12, 128)       0         \n",
            "_________________________________________________________________\n",
            "block3_conv1 (Conv2D)        (None, 12, 12, 256)       295168    \n",
            "_________________________________________________________________\n",
            "block3_conv2 (Conv2D)        (None, 12, 12, 256)       590080    \n",
            "_________________________________________________________________\n",
            "block3_conv3 (Conv2D)        (None, 12, 12, 256)       590080    \n",
            "_________________________________________________________________\n",
            "block3_pool (MaxPooling2D)   (None, 6, 6, 256)         0         \n",
            "_________________________________________________________________\n",
            "global_average_pooling2d (Gl (None, 256)               0         \n",
            "_________________________________________________________________\n",
            "batch_normalization (BatchNo (None, 256)               1024      \n",
            "_________________________________________________________________\n",
            "dense (Dense)                (None, 256)               65792     \n",
            "_________________________________________________________________\n",
            "dense_1 (Dense)              (None, 256)               65792     \n",
            "_________________________________________________________________\n",
            "dropout (Dropout)            (None, 256)               0         \n",
            "_________________________________________________________________\n",
            "dense_2 (Dense)              (None, 10)                2570      \n",
            "=================================================================\n",
            "Total params: 1,870,666\n",
            "Trainable params: 134,666\n",
            "Non-trainable params: 1,736,000\n",
            "_________________________________________________________________\n"
          ],
          "name": "stdout"
        }
      ]
    },
    {
      "cell_type": "markdown",
      "metadata": {
        "id": "u95BS8qBMqcK",
        "colab_type": "text"
      },
      "source": [
        "# Setup to use the Data Generator Function"
      ]
    },
    {
      "cell_type": "code",
      "metadata": {
        "id": "Bx2GqAhF4G7S",
        "colab_type": "code",
        "colab": {}
      },
      "source": [
        "train_datagen=ImageDataGenerator(rescale=1.0 /255,horizontal_flip=False)"
      ],
      "execution_count": null,
      "outputs": []
    },
    {
      "cell_type": "code",
      "metadata": {
        "id": "rrkWKnbF4SSR",
        "colab_type": "code",
        "colab": {}
      },
      "source": [
        "#Use our Data Generator to get our data\n",
        "train_datagen.fit(x_train)\n",
        "train_generator=train_datagen.flow(x_train,y_train,batch_size=BATCH_SIZE)\n",
        "val_datagen=ImageDataGenerator(rescale=1.0/255, horizontal_flip=False)\n",
        "val_datagen.fit(x_test)\n",
        "val_generator=val_datagen.flow(x_test,y_test,batch_size=BATCH_SIZE)"
      ],
      "execution_count": null,
      "outputs": []
    },
    {
      "cell_type": "markdown",
      "metadata": {
        "id": "AEt2KOmy5GMR",
        "colab_type": "text"
      },
      "source": [
        "# Training the model"
      ]
    },
    {
      "cell_type": "code",
      "metadata": {
        "id": "TAi6W-hb5IlN",
        "colab_type": "code",
        "colab": {
          "base_uri": "https://localhost:8080/",
          "height": 274
        },
        "outputId": "a3f0c192-844e-4aad-b10c-ec8486a9098e"
      },
      "source": [
        "#We are ready to start training the model now\n",
        "train_steps_per_epoch=x_train.shape[0] // BATCH_SIZE\n",
        "val_steps_per_epoch=x_test.shape[0] // BATCH_SIZE\n",
        "history=model.fit_generator(train_generator,steps_per_epoch=train_steps_per_epoch, validation_data=val_generator,validation_steps=val_steps_per_epoch, epochs=EPOCHS, verbose=1)\n"
      ],
      "execution_count": null,
      "outputs": [
        {
          "output_type": "stream",
          "text": [
            "WARNING:tensorflow:From <ipython-input-14-33cfba47b0dc>:4: Model.fit_generator (from tensorflow.python.keras.engine.training) is deprecated and will be removed in a future version.\n",
            "Instructions for updating:\n",
            "Please use Model.fit, which supports generators.\n",
            "Epoch 1/5\n",
            "1562/1562 [==============================] - 13s 8ms/step - loss: 0.2318 - accuracy: 0.4681 - val_loss: 0.1745 - val_accuracy: 0.6235\n",
            "Epoch 2/5\n",
            "1562/1562 [==============================] - 12s 8ms/step - loss: 0.1805 - accuracy: 0.6079 - val_loss: 0.1532 - val_accuracy: 0.6699\n",
            "Epoch 3/5\n",
            "1562/1562 [==============================] - 12s 8ms/step - loss: 0.1635 - accuracy: 0.6476 - val_loss: 0.1423 - val_accuracy: 0.6927\n",
            "Epoch 4/5\n",
            "1562/1562 [==============================] - 12s 8ms/step - loss: 0.1537 - accuracy: 0.6714 - val_loss: 0.1358 - val_accuracy: 0.7072\n",
            "Epoch 5/5\n",
            "1562/1562 [==============================] - 12s 8ms/step - loss: 0.1460 - accuracy: 0.6883 - val_loss: 0.1312 - val_accuracy: 0.7152\n"
          ],
          "name": "stdout"
        }
      ]
    },
    {
      "cell_type": "markdown",
      "metadata": {
        "id": "cgfmfLdvAD_m",
        "colab_type": "text"
      },
      "source": [
        "with 5 EPOCHS our accuracy is ~ 72% compared to 62% with 10 Epochs. Furthermore using Transfer Learning for more EPOCHS allows us to attain even better accuracy than with previous model.  We therefore taking advantage of pre-trained model and training only the top layers, this allow us to take advantage of the pre-trained weights.  We need to check \"What exactly do these leanred weights know?\""
      ]
    },
    {
      "cell_type": "code",
      "metadata": {
        "id": "ij9qZkr56M7q",
        "colab_type": "code",
        "colab": {}
      },
      "source": [
        ""
      ],
      "execution_count": null,
      "outputs": []
    },
    {
      "cell_type": "markdown",
      "metadata": {
        "id": "5vR7RwUcBUyB",
        "colab_type": "text"
      },
      "source": [
        "#  Visualizing the filters of the pre-trained VGG16 model"
      ]
    },
    {
      "cell_type": "code",
      "metadata": {
        "id": "NE5SBeHMBcPm",
        "colab_type": "code",
        "colab": {}
      },
      "source": [
        "from tensorflow.keras.applications import vgg16 as vgg16\n",
        "model=vgg.VGG16(weights='imagenet', include_top=False)\n",
        "# get the symbolic outputs of each 'key' layer (we give them unique names)\n",
        "layer_dict=dict([(layer.name, layer) for layer in model.layers])"
      ],
      "execution_count": null,
      "outputs": []
    },
    {
      "cell_type": "code",
      "metadata": {
        "id": "XKqesnRKCEhN",
        "colab_type": "code",
        "colab": {
          "base_uri": "https://localhost:8080/",
          "height": 363
        },
        "outputId": "d982b890-419d-48b2-ea62-32146708c6c2"
      },
      "source": [
        "layer_dict"
      ],
      "execution_count": null,
      "outputs": [
        {
          "output_type": "execute_result",
          "data": {
            "text/plain": [
              "{'block1_conv1': <tensorflow.python.keras.layers.convolutional.Conv2D at 0x7f2326089b00>,\n",
              " 'block1_conv2': <tensorflow.python.keras.layers.convolutional.Conv2D at 0x7f232f0b82e8>,\n",
              " 'block1_pool': <tensorflow.python.keras.layers.pooling.MaxPooling2D at 0x7f2257a132e8>,\n",
              " 'block2_conv1': <tensorflow.python.keras.layers.convolutional.Conv2D at 0x7f2257ab0dd8>,\n",
              " 'block2_conv2': <tensorflow.python.keras.layers.convolutional.Conv2D at 0x7f2257a20080>,\n",
              " 'block2_pool': <tensorflow.python.keras.layers.pooling.MaxPooling2D at 0x7f2257a20780>,\n",
              " 'block3_conv1': <tensorflow.python.keras.layers.convolutional.Conv2D at 0x7f2257a20fd0>,\n",
              " 'block3_conv2': <tensorflow.python.keras.layers.convolutional.Conv2D at 0x7f2257a27dd8>,\n",
              " 'block3_conv3': <tensorflow.python.keras.layers.convolutional.Conv2D at 0x7f2257a2e160>,\n",
              " 'block3_pool': <tensorflow.python.keras.layers.pooling.MaxPooling2D at 0x7f2257a2eac8>,\n",
              " 'block4_conv1': <tensorflow.python.keras.layers.convolutional.Conv2D at 0x7f2257a365f8>,\n",
              " 'block4_conv2': <tensorflow.python.keras.layers.convolutional.Conv2D at 0x7f2257a3f470>,\n",
              " 'block4_conv3': <tensorflow.python.keras.layers.convolutional.Conv2D at 0x7f2257a3f898>,\n",
              " 'block4_pool': <tensorflow.python.keras.layers.pooling.MaxPooling2D at 0x7f2257a47470>,\n",
              " 'block5_conv1': <tensorflow.python.keras.layers.convolutional.Conv2D at 0x7f2257a47c50>,\n",
              " 'block5_conv2': <tensorflow.python.keras.layers.convolutional.Conv2D at 0x7f225686fac8>,\n",
              " 'block5_conv3': <tensorflow.python.keras.layers.convolutional.Conv2D at 0x7f225686fba8>,\n",
              " 'block5_pool': <tensorflow.python.keras.layers.pooling.MaxPooling2D at 0x7f22568787b8>,\n",
              " 'input_2': <tensorflow.python.keras.engine.input_layer.InputLayer at 0x7f2257a135c0>}"
            ]
          },
          "metadata": {
            "tags": []
          },
          "execution_count": 16
        }
      ]
    },
    {
      "cell_type": "code",
      "metadata": {
        "id": "JZWb9VtuCGyJ",
        "colab_type": "code",
        "colab": {
          "base_uri": "https://localhost:8080/",
          "height": 254
        },
        "outputId": "945a239b-ab8a-44dd-fc8b-8685ebb997d5"
      },
      "source": [
        "#summarize the filter shapes\n",
        "\n",
        "for layer in model.layers:\n",
        "  # check for convolutional layer\n",
        "  if 'conv' not in layer.name:\n",
        "    continue\n",
        "  #get filter weights\n",
        "  filters, biases =layer.get_weights()\n",
        "  print(layer.name,filters.shape)"
      ],
      "execution_count": null,
      "outputs": [
        {
          "output_type": "stream",
          "text": [
            "block1_conv1 (3, 3, 3, 64)\n",
            "block1_conv2 (3, 3, 64, 64)\n",
            "block2_conv1 (3, 3, 64, 128)\n",
            "block2_conv2 (3, 3, 128, 128)\n",
            "block3_conv1 (3, 3, 128, 256)\n",
            "block3_conv2 (3, 3, 256, 256)\n",
            "block3_conv3 (3, 3, 256, 256)\n",
            "block4_conv1 (3, 3, 256, 512)\n",
            "block4_conv2 (3, 3, 512, 512)\n",
            "block4_conv3 (3, 3, 512, 512)\n",
            "block5_conv1 (3, 3, 512, 512)\n",
            "block5_conv2 (3, 3, 512, 512)\n",
            "block5_conv3 (3, 3, 512, 512)\n"
          ],
          "name": "stdout"
        }
      ]
    },
    {
      "cell_type": "code",
      "metadata": {
        "id": "ls5L0_pwCyAV",
        "colab_type": "code",
        "colab": {}
      },
      "source": [
        "# retrieve the weights from the third hidden layer\n",
        "filters,biases=model.layers[2].get_weights()"
      ],
      "execution_count": null,
      "outputs": []
    },
    {
      "cell_type": "code",
      "metadata": {
        "id": "Ec6_ro_DDFcE",
        "colab_type": "code",
        "colab": {
          "base_uri": "https://localhost:8080/",
          "height": 1000
        },
        "outputId": "2c42e2c5-253b-47b4-d7c5-5b1639995b71"
      },
      "source": [
        "filters"
      ],
      "execution_count": null,
      "outputs": [
        {
          "output_type": "execute_result",
          "data": {
            "text/plain": [
              "array([[[[ 1.66219279e-01,  1.42701820e-01, -4.02113283e-03, ...,\n",
              "           6.18828237e-02, -1.74057148e-02, -3.00644431e-02],\n",
              "         [ 9.46945231e-03,  3.87477316e-03,  5.08365929e-02, ...,\n",
              "          -2.77981739e-02,  1.71373668e-03,  6.82722731e-03],\n",
              "         [ 6.32681847e-02,  2.12877709e-02, -1.63465310e-02, ...,\n",
              "           8.80054955e-04,  6.68104272e-03, -1.41139806e-03],\n",
              "         ...,\n",
              "         [ 3.47490981e-03,  8.47019628e-02, -4.07223180e-02, ...,\n",
              "          -1.13523193e-02, -7.48998486e-03,  3.19077494e-03],\n",
              "         [ 5.97234145e-02,  4.97663505e-02, -3.23118735e-03, ...,\n",
              "           1.43114366e-02,  3.03175431e-02, -4.23925705e-02],\n",
              "         [ 1.33459672e-01,  4.95484173e-02, -1.78808011e-02, ...,\n",
              "           2.25385167e-02,  3.02020740e-02, -2.17075031e-02]],\n",
              "\n",
              "        [[ 2.12007999e-01,  2.10127644e-02, -1.47626130e-02, ...,\n",
              "           2.29580477e-02,  1.23102348e-02, -3.08422819e-02],\n",
              "         [-2.62175221e-03,  7.42094172e-03,  6.74030930e-02, ...,\n",
              "          -3.06594316e-02,  1.80578313e-03,  4.27369215e-03],\n",
              "         [ 2.27197763e-02, -1.07841045e-02, -1.31095545e-02, ...,\n",
              "          -1.15751950e-02,  4.18359675e-02, -1.92268589e-03],\n",
              "         ...,\n",
              "         [-2.70304317e-03,  7.41161704e-02, -3.32262330e-02, ...,\n",
              "          -1.10277236e-02,  1.39831286e-02,  5.34419343e-03],\n",
              "         [-3.20506282e-02, -2.40584910e-02, -4.52397857e-03, ...,\n",
              "          -6.04042644e-03,  2.01962605e-01, -5.04491515e-02],\n",
              "         [ 1.68114193e-02, -2.33167298e-02, -1.40886130e-02, ...,\n",
              "          -7.79278344e-03,  1.28428593e-01, -2.58184522e-02]],\n",
              "\n",
              "        [[-5.91698708e-03, -2.26223674e-02,  4.88128467e-03, ...,\n",
              "           4.13784146e-04, -4.84175496e-02,  1.63675251e-03],\n",
              "         [-3.93767562e-03,  9.07397643e-03,  5.36517277e-02, ...,\n",
              "          -2.56106984e-02, -4.17886395e-03,  2.47476017e-03],\n",
              "         [-3.07008922e-02, -1.09781921e-02, -3.69096454e-03, ...,\n",
              "          -1.19221993e-02, -1.39777903e-02,  8.52933805e-03],\n",
              "         ...,\n",
              "         [ 5.83332591e-03,  2.96198055e-02, -3.56571227e-02, ...,\n",
              "          -1.01153394e-02,  5.06090466e-03, -2.86859111e-03],\n",
              "         [-7.80934095e-02, -1.95693132e-02,  2.14814320e-02, ...,\n",
              "           7.42452731e-03,  5.41617945e-02, -2.35790759e-02],\n",
              "         [-7.82641992e-02, -2.47034207e-02,  1.36250593e-02, ...,\n",
              "          -7.53259566e-03, -2.59861015e-02,  4.52143652e-03]]],\n",
              "\n",
              "\n",
              "       [[[ 1.99202523e-01,  5.03257252e-02, -1.93236247e-02, ...,\n",
              "           1.62308700e-02, -1.15369558e-02,  1.55777042e-03],\n",
              "         [-1.38656620e-03,  4.52297740e-03,  6.65066689e-02, ...,\n",
              "          -3.00004911e-02,  1.71904117e-04, -1.11898372e-03],\n",
              "         [ 2.14257818e-02,  1.79782789e-03, -1.76792312e-02, ...,\n",
              "          -6.09106943e-03, -3.21686491e-02, -1.07312342e-03],\n",
              "         ...,\n",
              "         [-1.47800148e-02,  7.77616128e-02, -2.67065037e-02, ...,\n",
              "          -8.10234528e-03, -1.15585206e-02, -5.30505227e-03],\n",
              "         [-1.39283072e-02,  1.69547591e-02, -1.20282415e-02, ...,\n",
              "           1.25513040e-02, -8.44068080e-02, -4.48253192e-02],\n",
              "         [ 2.55671684e-02,  7.02229328e-03, -2.82986648e-02, ...,\n",
              "           1.17048556e-02, -7.34802186e-02, -2.06979234e-02]],\n",
              "\n",
              "        [[-2.59410664e-02, -4.97468375e-02, -2.42083799e-02, ...,\n",
              "          -2.39597876e-02,  2.09030695e-02,  1.69499479e-02],\n",
              "         [-4.78290301e-03,  1.04173329e-02,  8.31823424e-02, ...,\n",
              "          -3.18786576e-02,  3.48328054e-03, -3.56311840e-03],\n",
              "         [-3.81173752e-02, -1.85197107e-02, -1.43900532e-02, ...,\n",
              "          -1.41960718e-02,  3.14613059e-02,  4.11967095e-03],\n",
              "         ...,\n",
              "         [-1.79932006e-02,  7.17700496e-02, -1.99375115e-02, ...,\n",
              "          -6.12784317e-03,  1.66521706e-02, -7.48346280e-03],\n",
              "         [-8.91536921e-02, -4.69055325e-02, -1.37380632e-02, ...,\n",
              "          -8.06835108e-03,  6.04359731e-02, -4.47445139e-02],\n",
              "         [-1.00021079e-01, -3.55393849e-02, -2.46136412e-02, ...,\n",
              "          -7.50665693e-03,  9.11064222e-02, -1.06519591e-02]],\n",
              "\n",
              "        [[-9.84916389e-02, -5.77464141e-02, -4.49889433e-03, ...,\n",
              "          -2.21592579e-02, -9.32130869e-03,  5.57853021e-02],\n",
              "         [ 4.70533501e-03,  1.18583711e-02,  6.85855076e-02, ...,\n",
              "          -2.62385849e-02, -2.82203127e-03, -4.67023626e-03],\n",
              "         [-2.28894763e-02, -7.75412470e-03, -9.86886956e-03, ...,\n",
              "          -1.22523597e-02,  4.30414118e-02,  1.28994938e-02],\n",
              "         ...,\n",
              "         [ 2.93275771e-05,  1.62800644e-02, -2.53228396e-02, ...,\n",
              "          -8.11440870e-03,  9.42004658e-03, -1.69352964e-02],\n",
              "         [-4.56118677e-03, -3.88334878e-02, -8.15101550e-04, ...,\n",
              "          -7.37672672e-05,  2.05828294e-01, -1.84731018e-02],\n",
              "         [-3.79626676e-02, -1.82646457e-02, -7.20302528e-03, ...,\n",
              "          -1.28044421e-03,  1.40015617e-01,  1.13147246e-02]]],\n",
              "\n",
              "\n",
              "       [[[-1.11585744e-02, -4.15539136e-03, -6.83113467e-03, ...,\n",
              "           3.17358202e-03, -6.52846992e-02,  8.59456360e-02],\n",
              "         [-6.14583818e-03,  4.85422462e-03,  5.14627509e-02, ...,\n",
              "          -2.23777443e-02, -1.03412592e-03, -8.19014851e-03],\n",
              "         [-1.00106997e-02, -1.59974187e-03, -1.14092128e-02, ...,\n",
              "          -3.87838250e-03, -3.99293639e-02,  1.13589503e-02],\n",
              "         ...,\n",
              "         [-1.68860350e-02,  5.18255346e-02, -2.66014934e-02, ...,\n",
              "          -1.99763244e-03,  4.35560057e-03, -4.49330434e-02],\n",
              "         [-1.34146223e-02,  6.32185815e-03, -7.33473897e-03, ...,\n",
              "           4.59014578e-03, -2.98611149e-02,  3.69221941e-02],\n",
              "         [-2.88858525e-02, -4.22423892e-03, -1.42897591e-02, ...,\n",
              "           1.11823296e-02, -7.52132908e-02,  1.67242344e-02]],\n",
              "\n",
              "        [[-1.02114283e-01, -5.26558608e-02, -1.00238100e-02, ...,\n",
              "          -1.37801170e-02, -4.94753271e-02,  1.25953421e-01],\n",
              "         [ 2.65349774e-03,  1.04075735e-02,  6.73149154e-02, ...,\n",
              "          -2.37589777e-02,  6.13968645e-04, -9.96601582e-03],\n",
              "         [-1.50703192e-02, -1.28871305e-02, -8.77845287e-03, ...,\n",
              "          -1.01640215e-02, -4.76290248e-02,  1.36717530e-02],\n",
              "         ...,\n",
              "         [-5.43789240e-03,  3.35888155e-02, -2.11151708e-02, ...,\n",
              "          -3.83130647e-03, -1.02301398e-02, -5.32924160e-02],\n",
              "         [-2.21891310e-02, -4.92077954e-02, -1.38867581e-02, ...,\n",
              "          -1.28568839e-02, -9.37007815e-02,  5.59309907e-02],\n",
              "         [-2.61166841e-02, -3.50148268e-02, -1.47816772e-02, ...,\n",
              "          -2.86548026e-03, -1.01101905e-01,  1.94419883e-02]],\n",
              "\n",
              "        [[ 2.73401570e-02, -3.54428887e-02,  1.18577422e-03, ...,\n",
              "           5.02943760e-04,  4.51298095e-02,  1.23520821e-01],\n",
              "         [ 9.48381796e-03,  1.12858564e-02,  5.32916747e-02, ...,\n",
              "          -1.81195941e-02, -1.31687860e-03, -1.01092532e-02],\n",
              "         [ 3.73495184e-02, -7.93821830e-03, -5.94039401e-03, ...,\n",
              "          -7.96878152e-03,  1.53274648e-02,  9.63651482e-03],\n",
              "         ...,\n",
              "         [-2.60413792e-02, -2.53635142e-02, -2.81382054e-02, ...,\n",
              "          -6.63971901e-03, -7.26283342e-03, -5.57855107e-02],\n",
              "         [ 2.67488584e-02, -4.73727398e-02, -3.06198676e-03, ...,\n",
              "          -4.82000969e-03,  4.08617556e-02,  6.99444860e-02],\n",
              "         [ 7.98859298e-02, -2.87372041e-02,  6.38093508e-04, ...,\n",
              "           9.73386108e-04,  4.21557203e-02,  1.60824433e-02]]]],\n",
              "      dtype=float32)"
            ]
          },
          "metadata": {
            "tags": []
          },
          "execution_count": 21
        }
      ]
    },
    {
      "cell_type": "code",
      "metadata": {
        "id": "eKR2cX8IDGsF",
        "colab_type": "code",
        "colab": {
          "base_uri": "https://localhost:8080/",
          "height": 254
        },
        "outputId": "d6156e09-3f56-424f-a43d-050314314f81"
      },
      "source": [
        "# the biases \n",
        "biases"
      ],
      "execution_count": null,
      "outputs": [
        {
          "output_type": "execute_result",
          "data": {
            "text/plain": [
              "array([-0.30912212,  0.36397225,  0.13737613,  0.07717966,  0.9052184 ,\n",
              "        0.08885256,  0.10789118, -0.23106739, -0.6318097 ,  0.18161367,\n",
              "       -0.33391494,  0.1961724 ,  0.43838617,  0.1938708 ,  0.10894354,\n",
              "        0.10315038, -1.0271513 ,  0.05252688,  0.13118458,  0.22851577,\n",
              "       -0.71377224,  0.2154155 , -0.6981962 ,  0.04061132,  0.13955347,\n",
              "        0.28767544,  0.35358745,  0.3937295 ,  0.43452853, -0.48259264,\n",
              "        0.02631121,  0.09220165,  0.05196398,  0.550705  ,  0.32368094,\n",
              "        0.07263482, -0.17745508,  0.3761972 ,  0.39344102,  0.17673127,\n",
              "       -0.15784228,  0.26051855,  0.08342359,  0.08603705, -0.09131282,\n",
              "        0.22932515,  0.2998315 ,  0.13511261, -0.3835829 ,  0.10912544,\n",
              "       -0.53432876,  0.4741787 , -0.0740848 ,  0.30046257,  0.12590808,\n",
              "        0.16480374,  0.2403943 ,  0.23401979, -0.19334187,  0.01663565,\n",
              "        0.27144948,  0.03385786,  0.06076292, -0.5825159 ], dtype=float32)"
            ]
          },
          "metadata": {
            "tags": []
          },
          "execution_count": 23
        }
      ]
    },
    {
      "cell_type": "code",
      "metadata": {
        "id": "QJ8eoy2QDUZq",
        "colab_type": "code",
        "colab": {
          "base_uri": "https://localhost:8080/",
          "height": 35
        },
        "outputId": "6d97ebe6-18d6-4f7a-946a-06ea3e08135f"
      },
      "source": [
        "#shape of the Conv filters\n",
        "filters.shape"
      ],
      "execution_count": null,
      "outputs": [
        {
          "output_type": "execute_result",
          "data": {
            "text/plain": [
              "(3, 3, 64, 64)"
            ]
          },
          "metadata": {
            "tags": []
          },
          "execution_count": 24
        }
      ]
    },
    {
      "cell_type": "code",
      "metadata": {
        "id": "nKbL7OPGDgUM",
        "colab_type": "code",
        "colab": {
          "base_uri": "https://localhost:8080/",
          "height": 35
        },
        "outputId": "60fa8cf1-84a1-466f-d1de-4780bcf4919a"
      },
      "source": [
        "#shape of the biases \n",
        "biases.shape"
      ],
      "execution_count": null,
      "outputs": [
        {
          "output_type": "execute_result",
          "data": {
            "text/plain": [
              "(64,)"
            ]
          },
          "metadata": {
            "tags": []
          },
          "execution_count": 25
        }
      ]
    },
    {
      "cell_type": "code",
      "metadata": {
        "id": "2wlx3iZTDlAI",
        "colab_type": "code",
        "colab": {}
      },
      "source": [
        "#normalize the filters values to 0-1 so that we can visualize them\n",
        "f_min, f_max=filters.min(),filters.max()\n",
        "filters=(filters - f_min)/(f_max - f_min)"
      ],
      "execution_count": null,
      "outputs": []
    },
    {
      "cell_type": "code",
      "metadata": {
        "id": "l3R6LDd2EFO0",
        "colab_type": "code",
        "colab": {
          "base_uri": "https://localhost:8080/",
          "height": 252
        },
        "outputId": "bb134b91-272e-455b-cf5f-839d2914cf22"
      },
      "source": [
        "#visualize the filters\n",
        "import matplotlib.pyplot as plt\n",
        "#plot the first few filters\n",
        "n_filters, ix=6,1\n",
        "for i in range(n_filters):\n",
        "  #get the filter\n",
        "  f=filters[:,:,:,i]\n",
        "  #plot each channel separately\n",
        "  for j in range(3):\n",
        "    #specify subplot and turn on axis\n",
        "    ax=plt.subplot(n_filters, 3, ix)\n",
        "    ax.set_xticks([])\n",
        "    ax.set_yticks([])\n",
        "    #plot filter channel in grayscale\n",
        "    plt.imshow(f[:,:,j], cmap='gray')\n",
        "    ix += 1\n",
        "#show the figure\n",
        "plt.show()\n"
      ],
      "execution_count": null,
      "outputs": [
        {
          "output_type": "display_data",
          "data": {
            "image/png": "[encoded data removed]",
            "text/plain": [
              "<Figure size 432x288 with 18 Axes>"
            ]
          },
          "metadata": {
            "tags": []
          }
        }
      ]
    },
    {
      "cell_type": "markdown",
      "metadata": {
        "id": "wtpXMlnbGGEA",
        "colab_type": "text"
      },
      "source": [
        "# Visualize the Activation feature Maps for the VGG16 by running an input image"
      ]
    },
    {
      "cell_type": "code",
      "metadata": {
        "id": "9QyeVZnAEGaI",
        "colab_type": "code",
        "colab": {
          "base_uri": "https://localhost:8080/",
          "height": 73
        },
        "outputId": "a9039513-e41c-4946-e67b-1967fd370c1b"
      },
      "source": [
        "#plot the feature map of the first conv layer for given image\n",
        "from tensorflow.keras.applications.vgg16 import VGG16\n",
        "from tensorflow.keras.applications.vgg16 import preprocess_input\n",
        "from tensorflow.keras.preprocessing.image import load_img\n",
        "from tensorflow.keras.preprocessing.image import img_to_array\n",
        "from tensorflow.keras.models import Model\n",
        "import matplotlib.pyplot as plt\n",
        "from numpy import expand_dims\n",
        "\n",
        "#load the mdoel\n",
        "model=VGG16()\n"
      ],
      "execution_count": null,
      "outputs": [
        {
          "output_type": "stream",
          "text": [
            "Downloading data from https://storage.googleapis.com/tensorflow/keras-applications/vgg16/vgg16_weights_tf_dim_ordering_tf_kernels.h5\n",
            "553467904/553467096 [==============================] - 6s 0us/step\n"
          ],
          "name": "stdout"
        }
      ]
    },
    {
      "cell_type": "code",
      "metadata": {
        "id": "tok-r4piH4_3",
        "colab_type": "code",
        "colab": {}
      },
      "source": [
        "#create a model that will return these outputs, given the model input\n",
        "#we redefine model to output right after the first hidden layer\n",
        "model=Model(inputs=model.input, outputs=model.layers[1].output)"
      ],
      "execution_count": null,
      "outputs": []
    },
    {
      "cell_type": "code",
      "metadata": {
        "id": "wzaAJXjPIWHH",
        "colab_type": "code",
        "colab": {
          "base_uri": "https://localhost:8080/",
          "height": 235
        },
        "outputId": "2a0ffa8c-6696-4158-b0b8-900896df0de0"
      },
      "source": [
        "#display the model summary\n",
        "model.summary()"
      ],
      "execution_count": null,
      "outputs": [
        {
          "output_type": "stream",
          "text": [
            "Model: \"functional_3\"\n",
            "_________________________________________________________________\n",
            "Layer (type)                 Output Shape              Param #   \n",
            "=================================================================\n",
            "input_3 (InputLayer)         [(None, 224, 224, 3)]     0         \n",
            "_________________________________________________________________\n",
            "block1_conv1 (Conv2D)        (None, 224, 224, 64)      1792      \n",
            "=================================================================\n",
            "Total params: 1,792\n",
            "Trainable params: 1,792\n",
            "Non-trainable params: 0\n",
            "_________________________________________________________________\n"
          ],
          "name": "stdout"
        }
      ]
    },
    {
      "cell_type": "code",
      "metadata": {
        "id": "PTvt2BJ2IajX",
        "colab_type": "code",
        "colab": {
          "base_uri": "https://localhost:8080/",
          "height": 414
        },
        "outputId": "e344fa1e-df5d-4402-e54d-7c3727e6a975"
      },
      "source": [
        "#load the image required shape\n",
        "img=load_img('sample_1.jpg', target_size=(224,224))\n",
        "\n",
        "#convert the image to an array\n",
        "img=img_to_array(img)\n",
        "\n",
        "#expand dimensions so that it represents a single sample\n",
        "img=expand_dims(img, axis=0)\n",
        "#prepare the image (e.g scale the pixel values for the vgg)\n",
        "img=preprocess_input(img)\n",
        "#get the feature map for the first hidden layer\n",
        "feature_maps=model.predict(img)\n",
        "#plot all the 64 maps in an 8 x 8 squares\n",
        "\n",
        "square =8\n",
        "ix=1\n",
        "plt.figure(figsize=(12,12))\n",
        "\n",
        "for _ in range(square):\n",
        "  for _ in range(square):\n",
        "    #specify subplot and turn off axis\n",
        "    ax=plt.subplot(square,square, ix)\n",
        "    ax.set_xticks([])\n",
        "    ax.set_yticks([])\n",
        "    #plot the filter channel in grayscale\n",
        "    plt.imshow(feature_maps[0,:,:,ix-1], cmap='gray')\n",
        "    ix += 1\n",
        "#show the figure\n",
        "plt.show()"
      ],
      "execution_count": null,
      "outputs": [
        {
          "output_type": "error",
          "ename": "FileNotFoundError",
          "evalue": "ignored",
          "traceback": [
            "\u001b[0;31m---------------------------------------------------------------------------\u001b[0m",
            "\u001b[0;31mFileNotFoundError\u001b[0m                         Traceback (most recent call last)",
            "\u001b[0;32m<ipython-input-39-b3b883f9bf0b>\u001b[0m in \u001b[0;36m<module>\u001b[0;34m()\u001b[0m\n\u001b[1;32m      1\u001b[0m \u001b[0;31m#load the image required shape\u001b[0m\u001b[0;34m\u001b[0m\u001b[0;34m\u001b[0m\u001b[0;34m\u001b[0m\u001b[0m\n\u001b[0;32m----> 2\u001b[0;31m \u001b[0mimg\u001b[0m\u001b[0;34m=\u001b[0m\u001b[0mload_img\u001b[0m\u001b[0;34m(\u001b[0m\u001b[0;34m'sample_1.jpg'\u001b[0m\u001b[0;34m,\u001b[0m \u001b[0mtarget_size\u001b[0m\u001b[0;34m=\u001b[0m\u001b[0;34m(\u001b[0m\u001b[0;36m224\u001b[0m\u001b[0;34m,\u001b[0m\u001b[0;36m224\u001b[0m\u001b[0;34m)\u001b[0m\u001b[0;34m)\u001b[0m\u001b[0;34m\u001b[0m\u001b[0;34m\u001b[0m\u001b[0m\n\u001b[0m\u001b[1;32m      3\u001b[0m \u001b[0;34m\u001b[0m\u001b[0m\n\u001b[1;32m      4\u001b[0m \u001b[0;31m#convert the image to an array\u001b[0m\u001b[0;34m\u001b[0m\u001b[0;34m\u001b[0m\u001b[0;34m\u001b[0m\u001b[0m\n\u001b[1;32m      5\u001b[0m \u001b[0mimg\u001b[0m\u001b[0;34m=\u001b[0m\u001b[0mimg_to_array\u001b[0m\u001b[0;34m(\u001b[0m\u001b[0mimg\u001b[0m\u001b[0;34m)\u001b[0m\u001b[0;34m\u001b[0m\u001b[0;34m\u001b[0m\u001b[0m\n",
            "\u001b[0;32m/usr/local/lib/python3.6/dist-packages/tensorflow/python/keras/preprocessing/image.py\u001b[0m in \u001b[0;36mload_img\u001b[0;34m(path, grayscale, color_mode, target_size, interpolation)\u001b[0m\n\u001b[1;32m    299\u001b[0m   \"\"\"\n\u001b[1;32m    300\u001b[0m   return image.load_img(path, grayscale=grayscale, color_mode=color_mode,\n\u001b[0;32m--> 301\u001b[0;31m                         target_size=target_size, interpolation=interpolation)\n\u001b[0m\u001b[1;32m    302\u001b[0m \u001b[0;34m\u001b[0m\u001b[0m\n\u001b[1;32m    303\u001b[0m \u001b[0;34m\u001b[0m\u001b[0m\n",
            "\u001b[0;32m/usr/local/lib/python3.6/dist-packages/keras_preprocessing/image/utils.py\u001b[0m in \u001b[0;36mload_img\u001b[0;34m(path, grayscale, color_mode, target_size, interpolation)\u001b[0m\n\u001b[1;32m    111\u001b[0m         raise ImportError('Could not import PIL.Image. '\n\u001b[1;32m    112\u001b[0m                           'The use of `load_img` requires PIL.')\n\u001b[0;32m--> 113\u001b[0;31m     \u001b[0;32mwith\u001b[0m \u001b[0mopen\u001b[0m\u001b[0;34m(\u001b[0m\u001b[0mpath\u001b[0m\u001b[0;34m,\u001b[0m \u001b[0;34m'rb'\u001b[0m\u001b[0;34m)\u001b[0m \u001b[0;32mas\u001b[0m \u001b[0mf\u001b[0m\u001b[0;34m:\u001b[0m\u001b[0;34m\u001b[0m\u001b[0;34m\u001b[0m\u001b[0m\n\u001b[0m\u001b[1;32m    114\u001b[0m         \u001b[0mimg\u001b[0m \u001b[0;34m=\u001b[0m \u001b[0mpil_image\u001b[0m\u001b[0;34m.\u001b[0m\u001b[0mopen\u001b[0m\u001b[0;34m(\u001b[0m\u001b[0mio\u001b[0m\u001b[0;34m.\u001b[0m\u001b[0mBytesIO\u001b[0m\u001b[0;34m(\u001b[0m\u001b[0mf\u001b[0m\u001b[0;34m.\u001b[0m\u001b[0mread\u001b[0m\u001b[0;34m(\u001b[0m\u001b[0;34m)\u001b[0m\u001b[0;34m)\u001b[0m\u001b[0;34m)\u001b[0m\u001b[0;34m\u001b[0m\u001b[0;34m\u001b[0m\u001b[0m\n\u001b[1;32m    115\u001b[0m         \u001b[0;32mif\u001b[0m \u001b[0mcolor_mode\u001b[0m \u001b[0;34m==\u001b[0m \u001b[0;34m'grayscale'\u001b[0m\u001b[0;34m:\u001b[0m\u001b[0;34m\u001b[0m\u001b[0;34m\u001b[0m\u001b[0m\n",
            "\u001b[0;31mFileNotFoundError\u001b[0m: [Errno 2] No such file or directory: 'sample_1.jpg'"
          ]
        }
      ]
    },
    {
      "cell_type": "code",
      "metadata": {
        "id": "eKB5XqIJKN9f",
        "colab_type": "code",
        "colab": {}
      },
      "source": [
        ""
      ],
      "execution_count": null,
      "outputs": []
    }
  ]
}