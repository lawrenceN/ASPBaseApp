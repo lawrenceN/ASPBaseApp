{
  "nbformat": 4,
  "nbformat_minor": 0,
  "metadata": {
    "colab": {
      "name": "CS_ Part 1: Simple Image Classifier Using Convolutional Neural Networks.ipynb",
      "provenance": [],
      "authorship_tag": "ABX9TyMxiIpoVqCaHjAIpyC0bGcA",
      "include_colab_link": true
    },
    "kernelspec": {
      "name": "python3",
      "display_name": "Python 3"
    }
  },
  "cells": [
    {
      "cell_type": "markdown",
      "metadata": {
        "id": "view-in-github",
        "colab_type": "text"
      },
      "source": [
        "<a href=\"https://colab.research.google.com/github/lawrenceN/ASPBaseApp/blob/master/CS__Part_1_Simple_Image_Classifier_Using_Convolutional_Neural_Networks.ipynb\" target=\"_parent\"><img src=\"https://colab.research.google.com/assets/colab-badge.svg\" alt=\"Open In Colab\"/></a>"
      ]
    },
    {
      "cell_type": "markdown",
      "metadata": {
        "id": "nlpJYQD9NqEO",
        "colab_type": "text"
      },
      "source": [
        "# Objective"
      ]
    },
    {
      "cell_type": "markdown",
      "metadata": {
        "id": "eSupTkbgNuhG",
        "colab_type": "text"
      },
      "source": [
        "Create a CNN (Convolutional Neural Network) model. Use the model to classify handwritten digits."
      ]
    },
    {
      "cell_type": "markdown",
      "metadata": {
        "id": "vicPN_QaOK-C",
        "colab_type": "text"
      },
      "source": [
        "# Workflow"
      ]
    },
    {
      "cell_type": "markdown",
      "metadata": {
        "id": "JMLd8sUXOTSF",
        "colab_type": "text"
      },
      "source": [
        "1. Load in the MNIST dataset and examine the structure.\n",
        "\n",
        "\n",
        "*   Use any library to load the MNIST dataset (Include both Tensorflow and PyTorch modules) \n",
        "*   Take a closer look at the data inspecting it's size, shape and quantity.\n",
        "* View some random sample using either OpenCV or Matplotlib (or others) of the handwritten digits and observe the complexity of the images. (Do you have any issue identifying these written numbers?)\n",
        "2. Using Numpy or other libraries preparing the dataset for training \n",
        "* Ensure the format or shape of the data is appropriate for input into the model. (One -hot- encoding)-- apple 1   price 5 mango 2 10\n",
        "* Ensure the data types are correct and the data is normalized.\n",
        "3. Create a CNN with the following specifications\n",
        "*  input Dimensions 28 * 28 * 1\n",
        "*  Two Convolution Layers (kernel size 3* 3) first with 64 filters, the second 32. use ReLU  (Rectified Linear Unit - ReLU- the activation layer)\n",
        "* Max pooling size 2*2\n",
        "* Dropout rate 0.25\n",
        "* Add a Dense Layer comprising of 128 outputs\n",
        "* Add another dropout layer using rate setting of 0.5\n",
        "* Add the final dropout layer that indicated the class probabilities \n",
        "4. Train the CNN on the MNIST dataset that was prepared in step 2 \n",
        " * Train for atleast 10 Epochs using a batch size of 32\n",
        " 5. Plot graphs showing how your training and validataion loss and accuracy changed with respect to the Epochs completed.\n",
        " 6. Save the model, will be used in the second PART \n",
        " 7. Test the model on some random samples from the test dataset.\n"
      ]
    },
    {
      "cell_type": "markdown",
      "metadata": {
        "id": "54oylXCiUEU9",
        "colab_type": "text"
      },
      "source": [
        "# Deliverable "
      ]
    },
    {
      "cell_type": "markdown",
      "metadata": {
        "id": "DdOy4xq1UVle",
        "colab_type": "text"
      },
      "source": [
        "Jupyter Notebook documents the workflow as we take the MNIST dataset, view samples, convert it into the right shape/format as required for the deep learning library. The model built will be the one used for the next step."
      ]
    },
    {
      "cell_type": "markdown",
      "metadata": {
        "id": "cEO5nYJ1Up_l",
        "colab_type": "text"
      },
      "source": [
        "# Loading the Handwritten Digit Dataset (MNIST)"
      ]
    },
    {
      "cell_type": "code",
      "metadata": {
        "id": "JqDGJF9kUu8j",
        "colab_type": "code",
        "colab": {}
      },
      "source": [
        "from tensorflow.keras.datasets import mnist"
      ],
      "execution_count": 1,
      "outputs": []
    },
    {
      "cell_type": "code",
      "metadata": {
        "id": "oSxvqeLRVbu-",
        "colab_type": "code",
        "colab": {
          "base_uri": "https://localhost:8080/",
          "height": 54
        },
        "outputId": "77511a6e-9467-4a8b-9f11-f3dbb440e900"
      },
      "source": [
        "#Loads the MNIST dataset\n",
        "(x_train, y_train),(x_test,y_test)=mnist.load_data()"
      ],
      "execution_count": 2,
      "outputs": [
        {
          "output_type": "stream",
          "text": [
            "Downloading data from https://storage.googleapis.com/tensorflow/tf-keras-datasets/mnist.npz\n",
            "11493376/11490434 [==============================] - 0s 0us/step\n"
          ],
          "name": "stdout"
        }
      ]
    },
    {
      "cell_type": "code",
      "metadata": {
        "id": "xxIalxWmV2dO",
        "colab_type": "code",
        "colab": {
          "base_uri": "https://localhost:8080/",
          "height": 242
        },
        "outputId": "04645a77-c2c7-4cbb-fb4a-78ac21416668"
      },
      "source": [
        "#Display the number of samples in the x_train, x_test, y_train, y_test\n",
        "print(\"Initial shape or dimensions of the x_train\",str(x_train.shape)+ '\\n')\n",
        "print('Number of samples in our training data: '+ str(len(x_train)) )\n",
        "print('Number of labels in our training data: '+ str(len(x_train)))\n",
        "print('Number of samples in our test data: '+ str(len(x_test)))\n",
        "print('Number of labels in our test data: '+ str(len(y_test))+ '\\n')\n",
        "\n",
        "print('Dimensions of the x_train: '+str(x_train[0].shape))\n",
        "print('Labels in x_train: '+str(y_train.shape)+ '\\n')\n",
        "\n",
        "print('Dimensions of the x_text: '+ str(x_test[0].shape))\n",
        "print('Labels in y_test: '+ str(y_test.shape)) "
      ],
      "execution_count": 3,
      "outputs": [
        {
          "output_type": "stream",
          "text": [
            "Initial shape or dimensions of the x_train (60000, 28, 28)\n",
            "\n",
            "Number of samples in our training data: 60000\n",
            "Number of labels in our training data: 60000\n",
            "Number of samples in our test data: 10000\n",
            "Number of labels in our test data: 10000\n",
            "\n",
            "Dimensions of the x_train: (28, 28)\n",
            "Labels in x_train: (60000,)\n",
            "\n",
            "Dimensions of the x_text: (28, 28)\n",
            "Labels in y_test: (10000,)\n"
          ],
          "name": "stdout"
        }
      ]
    },
    {
      "cell_type": "markdown",
      "metadata": {
        "id": "-jZTYfeTYZsB",
        "colab_type": "text"
      },
      "source": [
        "# Let's take a look the images in the Dataset"
      ]
    },
    {
      "cell_type": "code",
      "metadata": {
        "id": "79Ep1H4KV5CH",
        "colab_type": "code",
        "colab": {}
      },
      "source": [
        "#importing matplotlib\n",
        "import matplotlib.pyplot as plt\n",
        "import numpy as np\n"
      ],
      "execution_count": 4,
      "outputs": []
    },
    {
      "cell_type": "code",
      "metadata": {
        "id": "lJt_ZkxzWcfg",
        "colab_type": "code",
        "colab": {
          "base_uri": "https://localhost:8080/",
          "height": 191
        },
        "outputId": "5d4c0036-2a2f-4c16-8ed1-ed4e74c604b7"
      },
      "source": [
        "#Plot 6 images, using subplot\n",
        "#set the colormap to grey since our image dataset is grayscale.\n",
        "plt.subplot(331)\n",
        "random_num=np.random.randint(0,len(x_train))\n",
        "_=plt.imshow(x_train[random_num],cmap=plt.get_cmap('gray'))\n",
        "\n",
        "plt.subplot(332)\n",
        "random_num=np.random.randint(0,len(x_train))\n",
        "_=plt.imshow(x_train[random_num],cmap=plt.get_cmap('gray'))\n",
        "\n",
        "plt.subplot(333)\n",
        "random_num=np.random.randint(0,len(x_train))\n",
        "_=plt.imshow(x_train[random_num],cmap=plt.get_cmap('gray'))\n",
        "\n",
        "plt.subplot(334)\n",
        "random_num=np.random.randint(0,len(x_train))\n",
        "_=plt.imshow(x_train[random_num],cmap=plt.get_cmap('gray'))\n",
        "\n",
        "plt.subplot(335)\n",
        "random_num=np.random.randint(0,len(x_train))\n",
        "_=plt.imshow(x_train[random_num],cmap=plt.get_cmap('gray'))\n",
        "\n",
        "\n",
        "plt.subplot(336)\n",
        "random_num=np.random.randint(0,len(x_train))\n",
        "_=plt.imshow(x_train[random_num],cmap=plt.get_cmap('gray'))\n",
        "plt.show()"
      ],
      "execution_count": 17,
      "outputs": [
        {
          "output_type": "display_data",
          "data": {
            "image/png": "[encoded data removed]",
            "text/plain": [
              "<Figure size 432x288 with 6 Axes>"
            ]
          },
          "metadata": {
            "tags": [],
            "needs_background": "light"
          }
        }
      ]
    },
    {
      "cell_type": "markdown",
      "metadata": {
        "id": "ljWXOkQhXY1Y",
        "colab_type": "text"
      },
      "source": [
        "# Preparing the Dataset for Keras"
      ]
    },
    {
      "cell_type": "markdown",
      "metadata": {
        "id": "xC15GvBrXhbG",
        "colab_type": "text"
      },
      "source": [
        "Keras requires our input data as a 4-d shape of (60000, 28,28,1). When we initially loaded our data, x_train was (60,000,28,28). We need our labels to be one-hot-encoded (https://machinelearningmastery.com/why-one-hot-encode-data-in-machine-learning/). "
      ]
    },
    {
      "cell_type": "code",
      "metadata": {
        "id": "N2kaVMA3WGkZ",
        "colab_type": "code",
        "colab": {
          "base_uri": "https://localhost:8080/",
          "height": 73
        },
        "outputId": "4a64cfb1-d5b5-42d3-f60c-1defa285e93a"
      },
      "source": [
        "#lets store the number of rows and columns\n",
        "img_rows=x_train[0].shape[0]\n",
        "img_cols=x_train[0].shape[1]\n",
        "\n",
        "#get the data in the right shape for Keras.\n",
        "#add a 4th dimension to our data (60 000, 28,28) to (60 000,28,28,1)\n",
        "x_train=x_train.reshape(x_train.shape[0],img_rows,img_cols,1)\n",
        "x_test=x_test.reshape(x_test.shape[0],img_rows,img_cols,1)\n",
        "\n",
        "\n",
        "#store the shape of a single image for future use as a variable storing our input shape\n",
        "input_shape=(img_rows,img_cols,1)\n",
        "\n",
        "#change the image type to be a float\n",
        "x_train=x_train.astype('float32') # unint8\n",
        "x_test=x_test.astype('float32')\n",
        "\n",
        "#normalize the data by changing the range from 0-255 to 0-1 \n",
        "\n",
        "x_train /=255.0\n",
        "x_test /=255.0\n",
        "\n",
        "print('x_train shape: ', x_train.shape)\n",
        "print(x_train.shape[0], 'train samples')\n",
        "print(x_test.shape[0],'test samples')\n",
        "\n"
      ],
      "execution_count": 23,
      "outputs": [
        {
          "output_type": "stream",
          "text": [
            "x_train shape:  (60000, 28, 28, 1)\n",
            "60000 train samples\n",
            "10000 test samples\n"
          ],
          "name": "stdout"
        }
      ]
    },
    {
      "cell_type": "markdown",
      "metadata": {
        "id": "NMensUTsbi50",
        "colab_type": "text"
      },
      "source": [
        "# Performe the one-hot-enconding of the data labels"
      ]
    },
    {
      "cell_type": "code",
      "metadata": {
        "id": "3tGK6RaaWTYA",
        "colab_type": "code",
        "colab": {
          "base_uri": "https://localhost:8080/",
          "height": 36
        },
        "outputId": "6f071a0d-afb1-471d-fa5a-a13cdc81a7a2"
      },
      "source": [
        "from tensorflow.keras.utils import to_categorical\n",
        "#one hot encode for outputs\n",
        "y_train=to_categorical(y_train)\n",
        "y_test=to_categorical(y_test)\n",
        "\n",
        "#count the number of columns in our hot encoded matrix\n",
        "print('Number of Classes: '+str(y_test.shape[1]))\n",
        "num_classes=y_test.shape[1]"
      ],
      "execution_count": 24,
      "outputs": [
        {
          "output_type": "stream",
          "text": [
            "Number of Classes: 10\n"
          ],
          "name": "stdout"
        }
      ]
    },
    {
      "cell_type": "markdown",
      "metadata": {
        "id": "aotWUYW3cqq_",
        "colab_type": "text"
      },
      "source": [
        "# Creating the CNN Model"
      ]
    },
    {
      "cell_type": "code",
      "metadata": {
        "id": "yxeQh6GSYhKs",
        "colab_type": "code",
        "colab": {
          "base_uri": "https://localhost:8080/",
          "height": 448
        },
        "outputId": "980cb5fe-3b79-410e-daf5-9abe1a691b78"
      },
      "source": [
        "from tensorflow.keras.models import Sequential\n",
        "from tensorflow.keras.layers import Dense, Dropout, Flatten\n",
        "from tensorflow.keras.layers import Conv2D, MaxPooling2D\n",
        "from tensorflow.keras import backend as K\n",
        "from tensorflow.keras.optimizers import SGD\n",
        "\n",
        "#create a model\n",
        "model=Sequential()\n",
        "# First convolutional layer, Filter size 32 which reduces our layer size to 26*26*32\n",
        "# we use ReLU activation and specify our input shape which is 28*28*1\n",
        "model.add(Conv2D(32, kernel_size=(3,3),activation='relu',input_shape=input_shape))\n",
        "\n",
        "#Second Convolutional layer, filter size 64 which reduces our layer size to 24 *24*64\n",
        "model.add(Conv2D(64,(3,3), activation='relu'))\n",
        "\n",
        "# We use MaxPooling with a kernal size of 2* 2, this reduces our size to 12*12*64\n",
        "model.add(MaxPooling2D(pool_size=(2,2)))\n",
        "\n",
        "#Dropout P setting as 0.25 to reduce overfitting\n",
        "model.add(Dropout(0.25))\n",
        "\n",
        "#we then Flatten our tensor object before input into our Dense layer\n",
        "# A flatten operation on a tensor reshapes the tensor to have the shape that is \n",
        "# equal to the number of elements contained in tensor\n",
        "#in our CNN it goes from 12 * 12 *64 to 9216 *1\n",
        "model.add(Flatten())\n",
        "\n",
        "#We use another Dropout layer\n",
        "model.add(Dropout(0.5))\n",
        "\n",
        "# We create fully connected/Dense layer with an output of each class (10)\n",
        "model.add(Dense(num_classes,activation='softmax'))\n",
        "\n",
        "#We compile our model, this creates an object that stores the model. We set the\n",
        "# optimizer to use stochastic Gradient Descent (learning rate of 0.01)\n",
        "#We set the loss function to be categorical_crossentropy as it's suitable for \n",
        "## multiclass problems. And finally the metrics (to judge the performance of the \n",
        "# the model) we use accuracy\n",
        "model.compile(loss='categorical_crossentropy',optimizer=SGD(0.01),metrics=['accuracy'])\n",
        "#The summary function can be used to display the model layers and parameters\n",
        "print(model.summary())"
      ],
      "execution_count": 27,
      "outputs": [
        {
          "output_type": "stream",
          "text": [
            "Model: \"sequential_1\"\n",
            "_________________________________________________________________\n",
            "Layer (type)                 Output Shape              Param #   \n",
            "=================================================================\n",
            "conv2d (Conv2D)              (None, 26, 26, 32)        320       \n",
            "_________________________________________________________________\n",
            "conv2d_1 (Conv2D)            (None, 24, 24, 64)        18496     \n",
            "_________________________________________________________________\n",
            "max_pooling2d (MaxPooling2D) (None, 12, 12, 64)        0         \n",
            "_________________________________________________________________\n",
            "dropout (Dropout)            (None, 12, 12, 64)        0         \n",
            "_________________________________________________________________\n",
            "flatten (Flatten)            (None, 9216)              0         \n",
            "_________________________________________________________________\n",
            "dropout_1 (Dropout)          (None, 9216)              0         \n",
            "_________________________________________________________________\n",
            "dense (Dense)                (None, 10)                92170     \n",
            "=================================================================\n",
            "Total params: 110,986\n",
            "Trainable params: 110,986\n",
            "Non-trainable params: 0\n",
            "_________________________________________________________________\n",
            "None\n"
          ],
          "name": "stdout"
        }
      ]
    },
    {
      "cell_type": "markdown",
      "metadata": {
        "id": "UZrgWLlljUYT",
        "colab_type": "text"
      },
      "source": [
        "# Train the CNN"
      ]
    },
    {
      "cell_type": "code",
      "metadata": {
        "id": "e-bo_vM0d7Ee",
        "colab_type": "code",
        "colab": {
          "base_uri": "https://localhost:8080/",
          "height": 429
        },
        "outputId": "7b2f743a-2de3-48fe-aba9-cebfd1380db7"
      },
      "source": [
        "batch_size = 32\n",
        "epochs=10\n",
        "\n",
        "# store the results for plotting later\n",
        "# in our fit function we specify our dataset (x_train and y_train)\n",
        "#batch size (typically 16  to 128 -- RAM). The number of epochs (10 to 100)\n",
        "# validation dataset - (x_test, y_test)\n",
        "#verbose = 1, seting the training to output performance metrics every epoch \n",
        "\n",
        "history=model.fit(x_train,y_train, batch_size=batch_size,epochs=epochs,\n",
        "                  verbose=1,validation_data=(x_test,y_test))\n",
        "\n",
        "#We then obtain the accuracy score using the evalute function\n",
        "score=model.evaluate(x_test,y_test,verbose=0)\n",
        "print('Test loss: ', score[0])\n",
        "print('Test Accuracy: ', score[1])\n"
      ],
      "execution_count": 32,
      "outputs": [
        {
          "output_type": "stream",
          "text": [
            "Epoch 1/10\n",
            "1875/1875 [==============================] - 154s 82ms/step - loss: 0.0685 - accuracy: 0.9794 - val_loss: 0.0440 - val_accuracy: 0.9859\n",
            "Epoch 2/10\n",
            "1875/1875 [==============================] - 156s 83ms/step - loss: 0.0649 - accuracy: 0.9804 - val_loss: 0.0449 - val_accuracy: 0.9856\n",
            "Epoch 3/10\n",
            "1875/1875 [==============================] - 154s 82ms/step - loss: 0.0616 - accuracy: 0.9813 - val_loss: 0.0425 - val_accuracy: 0.9864\n",
            "Epoch 4/10\n",
            "1875/1875 [==============================] - 156s 83ms/step - loss: 0.0610 - accuracy: 0.9808 - val_loss: 0.0393 - val_accuracy: 0.9873\n",
            "Epoch 5/10\n",
            "1875/1875 [==============================] - 155s 83ms/step - loss: 0.0570 - accuracy: 0.9824 - val_loss: 0.0382 - val_accuracy: 0.9879\n",
            "Epoch 6/10\n",
            "1875/1875 [==============================] - 155s 82ms/step - loss: 0.0559 - accuracy: 0.9824 - val_loss: 0.0380 - val_accuracy: 0.9877\n",
            "Epoch 7/10\n",
            "1875/1875 [==============================] - 156s 83ms/step - loss: 0.0532 - accuracy: 0.9833 - val_loss: 0.0403 - val_accuracy: 0.9869\n",
            "Epoch 8/10\n",
            "1875/1875 [==============================] - 155s 83ms/step - loss: 0.0514 - accuracy: 0.9841 - val_loss: 0.0374 - val_accuracy: 0.9882\n",
            "Epoch 9/10\n",
            "1875/1875 [==============================] - 155s 83ms/step - loss: 0.0508 - accuracy: 0.9845 - val_loss: 0.0380 - val_accuracy: 0.9872\n",
            "Epoch 10/10\n",
            "1875/1875 [==============================] - 155s 82ms/step - loss: 0.0495 - accuracy: 0.9842 - val_loss: 0.0384 - val_accuracy: 0.9875\n",
            "Test loss:  0.038416482508182526\n",
            "Test Accuracy:  0.987500011920929\n"
          ],
          "name": "stdout"
        }
      ]
    },
    {
      "cell_type": "markdown",
      "metadata": {
        "id": "-nTlnuFYrIFX",
        "colab_type": "text"
      },
      "source": [
        "# Plotting our Training Progress"
      ]
    },
    {
      "cell_type": "code",
      "metadata": {
        "id": "wg7lpvbTd78B",
        "colab_type": "code",
        "colab": {
          "base_uri": "https://localhost:8080/",
          "height": 283
        },
        "outputId": "1311d332-d54c-430b-b4d1-075b7023f4b0"
      },
      "source": [
        "#plot the loss charts\n",
        "import matplotlib.pyplot as plt\n",
        "\n",
        "#use the history object to get our saved performance results\n",
        "\n",
        "history_dict=history.history\n",
        "\n",
        "#extract the loss and the validation losses\n",
        "loss_values=history_dict['loss']\n",
        "val_loss_values=history_dict['val_loss']\n",
        "\n",
        "\n",
        "#get the number of epochs and create an array up to that number\n",
        "#using range()\n",
        "\n",
        "epochs=range(1,len(loss_values)+1)\n",
        "\n",
        "#plot line charts for both validation and Training loss\n",
        "line1=plt.plot(epochs,val_loss_values,label='Validation/Test Loss')\n",
        "line2=plt.plot(epochs, loss_values,label='Training Loss')\n",
        "plt.setp(line1,linewidth=2.0,marker='+',markersize=10.0)\n",
        "plt.setp(line2,linewidth=2.0,marker='4',markersize=10.0)\n",
        "plt.xlabel('Epochs')\n",
        "plt.ylabel('Loss')\n",
        "plt.grid(True)\n",
        "plt.legend()\n",
        "plt.show()"
      ],
      "execution_count": 33,
      "outputs": [
        {
          "output_type": "display_data",
          "data": {
            "image/png": "[encoded data removed]",
            "text/plain": [
              "<Figure size 432x288 with 1 Axes>"
            ]
          },
          "metadata": {
            "tags": [],
            "needs_background": "light"
          }
        }
      ]
    },
    {
      "cell_type": "markdown",
      "metadata": {
        "id": "RE4ZBTgU1c4r",
        "colab_type": "text"
      },
      "source": [
        "# Plot of the Accuracy "
      ]
    },
    {
      "cell_type": "code",
      "metadata": {
        "id": "Rnw8OJBrtT1x",
        "colab_type": "code",
        "colab": {
          "base_uri": "https://localhost:8080/",
          "height": 279
        },
        "outputId": "79aefab5-8ef6-4200-c69f-0f44cdd4891b"
      },
      "source": [
        "#plot the accuracy chart \n",
        "import matplotlib.pyplot as plt\n",
        "\n",
        "#use the history object to get our saved performance results\n",
        "\n",
        "history_dict=history.history\n",
        "\n",
        "#extract the accuracy\n",
        "acc_values=history_dict['accuracy']\n",
        "val_acc_values=history_dict['val_accuracy']\n",
        "\n",
        "\n",
        "#get the number of epochs and create an array up to that number\n",
        "#using range()\n",
        "\n",
        "epochs=range(1,len(loss_values)+1)\n",
        "\n",
        "#plot line charts for both validation and Training loss\n",
        "line1=plt.plot(epochs,val_acc_values,label='Validation/Test Accuracy')\n",
        "line2=plt.plot(epochs, acc_values,label='Training Accuracy')\n",
        "plt.setp(line1,linewidth=2.0,marker='+',markersize=10.0)\n",
        "plt.setp(line2,linewidth=2.0,marker='4',markersize=10.0)\n",
        "plt.xlabel('Epochs')\n",
        "plt.ylabel('Accuracy')\n",
        "plt.grid(True)\n",
        "plt.legend()\n",
        "plt.show()"
      ],
      "execution_count": 34,
      "outputs": [
        {
          "output_type": "display_data",
          "data": {
            "image/png": "[encoded data removed]",
            "text/plain": [
              "<Figure size 432x288 with 1 Axes>"
            ]
          },
          "metadata": {
            "tags": [],
            "needs_background": "light"
          }
        }
      ]
    },
    {
      "cell_type": "code",
      "metadata": {
        "id": "9_eaff7OuDTZ",
        "colab_type": "code",
        "colab": {
          "base_uri": "https://localhost:8080/",
          "height": 36
        },
        "outputId": "10567a42-0ff3-4945-e3ed-5c96f7799c9f"
      },
      "source": [
        "#saving the model \n",
        "model.save('mnist_simple_cnn_10_Epochs.h5')\n",
        "print('model is saved')"
      ],
      "execution_count": 35,
      "outputs": [
        {
          "output_type": "stream",
          "text": [
            "model is saved\n"
          ],
          "name": "stdout"
        }
      ]
    },
    {
      "cell_type": "code",
      "metadata": {
        "id": "Gx8YFlZ52yZo",
        "colab_type": "code",
        "colab": {}
      },
      "source": [
        "from tensorflow.keras.models import load_model\n",
        "classifier=load_model('mnist_simple_cnn_10_Epochs.h5')"
      ],
      "execution_count": 36,
      "outputs": []
    },
    {
      "cell_type": "markdown",
      "metadata": {
        "id": "24GZxd8I3B83",
        "colab_type": "text"
      },
      "source": [
        "#Testing the model on some random Test Data"
      ]
    },
    {
      "cell_type": "code",
      "metadata": {
        "id": "mdOLdvXw3AJH",
        "colab_type": "code",
        "colab": {
          "base_uri": "https://localhost:8080/",
          "height": 241
        },
        "outputId": "7844c33a-1f8d-4158-e2c1-bc53378e6075"
      },
      "source": [
        "import numpy as np\n",
        "figure=plt.figure(figsize=(20,20))\n",
        "for i in range(5):\n",
        "  figure.add_subplot(1,5,i+1)\n",
        "  random_idx=np.random.randint(0, len(x_test))\n",
        "  plt.imshow(x_test[random_idx,:,:,0],cmap='gray')\n",
        "  plt.axis('off')\n",
        "  print(np.squeeze(np.argmax(model.predict(x_test[random_idx].reshape(1,28,28,1)), \n",
        "                             axis=1),axis=0),end='\\t')"
      ],
      "execution_count": 45,
      "outputs": [
        {
          "output_type": "stream",
          "text": [
            "0\t5\t4\t1\t3\t"
          ],
          "name": "stdout"
        },
        {
          "output_type": "display_data",
          "data": {
            "image/png": "[encoded data removed]",
            "text/plain": [
              "<Figure size 1440x1440 with 5 Axes>"
            ]
          },
          "metadata": {
            "tags": [],
            "needs_background": "light"
          }
        }
      ]
    },
    {
      "cell_type": "markdown",
      "metadata": {
        "id": "JWGOusOD4k9T",
        "colab_type": "text"
      },
      "source": [
        "#Visualization of the CNN "
      ]
    },
    {
      "cell_type": "code",
      "metadata": {
        "id": "f8Mbi1WG4Klg",
        "colab_type": "code",
        "colab": {}
      },
      "source": [
        ""
      ],
      "execution_count": 44,
      "outputs": []
    }
  ]
}