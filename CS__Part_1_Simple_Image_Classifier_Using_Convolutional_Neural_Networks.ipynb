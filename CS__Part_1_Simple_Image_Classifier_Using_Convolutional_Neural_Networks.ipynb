{
  "nbformat": 4,
  "nbformat_minor": 0,
  "metadata": {
    "colab": {
      "name": "CS_ Part 1: Simple Image Classifier Using Convolutional Neural Networks.ipynb",
      "provenance": [],
      "toc_visible": true,
      "authorship_tag": "ABX9TyPfoy7UDFxIbdt3eGxILyVx",
      "include_colab_link": true
    },
    "kernelspec": {
      "name": "python3",
      "display_name": "Python 3"
    }
  },
  "cells": [
    {
      "cell_type": "markdown",
      "metadata": {
        "id": "view-in-github",
        "colab_type": "text"
      },
      "source": [
        "<a href=\"https://colab.research.google.com/github/lawrenceN/ASPBaseApp/blob/master/CS__Part_1_Simple_Image_Classifier_Using_Convolutional_Neural_Networks.ipynb\" target=\"_parent\"><img src=\"https://colab.research.google.com/assets/colab-badge.svg\" alt=\"Open In Colab\"/></a>"
      ]
    },
    {
      "cell_type": "markdown",
      "metadata": {
        "id": "nlpJYQD9NqEO",
        "colab_type": "text"
      },
      "source": [
        "# Objective"
      ]
    },
    {
      "cell_type": "markdown",
      "metadata": {
        "id": "eSupTkbgNuhG",
        "colab_type": "text"
      },
      "source": [
        "Create a CNN (Convolutional Neural Network) model. Use the model to classify handwritten digits."
      ]
    },
    {
      "cell_type": "markdown",
      "metadata": {
        "id": "vicPN_QaOK-C",
        "colab_type": "text"
      },
      "source": [
        "# Workflow"
      ]
    },
    {
      "cell_type": "markdown",
      "metadata": {
        "id": "JMLd8sUXOTSF",
        "colab_type": "text"
      },
      "source": [
        "1. Load in the MNIST dataset and examine the structure.\n",
        "\n",
        "\n",
        "*   Use any library to load the MNIST dataset (Include both Tensorflow and PyTorch modules) \n",
        "*   Take a closer look at the data inspecting it's size, shape and quantity.\n",
        "* View some random sample using either OpenCV or Matplotlib (or others) of the handwritten digits and observe the complexity of the images. (Do you have any issue identifying these written numbers?)\n",
        "2. Using Numpy or other libraries preparing the dataset for training \n",
        "* Ensure the format or shape of the data is appropriate for input into the model. (One -hot- encoding)-- apple 1   price 5 mango 2 10\n",
        "* Ensure the data types are correct and the data is normalized.\n",
        "3. Create a CNN with the following specifications\n",
        "*  input Dimensions 28 * 28 * 1\n",
        "*  Two Convolution Layers (kernel size 3* 3) first with 64 filters, the second 32. use ReLU  (Rectified Linear Unit - ReLU- the activation layer)\n",
        "* Max pooling size 2*2\n",
        "* Dropout rate 0.25\n",
        "* Add a Dense Layer comprising of 128 outputs\n",
        "* Add another dropout layer using rate setting of 0.5\n",
        "* Add the final dropout layer that indicated the class probabilities \n",
        "4. Train the CNN on the MNIST dataset that was prepared in step 2 \n",
        " * Train for atleast 10 Epochs using a batch size of 32\n",
        " 5. Plot graphs showing how your training and validataion loss and accuracy changed with respect to the Epochs completed.\n",
        " 6. Save the model, will be used in the second PART \n",
        " 7. Test the model on some random samples from the test dataset.\n"
      ]
    },
    {
      "cell_type": "markdown",
      "metadata": {
        "id": "54oylXCiUEU9",
        "colab_type": "text"
      },
      "source": [
        "# Deliverable "
      ]
    },
    {
      "cell_type": "markdown",
      "metadata": {
        "id": "DdOy4xq1UVle",
        "colab_type": "text"
      },
      "source": [
        "Jupyter Notebook documents the workflow as we take the MNIST dataset, view samples, convert it into the right shape/format as required for the deep learning library. The model built will be the one used for the next step."
      ]
    },
    {
      "cell_type": "markdown",
      "metadata": {
        "id": "cEO5nYJ1Up_l",
        "colab_type": "text"
      },
      "source": [
        "# Loading the Handwritten Digit Dataset (MNIST)"
      ]
    },
    {
      "cell_type": "code",
      "metadata": {
        "id": "JqDGJF9kUu8j",
        "colab_type": "code",
        "colab": {}
      },
      "source": [
        "from tensorflow.keras.datasets import mnist"
      ],
      "execution_count": null,
      "outputs": []
    },
    {
      "cell_type": "code",
      "metadata": {
        "id": "oSxvqeLRVbu-",
        "colab_type": "code",
        "colab": {
          "base_uri": "https://localhost:8080/",
          "height": 73
        },
        "outputId": "8a42ae8f-fafc-41ee-f373-9aa1f7d763c5"
      },
      "source": [
        "#Loads the MNIST dataset\n",
        "(x_train, y_train),(x_test,y_test)=mnist.load_data()"
      ],
      "execution_count": null,
      "outputs": [
        {
          "output_type": "stream",
          "text": [
            "Downloading data from https://storage.googleapis.com/tensorflow/tf-keras-datasets/mnist.npz\n",
            "11493376/11490434 [==============================] - 0s 0us/step\n"
          ],
          "name": "stdout"
        }
      ]
    },
    {
      "cell_type": "code",
      "metadata": {
        "id": "xxIalxWmV2dO",
        "colab_type": "code",
        "colab": {
          "base_uri": "https://localhost:8080/",
          "height": 235
        },
        "outputId": "c819660d-c8a6-4671-9c5b-0f59285ea33e"
      },
      "source": [
        "#Display the number of samples in the x_train, x_test, y_train, y_test\n",
        "print(\"Initial shape or dimensions of the x_train\",str(x_train.shape)+ '\\n')\n",
        "print('Number of samples in our training data: '+ str(len(x_train)) )\n",
        "print('Number of labels in our training data: '+ str(len(x_train)))\n",
        "print('Number of samples in our test data: '+ str(len(x_test)))\n",
        "print('Number of labels in our test data: '+ str(len(y_test))+ '\\n')\n",
        "\n",
        "print('Dimensions of the x_train: '+str(x_train[0].shape))\n",
        "print('Labels in x_train: '+str(y_train.shape)+ '\\n')\n",
        "\n",
        "print('Dimensions of the x_text: '+ str(x_test[0].shape))\n",
        "print('Labels in y_test: '+ str(y_test.shape)) "
      ],
      "execution_count": null,
      "outputs": [
        {
          "output_type": "stream",
          "text": [
            "Initial shape or dimensions of the x_train (60000, 28, 28)\n",
            "\n",
            "Number of samples in our training data: 60000\n",
            "Number of labels in our training data: 60000\n",
            "Number of samples in our test data: 10000\n",
            "Number of labels in our test data: 10000\n",
            "\n",
            "Dimensions of the x_train: (28, 28)\n",
            "Labels in x_train: (60000,)\n",
            "\n",
            "Dimensions of the x_text: (28, 28)\n",
            "Labels in y_test: (10000,)\n"
          ],
          "name": "stdout"
        }
      ]
    },
    {
      "cell_type": "markdown",
      "metadata": {
        "id": "-jZTYfeTYZsB",
        "colab_type": "text"
      },
      "source": [
        "# Let's take a look the images in the Dataset"
      ]
    },
    {
      "cell_type": "code",
      "metadata": {
        "id": "79Ep1H4KV5CH",
        "colab_type": "code",
        "colab": {}
      },
      "source": [
        "#importing matplotlib\n",
        "import matplotlib.pyplot as plt\n",
        "import numpy as np\n"
      ],
      "execution_count": null,
      "outputs": []
    },
    {
      "cell_type": "code",
      "metadata": {
        "id": "lJt_ZkxzWcfg",
        "colab_type": "code",
        "colab": {
          "base_uri": "https://localhost:8080/",
          "height": 191
        },
        "outputId": "4aea403d-483b-44ad-ec68-bb9c468dcbb3"
      },
      "source": [
        "#Plot 6 images, using subplot\n",
        "#set the colormap to grey since our image dataset is grayscale.\n",
        "plt.subplot(331)\n",
        "random_num=np.random.randint(0,len(x_train))\n",
        "_=plt.imshow(x_train[random_num],cmap=plt.get_cmap('gray'))\n",
        "\n",
        "plt.subplot(332)\n",
        "random_num=np.random.randint(0,len(x_train))\n",
        "_=plt.imshow(x_train[random_num],cmap=plt.get_cmap('gray'))\n",
        "\n",
        "plt.subplot(333)\n",
        "random_num=np.random.randint(0,len(x_train))\n",
        "_=plt.imshow(x_train[random_num],cmap=plt.get_cmap('gray'))\n",
        "\n",
        "plt.subplot(334)\n",
        "random_num=np.random.randint(0,len(x_train))\n",
        "_=plt.imshow(x_train[random_num],cmap=plt.get_cmap('gray'))\n",
        "\n",
        "plt.subplot(335)\n",
        "random_num=np.random.randint(0,len(x_train))\n",
        "_=plt.imshow(x_train[random_num],cmap=plt.get_cmap('gray'))\n",
        "\n",
        "\n",
        "plt.subplot(336)\n",
        "random_num=np.random.randint(0,len(x_train))\n",
        "_=plt.imshow(x_train[random_num],cmap=plt.get_cmap('gray'))\n",
        "plt.show()"
      ],
      "execution_count": null,
      "outputs": [
        {
          "output_type": "display_data",
          "data": {
            "image/png": "[encoded data removed]",
            "text/plain": [
              "<Figure size 432x288 with 6 Axes>"
            ]
          },
          "metadata": {
            "tags": [],
            "needs_background": "light"
          }
        }
      ]
    },
    {
      "cell_type": "markdown",
      "metadata": {
        "id": "ljWXOkQhXY1Y",
        "colab_type": "text"
      },
      "source": [
        "# Preparing the Dataset for Keras"
      ]
    },
    {
      "cell_type": "markdown",
      "metadata": {
        "id": "xC15GvBrXhbG",
        "colab_type": "text"
      },
      "source": [
        "Keras requires our input data as a 4-d shape of (60000, 28,28,1). When we initially loaded our data, x_train was (60,000,28,28). We need our labels to be one-hot-encoded (https://machinelearningmastery.com/why-one-hot-encode-data-in-machine-learning/). "
      ]
    },
    {
      "cell_type": "code",
      "metadata": {
        "id": "N2kaVMA3WGkZ",
        "colab_type": "code",
        "colab": {
          "base_uri": "https://localhost:8080/",
          "height": 72
        },
        "outputId": "ed1dc250-45b4-408f-bc25-7647496e4377"
      },
      "source": [
        "#lets store the number of rows and columns\n",
        "img_rows=x_train[0].shape[0]\n",
        "img_cols=x_train[0].shape[1]\n",
        "\n",
        "#get the data in the right shape for Keras.\n",
        "#add a 4th dimension to our data (60 000, 28,28) to (60 000,28,28,1)\n",
        "x_train=x_train.reshape(x_train.shape[0],img_rows,img_cols,1)\n",
        "x_test=x_test.reshape(x_test.shape[0],img_rows,img_cols,1)\n",
        "\n",
        "\n",
        "#store the shape of a single image for future use as a variable storing our input shape\n",
        "input_shape=(img_rows,img_cols,1)\n",
        "\n",
        "#change the image type to be a float\n",
        "x_train=x_train.astype('float32') # unint8\n",
        "x_test=x_test.astype('float32')\n",
        "\n",
        "#normalize the data by changing the range from 0-255 to 0-1 \n",
        "\n",
        "x_train /=255.0\n",
        "x_test /=255.0\n",
        "\n",
        "print('x_train shape: ', x_train.shape)\n",
        "print(x_train.shape[0], 'train samples')\n",
        "print(x_test.shape[0],'test samples')\n",
        "\n"
      ],
      "execution_count": null,
      "outputs": [
        {
          "output_type": "stream",
          "text": [
            "x_train shape:  (60000, 28, 28, 1)\n",
            "60000 train samples\n",
            "10000 test samples\n"
          ],
          "name": "stdout"
        }
      ]
    },
    {
      "cell_type": "markdown",
      "metadata": {
        "id": "NMensUTsbi50",
        "colab_type": "text"
      },
      "source": [
        "# Performe the one-hot-enconding of the data labels"
      ]
    },
    {
      "cell_type": "code",
      "metadata": {
        "id": "3tGK6RaaWTYA",
        "colab_type": "code",
        "colab": {
          "base_uri": "https://localhost:8080/",
          "height": 35
        },
        "outputId": "5f79e332-8d81-47af-f71c-1c8367d0a36f"
      },
      "source": [
        "from tensorflow.keras.utils import to_categorical\n",
        "#one hot encode for outputs\n",
        "y_train=to_categorical(y_train)\n",
        "y_test=to_categorical(y_test)\n",
        "\n",
        "#count the number of columns in our hot encoded matrix\n",
        "print('Number of Classes: '+str(y_test.shape[1]))\n",
        "num_classes=y_test.shape[1]"
      ],
      "execution_count": null,
      "outputs": [
        {
          "output_type": "stream",
          "text": [
            "Number of Classes: 10\n"
          ],
          "name": "stdout"
        }
      ]
    },
    {
      "cell_type": "markdown",
      "metadata": {
        "id": "aotWUYW3cqq_",
        "colab_type": "text"
      },
      "source": [
        "# Creating the CNN Model"
      ]
    },
    {
      "cell_type": "code",
      "metadata": {
        "id": "yxeQh6GSYhKs",
        "colab_type": "code",
        "colab": {
          "base_uri": "https://localhost:8080/",
          "height": 436
        },
        "outputId": "cbdceb14-7a52-4cf7-a280-dd3868727870"
      },
      "source": [
        "from tensorflow.keras.models import Sequential\n",
        "from tensorflow.keras.layers import Dense, Dropout, Flatten\n",
        "from tensorflow.keras.layers import Conv2D, MaxPooling2D\n",
        "from tensorflow.keras import backend as K\n",
        "from tensorflow.keras.optimizers import SGD\n",
        "\n",
        "#create a model\n",
        "model=Sequential()\n",
        "# First convolutional layer, Filter size 32 which reduces our layer size to 26*26*32\n",
        "# we use ReLU activation and specify our input shape which is 28*28*1\n",
        "model.add(Conv2D(32, kernel_size=(3,3),activation='relu',input_shape=input_shape))\n",
        "\n",
        "#Second Convolutional layer, filter size 64 which reduces our layer size to 24 *24*64\n",
        "model.add(Conv2D(64,(3,3), activation='relu'))\n",
        "\n",
        "# We use MaxPooling with a kernal size of 2* 2, this reduces our size to 12*12*64\n",
        "model.add(MaxPooling2D(pool_size=(2,2)))\n",
        "\n",
        "#Dropout P setting as 0.25 to reduce overfitting\n",
        "model.add(Dropout(0.25))\n",
        "\n",
        "#we then Flatten our tensor object before input into our Dense layer\n",
        "# A flatten operation on a tensor reshapes the tensor to have the shape that is \n",
        "# equal to the number of elements contained in tensor\n",
        "#in our CNN it goes from 12 * 12 *64 to 9216 *1\n",
        "model.add(Flatten())\n",
        "\n",
        "#We use another Dropout layer\n",
        "model.add(Dropout(0.5))\n",
        "\n",
        "# We create fully connected/Dense layer with an output of each class (10)\n",
        "model.add(Dense(num_classes,activation='softmax'))\n",
        "\n",
        "#We compile our model, this creates an object that stores the model. We set the\n",
        "# optimizer to use stochastic Gradient Descent (learning rate of 0.01)\n",
        "#We set the loss function to be categorical_crossentropy as it's suitable for \n",
        "## multiclass problems. And finally the metrics (to judge the performance of the \n",
        "# the model) we use accuracy\n",
        "model.compile(loss='categorical_crossentropy',optimizer=SGD(0.01),metrics=['accuracy'])\n",
        "#The summary function can be used to display the model layers and parameters\n",
        "print(model.summary())"
      ],
      "execution_count": null,
      "outputs": [
        {
          "output_type": "stream",
          "text": [
            "Model: \"sequential\"\n",
            "_________________________________________________________________\n",
            "Layer (type)                 Output Shape              Param #   \n",
            "=================================================================\n",
            "conv2d (Conv2D)              (None, 26, 26, 32)        320       \n",
            "_________________________________________________________________\n",
            "conv2d_1 (Conv2D)            (None, 24, 24, 64)        18496     \n",
            "_________________________________________________________________\n",
            "max_pooling2d (MaxPooling2D) (None, 12, 12, 64)        0         \n",
            "_________________________________________________________________\n",
            "dropout (Dropout)            (None, 12, 12, 64)        0         \n",
            "_________________________________________________________________\n",
            "flatten (Flatten)            (None, 9216)              0         \n",
            "_________________________________________________________________\n",
            "dropout_1 (Dropout)          (None, 9216)              0         \n",
            "_________________________________________________________________\n",
            "dense (Dense)                (None, 10)                92170     \n",
            "=================================================================\n",
            "Total params: 110,986\n",
            "Trainable params: 110,986\n",
            "Non-trainable params: 0\n",
            "_________________________________________________________________\n",
            "None\n"
          ],
          "name": "stdout"
        }
      ]
    },
    {
      "cell_type": "markdown",
      "metadata": {
        "id": "UZrgWLlljUYT",
        "colab_type": "text"
      },
      "source": [
        "# Train the CNN"
      ]
    },
    {
      "cell_type": "code",
      "metadata": {
        "id": "e-bo_vM0d7Ee",
        "colab_type": "code",
        "colab": {
          "base_uri": "https://localhost:8080/",
          "height": 437
        },
        "outputId": "b7f23492-bb96-466b-db0a-75cc6df3d287"
      },
      "source": [
        "batch_size = 32\n",
        "epochs=10\n",
        "\n",
        "# store the results for plotting later\n",
        "# in our fit function we specify our dataset (x_train and y_train)\n",
        "#batch size (typically 16  to 128 -- RAM). The number of epochs (10 to 100)\n",
        "# validation dataset - (x_test, y_test)\n",
        "#verbose = 1, seting the training to output performance metrics every epoch \n",
        "\n",
        "history=model.fit(x_train,y_train, batch_size=batch_size,epochs=epochs,\n",
        "                  verbose=1,validation_data=(x_test,y_test))\n",
        "\n",
        "#We then obtain the accuracy score using the evalute function\n",
        "score=model.evaluate(x_test,y_test,verbose=0)\n",
        "print('Test loss: ', score[0])\n",
        "print('Test Accuracy: ', score[1])\n"
      ],
      "execution_count": null,
      "outputs": [
        {
          "output_type": "stream",
          "text": [
            "Epoch 1/10\n",
            "1875/1875 [==============================] - 155s 82ms/step - loss: 0.5183 - accuracy: 0.8425 - val_loss: 0.2511 - val_accuracy: 0.9291\n",
            "Epoch 2/10\n",
            "1875/1875 [==============================] - 154s 82ms/step - loss: 0.2389 - accuracy: 0.9300 - val_loss: 0.1336 - val_accuracy: 0.9648\n",
            "Epoch 3/10\n",
            "1875/1875 [==============================] - 154s 82ms/step - loss: 0.1509 - accuracy: 0.9557 - val_loss: 0.0926 - val_accuracy: 0.9738\n",
            "Epoch 4/10\n",
            "1875/1875 [==============================] - 154s 82ms/step - loss: 0.1216 - accuracy: 0.9634 - val_loss: 0.0767 - val_accuracy: 0.9768\n",
            "Epoch 5/10\n",
            "1875/1875 [==============================] - 153s 82ms/step - loss: 0.1051 - accuracy: 0.9682 - val_loss: 0.0653 - val_accuracy: 0.9805\n",
            "Epoch 6/10\n",
            "1875/1875 [==============================] - 154s 82ms/step - loss: 0.0950 - accuracy: 0.9714 - val_loss: 0.0614 - val_accuracy: 0.9808\n",
            "Epoch 7/10\n",
            "1875/1875 [==============================] - 154s 82ms/step - loss: 0.0867 - accuracy: 0.9739 - val_loss: 0.0563 - val_accuracy: 0.9829\n",
            "Epoch 8/10\n",
            "1875/1875 [==============================] - 154s 82ms/step - loss: 0.0801 - accuracy: 0.9756 - val_loss: 0.0536 - val_accuracy: 0.9840\n",
            "Epoch 9/10\n",
            "1875/1875 [==============================] - 155s 83ms/step - loss: 0.0765 - accuracy: 0.9765 - val_loss: 0.0504 - val_accuracy: 0.9837\n",
            "Epoch 10/10\n",
            "1875/1875 [==============================] - 155s 83ms/step - loss: 0.0724 - accuracy: 0.9778 - val_loss: 0.0479 - val_accuracy: 0.9852\n",
            "Test loss:  0.04786095395684242\n",
            "Test Accuracy:  0.9851999878883362\n"
          ],
          "name": "stdout"
        }
      ]
    },
    {
      "cell_type": "markdown",
      "metadata": {
        "id": "-nTlnuFYrIFX",
        "colab_type": "text"
      },
      "source": [
        "# Plotting our Training Progress"
      ]
    },
    {
      "cell_type": "code",
      "metadata": {
        "id": "wg7lpvbTd78B",
        "colab_type": "code",
        "colab": {
          "base_uri": "https://localhost:8080/",
          "height": 279
        },
        "outputId": "55e4d209-29cd-485c-fec7-a2e2f92ce5d7"
      },
      "source": [
        "#plot the loss charts\n",
        "import matplotlib.pyplot as plt\n",
        "\n",
        "#use the history object to get our saved performance results\n",
        "\n",
        "history_dict=history.history\n",
        "\n",
        "#extract the loss and the validation losses\n",
        "loss_values=history_dict['loss']\n",
        "val_loss_values=history_dict['val_loss']\n",
        "\n",
        "\n",
        "#get the number of epochs and create an array up to that number\n",
        "#using range()\n",
        "\n",
        "epochs=range(1,len(loss_values)+1)\n",
        "\n",
        "#plot line charts for both validation and Training loss\n",
        "line1=plt.plot(epochs,val_loss_values,label='Validation/Test Loss')\n",
        "line2=plt.plot(epochs, loss_values,label='Training Loss')\n",
        "plt.setp(line1,linewidth=2.0,marker='+',markersize=10.0)\n",
        "plt.setp(line2,linewidth=2.0,marker='4',markersize=10.0)\n",
        "plt.xlabel('Epochs')\n",
        "plt.ylabel('Loss')\n",
        "plt.grid(True)\n",
        "plt.legend()\n",
        "plt.show()"
      ],
      "execution_count": null,
      "outputs": [
        {
          "output_type": "display_data",
          "data": {
            "image/png": "[encoded data removed]",
            "text/plain": [
              "<Figure size 432x288 with 1 Axes>"
            ]
          },
          "metadata": {
            "tags": [],
            "needs_background": "light"
          }
        }
      ]
    },
    {
      "cell_type": "markdown",
      "metadata": {
        "id": "RE4ZBTgU1c4r",
        "colab_type": "text"
      },
      "source": [
        "# Plot of the Accuracy "
      ]
    },
    {
      "cell_type": "code",
      "metadata": {
        "id": "Rnw8OJBrtT1x",
        "colab_type": "code",
        "colab": {
          "base_uri": "https://localhost:8080/",
          "height": 279
        },
        "outputId": "b2846657-60a2-45c8-8b18-7644bcb94941"
      },
      "source": [
        "#plot the accuracy chart \n",
        "import matplotlib.pyplot as plt\n",
        "\n",
        "#use the history object to get our saved performance results\n",
        "\n",
        "history_dict=history.history\n",
        "\n",
        "#extract the accuracy\n",
        "acc_values=history_dict['accuracy']\n",
        "val_acc_values=history_dict['val_accuracy']\n",
        "\n",
        "\n",
        "#get the number of epochs and create an array up to that number\n",
        "#using range()\n",
        "\n",
        "epochs=range(1,len(loss_values)+1)\n",
        "\n",
        "#plot line charts for both validation and Training loss\n",
        "line1=plt.plot(epochs,val_acc_values,label='Validation/Test Accuracy')\n",
        "line2=plt.plot(epochs, acc_values,label='Training Accuracy')\n",
        "plt.setp(line1,linewidth=2.0,marker='+',markersize=10.0)\n",
        "plt.setp(line2,linewidth=2.0,marker='4',markersize=10.0)\n",
        "plt.xlabel('Epochs')\n",
        "plt.ylabel('Accuracy')\n",
        "plt.grid(True)\n",
        "plt.legend()\n",
        "plt.show()"
      ],
      "execution_count": null,
      "outputs": [
        {
          "output_type": "display_data",
          "data": {
            "image/png": "[encoded data removed]",
            "text/plain": [
              "<Figure size 432x288 with 1 Axes>"
            ]
          },
          "metadata": {
            "tags": [],
            "needs_background": "light"
          }
        }
      ]
    },
    {
      "cell_type": "code",
      "metadata": {
        "id": "9_eaff7OuDTZ",
        "colab_type": "code",
        "colab": {
          "base_uri": "https://localhost:8080/",
          "height": 35
        },
        "outputId": "e6cdf681-5087-4278-fe32-c5978ec0602e"
      },
      "source": [
        "#saving the model \n",
        "model.save('mnist_simple_cnn_10_Epochs.h5')\n",
        "print('model is saved')"
      ],
      "execution_count": null,
      "outputs": [
        {
          "output_type": "stream",
          "text": [
            "model is saved\n"
          ],
          "name": "stdout"
        }
      ]
    },
    {
      "cell_type": "code",
      "metadata": {
        "id": "Gx8YFlZ52yZo",
        "colab_type": "code",
        "colab": {}
      },
      "source": [
        "from tensorflow.keras.models import load_model\n",
        "classifier=load_model('mnist_simple_cnn_10_Epochs.h5')"
      ],
      "execution_count": null,
      "outputs": []
    },
    {
      "cell_type": "markdown",
      "metadata": {
        "id": "24GZxd8I3B83",
        "colab_type": "text"
      },
      "source": [
        "#Testing the model on some random Test Data"
      ]
    },
    {
      "cell_type": "code",
      "metadata": {
        "id": "mdOLdvXw3AJH",
        "colab_type": "code",
        "colab": {
          "base_uri": "https://localhost:8080/",
          "height": 165
        },
        "outputId": "9a235828-5ba6-4f30-ae6a-714a277037e3"
      },
      "source": [
        "import numpy as np\n",
        "figure=plt.figure(figsize=(20,20))\n",
        "for i in range(5):\n",
        "  figure.add_subplot(1,5,i+1)\n",
        "  random_idx=np.random.randint(0, len(x_test))\n",
        "  plt.imshow(x_test[random_idx,:,:,0],cmap='gray')\n",
        "  plt.axis('off')\n",
        "  print(np.squeeze(np.argmax(model.predict(x_test[random_idx].reshape(1,28,28,1)), \n",
        "                             axis=1),axis=0),end='\\t')"
      ],
      "execution_count": null,
      "outputs": [
        {
          "output_type": "stream",
          "text": [
            "3\t4\t5\t9\t2\t"
          ],
          "name": "stdout"
        },
        {
          "output_type": "display_data",
          "data": {
            "image/png": "[encoded data removed]",
            "text/plain": [
              "<Figure size 1440x1440 with 5 Axes>"
            ]
          },
          "metadata": {
            "tags": [],
            "needs_background": "light"
          }
        }
      ]
    },
    {
      "cell_type": "markdown",
      "metadata": {
        "id": "JWGOusOD4k9T",
        "colab_type": "text"
      },
      "source": [
        "#Visualization of the CNN "
      ]
    },
    {
      "cell_type": "markdown",
      "metadata": {
        "id": "tI8_easJd26b",
        "colab_type": "text"
      },
      "source": [
        "Objective: Load the trained CNN and understand what they 'see' or learn, this will help in better understanding how they work. \n",
        "\n",
        "The workflow is as follows:\n",
        "\n",
        "\n",
        "1.   Load dataset from milestone 1\n",
        "2.   Analyse the model's performance by viewing Confusion matrix and Classification Report. Aim at identifying the weakness of the model. Individual performance of each class the CNN and see cases where it has trouble classifying the data correctly. \n",
        "3. Identify all samples wrongly classified by the CNN and display the results. Think why the model got it wrong. \n",
        "4. Extract our layer outputs and create our activation model.So that we can visualize the activations of each layer. Give the model some input and see how it deal with it. \n",
        "5. Display the output shape of the first activation layer and compare it with the output layer shape that can be seen from the model summary.\n",
        "6. Show the output of the activation map of 4th Convolution Filter or Feature map of the first Convolution Layer.\n",
        "7. Display all the activations for the first 3 layers of the model.\n",
        "\n",
        "Output: Display of the classification report and confusion matrix. A display of sample data that is wrongly classified. We then display the activation layer for various CNN layers. \n",
        "\n",
        "\n",
        "\n",
        "\n"
      ]
    },
    {
      "cell_type": "code",
      "metadata": {
        "id": "f8Mbi1WG4Klg",
        "colab_type": "code",
        "colab": {}
      },
      "source": [
        "#Reload the data.\n",
        "from tensorflow.keras.models import load_model\n",
        "from tensorflow.keras.utils import to_categorical\n",
        "from tensorflow.keras.datasets import mnist\n"
      ],
      "execution_count": null,
      "outputs": []
    },
    {
      "cell_type": "code",
      "metadata": {
        "id": "bb_GRlyOlVle",
        "colab_type": "code",
        "colab": {}
      },
      "source": [
        "#load the datasets\n",
        "(x_train, y_train),(x_test,y_test)=mnist.load_data()\n",
        "model=load_model('mnist_simple_cnn_10_Epochs.h5')"
      ],
      "execution_count": null,
      "outputs": []
    },
    {
      "cell_type": "code",
      "metadata": {
        "id": "JaP7cc0-mG9o",
        "colab_type": "code",
        "colab": {}
      },
      "source": [
        "#Number of rows and cols\n",
        "img_rows=x_train[0].shape[0]\n",
        "img_rows=x_train[0].shape[1]"
      ],
      "execution_count": null,
      "outputs": []
    },
    {
      "cell_type": "code",
      "metadata": {
        "id": "nLp5XZZllxWB",
        "colab_type": "code",
        "colab": {}
      },
      "source": [
        "#Get the data in the right shape for keras.\n",
        "x_test=x_test.reshape(x_test.shape[0], img_rows,img_cols,1)"
      ],
      "execution_count": null,
      "outputs": []
    },
    {
      "cell_type": "code",
      "metadata": {
        "id": "gmf7pSQ3ly0-",
        "colab_type": "code",
        "colab": {}
      },
      "source": [
        "#store the shape of a single image\n",
        "imput_shape=(img_rows,img_cols,1)"
      ],
      "execution_count": null,
      "outputs": []
    },
    {
      "cell_type": "code",
      "metadata": {
        "id": "0Pvi3Fwrm_Yj",
        "colab_type": "code",
        "colab": {}
      },
      "source": [
        "#Change the image type to a float32 data type\n",
        "x_test=x_test.astype('float32')"
      ],
      "execution_count": null,
      "outputs": []
    },
    {
      "cell_type": "code",
      "metadata": {
        "id": "We4fmoiyntot",
        "colab_type": "code",
        "colab": {
          "base_uri": "https://localhost:8080/",
          "height": 35
        },
        "outputId": "8d6c40a0-a3ab-4594-97db-e0fc83196118"
      },
      "source": [
        "y_test"
      ],
      "execution_count": null,
      "outputs": [
        {
          "output_type": "execute_result",
          "data": {
            "text/plain": [
              "array([7, 2, 1, ..., 4, 5, 6], dtype=uint8)"
            ]
          },
          "metadata": {
            "tags": []
          },
          "execution_count": 26
        }
      ]
    },
    {
      "cell_type": "code",
      "metadata": {
        "id": "hwzcG_eHnyVi",
        "colab_type": "code",
        "colab": {}
      },
      "source": [
        "x_test"
      ],
      "execution_count": null,
      "outputs": []
    },
    {
      "cell_type": "code",
      "metadata": {
        "id": "4xvc6UbvnXuF",
        "colab_type": "code",
        "colab": {
          "base_uri": "https://localhost:8080/",
          "height": 35
        },
        "outputId": "77637f52-3363-4d77-d009-a2a7ca214bd6"
      },
      "source": [
        "#Normalize the data by changing the ranges from 0-255 -- 0-1\n",
        "x_test /=255.0 \n",
        "y_test=to_categorical(y_test)\n",
        "print(x_test.shape[0],'test samples')"
      ],
      "execution_count": null,
      "outputs": [
        {
          "output_type": "stream",
          "text": [
            "10000 test samples\n"
          ],
          "name": "stdout"
        }
      ]
    },
    {
      "cell_type": "code",
      "metadata": {
        "id": "v165S8cEoAT-",
        "colab_type": "code",
        "colab": {}
      },
      "source": [
        ""
      ],
      "execution_count": null,
      "outputs": []
    },
    {
      "cell_type": "markdown",
      "metadata": {
        "id": "5U_jwM5boGbq",
        "colab_type": "text"
      },
      "source": [
        "# Display the Classification Report"
      ]
    },
    {
      "cell_type": "code",
      "metadata": {
        "id": "TQ5WtfsnoKBH",
        "colab_type": "code",
        "colab": {
          "base_uri": "https://localhost:8080/",
          "height": 583
        },
        "outputId": "cebd3149-a07e-463e-e8f3-b328d9a9743b"
      },
      "source": [
        "from sklearn.metrics import classification_report, confusion_matrix\n",
        "import numpy as np\n",
        "y_pred=model.predict_classes(x_test)\n",
        "print(classification_report(np.argmax(y_test,axis=1),y_pred) )\n",
        "print(confusion_matrix(np.argmax(y_test,axis=1),y_pred))"
      ],
      "execution_count": null,
      "outputs": [
        {
          "output_type": "stream",
          "text": [
            "WARNING:tensorflow:From <ipython-input-29-b493749ee2be>:3: Sequential.predict_classes (from tensorflow.python.keras.engine.sequential) is deprecated and will be removed after 2021-01-01.\n",
            "Instructions for updating:\n",
            "Please use instead:* `np.argmax(model.predict(x), axis=-1)`,   if your model does multi-class classification   (e.g. if it uses a `softmax` last-layer activation).* `(model.predict(x) > 0.5).astype(\"int32\")`,   if your model does binary classification   (e.g. if it uses a `sigmoid` last-layer activation).\n",
            "              precision    recall  f1-score   support\n",
            "\n",
            "           0       0.98      0.99      0.99       980\n",
            "           1       0.99      1.00      0.99      1135\n",
            "           2       0.98      0.98      0.98      1032\n",
            "           3       0.98      0.99      0.99      1010\n",
            "           4       0.99      0.99      0.99       982\n",
            "           5       0.99      0.99      0.99       892\n",
            "           6       0.99      0.99      0.99       958\n",
            "           7       0.98      0.98      0.98      1028\n",
            "           8       0.98      0.98      0.98       974\n",
            "           9       0.99      0.97      0.98      1009\n",
            "\n",
            "    accuracy                           0.99     10000\n",
            "   macro avg       0.99      0.99      0.99     10000\n",
            "weighted avg       0.99      0.99      0.99     10000\n",
            "\n",
            "[[ 975    0    1    0    0    0    2    1    1    0]\n",
            " [   0 1130    1    1    0    0    2    0    1    0]\n",
            " [   1    2 1014    3    1    0    2    5    4    0]\n",
            " [   0    0    2 1000    0    4    0    2    2    0]\n",
            " [   1    0    0    0  976    0    1    0    0    4]\n",
            " [   2    0    0    5    0  880    3    1    1    0]\n",
            " [   6    2    0    0    1    1  946    0    2    0]\n",
            " [   1    3   11    3    1    0    0 1005    3    1]\n",
            " [   6    0    3    2    2    2    2    3  950    4]\n",
            " [   4    6    0    3    8    3    0    7    2  976]]\n"
          ],
          "name": "stdout"
        }
      ]
    },
    {
      "cell_type": "code",
      "metadata": {
        "id": "RqmaSo_Co_Uo",
        "colab_type": "code",
        "colab": {}
      },
      "source": [
        ""
      ],
      "execution_count": null,
      "outputs": []
    },
    {
      "cell_type": "markdown",
      "metadata": {
        "id": "qXrYA0wwpb1_",
        "colab_type": "text"
      },
      "source": [
        "# Getting the Misclassified Data"
      ]
    },
    {
      "cell_type": "code",
      "metadata": {
        "id": "b3fUi0sapfqF",
        "colab_type": "code",
        "colab": {}
      },
      "source": [
        "import cv2\n",
        "import numpy as np\n",
        "from tensorflow.keras.datasets import mnist\n",
        "\n"
      ],
      "execution_count": null,
      "outputs": []
    },
    {
      "cell_type": "code",
      "metadata": {
        "id": "Opc0z6NCwCja",
        "colab_type": "code",
        "colab": {}
      },
      "source": [
        "#load the data\n",
        "(x_train, y_train),(x_test,y_test)=mnist.load_data()"
      ],
      "execution_count": null,
      "outputs": []
    },
    {
      "cell_type": "code",
      "metadata": {
        "id": "jqS6Dt3wwOU_",
        "colab_type": "code",
        "colab": {
          "base_uri": "https://localhost:8080/",
          "height": 308
        },
        "outputId": "50715d76-0603-4732-978f-3ae6d7243bbe"
      },
      "source": [
        "#use numpy to create an array that stores a value of 1 when a misclassification occurs.\n",
        "result=np.absolute(y_test -y_pred)\n",
        "result_indices=np.nonzero(result>0)\n",
        "#display the indices of the misclassification\n",
        "print('Indices of misclassfied data are: \\n\\n'+ str(result_indices))"
      ],
      "execution_count": null,
      "outputs": [
        {
          "output_type": "stream",
          "text": [
            "Indices of misclassfied data are: \n",
            "\n",
            "(array([ 259,  320,  321,  340,  445,  449,  582,  659,  684,  717,  720,\n",
            "        740,  839,  844,  882,  924,  947,  965, 1014, 1039, 1112, 1226,\n",
            "       1232, 1242, 1247, 1260, 1299, 1319, 1326, 1337, 1364, 1393, 1414,\n",
            "       1500, 1530, 1553, 1621, 1681, 1686, 1709, 1717, 1754, 1878, 1901,\n",
            "       2035, 2098, 2118, 2129, 2130, 2135, 2189, 2272, 2293, 2387, 2406,\n",
            "       2414, 2425, 2488, 2607, 2654, 2720, 2760, 2780, 2896, 2921, 2939,\n",
            "       2953, 2970, 2979, 2995, 3030, 3060, 3073, 3289, 3384, 3422, 3503,\n",
            "       3520, 3558, 3559, 3597, 3726, 3751, 3767, 3796, 3808, 3811, 3838,\n",
            "       3850, 3893, 3906, 3943, 4007, 4065, 4075, 4078, 4102, 4176, 4224,\n",
            "       4238, 4248, 4256, 4500, 4571, 4601, 4639, 4740, 4761, 4807, 4823,\n",
            "       4874, 4956, 4966, 5331, 5634, 5642, 5887, 5888, 5937, 5955, 5973,\n",
            "       6091, 6505, 6571, 6576, 6597, 6625, 6651, 6783, 7121, 7432, 8059,\n",
            "       8094, 8408, 9009, 9015, 9019, 9024, 9638, 9664, 9692, 9729, 9770,\n",
            "       9811, 9839, 9892, 9905, 9982]),)\n"
          ],
          "name": "stdout"
        }
      ]
    },
    {
      "cell_type": "markdown",
      "metadata": {
        "id": "U1VEBCrQxS6n",
        "colab_type": "text"
      },
      "source": [
        "# Reload the Dataset"
      ]
    },
    {
      "cell_type": "code",
      "metadata": {
        "id": "7D6MRHSXxhEg",
        "colab_type": "code",
        "colab": {
          "base_uri": "https://localhost:8080/",
          "height": 72
        },
        "outputId": "4799e5ad-e798-4f25-9069-0ffee981e774"
      },
      "source": [
        "#lets store the number of rows and columns\n",
        "img_rows=x_train[0].shape[0]\n",
        "img_cols=x_train[0].shape[1]\n",
        "\n",
        "#get the data in the right shape for Keras.\n",
        "#add a 4th dimension to our data (60 000, 28,28) to (60 000,28,28,1)\n",
        "x_train=x_train.reshape(x_train.shape[0],img_rows,img_cols,1)\n",
        "x_test=x_test.reshape(x_test.shape[0],img_rows,img_cols,1)\n",
        "\n",
        "\n",
        "#store the shape of a single image\n",
        "input_shape=(img_rows,img_cols,1)\n",
        "\n",
        "#change the image type to be a float\n",
        "x_train=x_train.astype('float32') # unint8\n",
        "x_test=x_test.astype('float32')\n",
        "\n",
        "#normalize the data by changing the range from 0-255 to 0-1 \n",
        "\n",
        "x_train /=255.0\n",
        "x_test /=255.0\n",
        "\n",
        "print('x_train shape: ', x_train.shape)\n",
        "print(x_train.shape[0], 'train samples')\n",
        "print(x_test.shape[0],'test samples')\n",
        "\n"
      ],
      "execution_count": null,
      "outputs": [
        {
          "output_type": "stream",
          "text": [
            "x_train shape:  (60000, 28, 28, 1)\n",
            "60000 train samples\n",
            "10000 test samples\n"
          ],
          "name": "stdout"
        }
      ]
    },
    {
      "cell_type": "markdown",
      "metadata": {
        "id": "KWVhJaP7yCi1",
        "colab_type": "text"
      },
      "source": [
        "\n",
        "\n",
        "# Display the Misclassified Data"
      ]
    },
    {
      "cell_type": "code",
      "metadata": {
        "id": "TgcvODb7yMM1",
        "colab_type": "code",
        "colab": {
          "base_uri": "https://localhost:8080/",
          "height": 165
        },
        "outputId": "fe5639f7-5c26-4b64-9457-96b1e5e936f3"
      },
      "source": [
        "import matplotlib.pyplot as plt\n",
        "\n",
        "figure=plt.figure(figsize=(20,20))\n",
        "\n",
        "for i in range(5):\n",
        "  figure.add_subplot(1,5,i+1)\n",
        "  index=result_indices[0][i]\n",
        "  plt.imshow(x_test[index,:,:,0], cmap='gray')\n",
        "  plt.axis('off')\n",
        "  prediction=np.squeeze(np.argmax(model.predict(x_test[index].reshape(1,28,28,1)), axis=1),axis=0)\n",
        "  print(prediction, end='\\t')"
      ],
      "execution_count": null,
      "outputs": [
        {
          "output_type": "stream",
          "text": [
            "0\t1\t7\t3\t0\t"
          ],
          "name": "stdout"
        },
        {
          "output_type": "display_data",
          "data": {
            "image/png": "[encoded data removed]",
            "text/plain": [
              "<Figure size 1440x1440 with 5 Axes>"
            ]
          },
          "metadata": {
            "tags": [],
            "needs_background": "light"
          }
        }
      ]
    },
    {
      "cell_type": "markdown",
      "metadata": {
        "id": "53DXfxat108B",
        "colab_type": "text"
      },
      "source": [
        "# Viewing the Activation Maps of the CNN"
      ]
    },
    {
      "cell_type": "markdown",
      "metadata": {
        "id": "5pvY__hH2AdN",
        "colab_type": "text"
      },
      "source": [
        "We extract the layer outputs and create and activation model (i.e. a model that returns the outputs of the layers)"
      ]
    },
    {
      "cell_type": "code",
      "metadata": {
        "id": "NhEfirLBzD9i",
        "colab_type": "code",
        "colab": {}
      },
      "source": [
        "from tensorflow.keras.models import Model\n",
        "# Extract the outputs of the top 7 layers\n",
        "layer_outputs=[layer.output for layer in model.layers[:7]]\n",
        "#create model that will return these outputs, given the model input\n",
        "activation_model=Model(inputs=model.input,outputs=layer_outputs)"
      ],
      "execution_count": null,
      "outputs": []
    },
    {
      "cell_type": "markdown",
      "metadata": {
        "id": "t3cC7O0R3IDX",
        "colab_type": "text"
      },
      "source": [
        "# Display the test Image"
      ]
    },
    {
      "cell_type": "code",
      "metadata": {
        "id": "qoAO02Yt2YJ-",
        "colab_type": "code",
        "colab": {
          "base_uri": "https://localhost:8080/",
          "height": 321
        },
        "outputId": "97d668ee-62db-46b7-c344-005c42473228"
      },
      "source": [
        "import matplotlib.pyplot as plt\n",
        "img_tensor=x_test[151].reshape(1,28,28,1)\n",
        "fig=plt.figure(figsize=(5,5))\n",
        "plt.imshow(img_tensor[0,:,:,0],cmap='inferno')\n",
        "plt.axis('off')"
      ],
      "execution_count": null,
      "outputs": [
        {
          "output_type": "execute_result",
          "data": {
            "text/plain": [
              "(-0.5, 27.5, 27.5, -0.5)"
            ]
          },
          "metadata": {
            "tags": []
          },
          "execution_count": 50
        },
        {
          "output_type": "display_data",
          "data": {
            "image/png": "[encoded data removed]",
            "text/plain": [
              "<Figure size 360x360 with 1 Axes>"
            ]
          },
          "metadata": {
            "tags": [],
            "needs_background": "light"
          }
        }
      ]
    },
    {
      "cell_type": "markdown",
      "metadata": {
        "id": "o86uPFLt4RpT",
        "colab_type": "text"
      },
      "source": [
        "# Running the model in predict mode to get the activation layers"
      ]
    },
    {
      "cell_type": "markdown",
      "metadata": {
        "id": "86okQIhd4Qvo",
        "colab_type": "text"
      },
      "source": [
        "When an image is fed to the model, it returns the values of the layer activations in the original model."
      ]
    },
    {
      "cell_type": "code",
      "metadata": {
        "id": "Hhknffya37tK",
        "colab_type": "code",
        "colab": {
          "base_uri": "https://localhost:8080/",
          "height": 35
        },
        "outputId": "9143ef1a-1335-4444-baa4-12e749756a08"
      },
      "source": [
        "activations=activation_model.predict(img_tensor)\n",
        "print('Number of layer activations: '+ str(len(activations)))"
      ],
      "execution_count": null,
      "outputs": [
        {
          "output_type": "stream",
          "text": [
            "Number of layer activations: 7\n"
          ],
          "name": "stdout"
        }
      ]
    },
    {
      "cell_type": "code",
      "metadata": {
        "id": "P7uAf_GF4w_1",
        "colab_type": "code",
        "colab": {
          "base_uri": "https://localhost:8080/",
          "height": 35
        },
        "outputId": "325ed463-cf43-4442-8a30-3dcddedebb7a"
      },
      "source": [
        "#activation of the first convolution layer for the image input\n",
        "first_layer_activation=activations[0]\n",
        "print(first_layer_activation.shape)"
      ],
      "execution_count": null,
      "outputs": [
        {
          "output_type": "stream",
          "text": [
            "(1, 26, 26, 32)\n"
          ],
          "name": "stdout"
        }
      ]
    },
    {
      "cell_type": "code",
      "metadata": {
        "id": "-_ppulGY5HS3",
        "colab_type": "code",
        "colab": {
          "base_uri": "https://localhost:8080/",
          "height": 436
        },
        "outputId": "4dd3ceea-a238-4b3d-a5ab-03748c186af7"
      },
      "source": [
        "print(model.summary())"
      ],
      "execution_count": null,
      "outputs": [
        {
          "output_type": "stream",
          "text": [
            "Model: \"sequential\"\n",
            "_________________________________________________________________\n",
            "Layer (type)                 Output Shape              Param #   \n",
            "=================================================================\n",
            "conv2d (Conv2D)              (None, 26, 26, 32)        320       \n",
            "_________________________________________________________________\n",
            "conv2d_1 (Conv2D)            (None, 24, 24, 64)        18496     \n",
            "_________________________________________________________________\n",
            "max_pooling2d (MaxPooling2D) (None, 12, 12, 64)        0         \n",
            "_________________________________________________________________\n",
            "dropout (Dropout)            (None, 12, 12, 64)        0         \n",
            "_________________________________________________________________\n",
            "flatten (Flatten)            (None, 9216)              0         \n",
            "_________________________________________________________________\n",
            "dropout_1 (Dropout)          (None, 9216)              0         \n",
            "_________________________________________________________________\n",
            "dense (Dense)                (None, 10)                92170     \n",
            "=================================================================\n",
            "Total params: 110,986\n",
            "Trainable params: 110,986\n",
            "Non-trainable params: 0\n",
            "_________________________________________________________________\n",
            "None\n"
          ],
          "name": "stdout"
        }
      ]
    },
    {
      "cell_type": "markdown",
      "metadata": {
        "id": "FJCunX645Uqw",
        "colab_type": "text"
      },
      "source": [
        "The output of the first activation layer can be seen to be of the same shape as the output of the first Convolution layer. it a 26 * 26 feature map with 32 Conv channels. We then plot the fourth Conv channel/Filter of the activation of the first layer of the original model.  "
      ]
    },
    {
      "cell_type": "markdown",
      "metadata": {
        "id": "728UumkU7GfZ",
        "colab_type": "text"
      },
      "source": [
        "# The output of the 4th Conv filter in the first Conv Layer"
      ]
    },
    {
      "cell_type": "code",
      "metadata": {
        "id": "Ih27lcPX7Nio",
        "colab_type": "code",
        "colab": {
          "base_uri": "https://localhost:8080/",
          "height": 293
        },
        "outputId": "ff2258cd-ee54-4130-c597-84b742d687ea"
      },
      "source": [
        "plt.matshow(first_layer_activation[0,:,:,3],cmap='viridis')"
      ],
      "execution_count": null,
      "outputs": [
        {
          "output_type": "execute_result",
          "data": {
            "text/plain": [
              "<matplotlib.image.AxesImage at 0x7f62dc6859b0>"
            ]
          },
          "metadata": {
            "tags": []
          },
          "execution_count": 54
        },
        {
          "output_type": "display_data",
          "data": {
            "image/png": "[encoded data removed]",
            "text/plain": [
              "<Figure size 288x288 with 1 Axes>"
            ]
          },
          "metadata": {
            "tags": [],
            "needs_background": "light"
          }
        }
      ]
    },
    {
      "cell_type": "code",
      "metadata": {
        "id": "G4r_Rpc67ZmA",
        "colab_type": "code",
        "colab": {}
      },
      "source": [
        ""
      ],
      "execution_count": null,
      "outputs": []
    },
    {
      "cell_type": "markdown",
      "metadata": {
        "id": "Bq1jNYpH7ihQ",
        "colab_type": "text"
      },
      "source": [
        "# A function that displays the activations of specific layers"
      ]
    },
    {
      "cell_type": "code",
      "metadata": {
        "id": "nPuPmqQO7qe8",
        "colab_type": "code",
        "colab": {}
      },
      "source": [
        "def display_activation(activations, col_size, row_size, act_index):\n",
        "  activation=activations[act_index]\n",
        "  activation_index=0\n",
        "  fig,ax=plt.subplots(row_size,col_size, figsize=(row_size *2.5,col_size*1.5))\n",
        "  for row in range(0, row_size):\n",
        "    for col in range(0, col_size):\n",
        "      ax[row][col].imshow(activation[0,:,:,activation_index], cmap='viridis')\n",
        "      activation_index +=1\n"
      ],
      "execution_count": 1,
      "outputs": []
    },
    {
      "cell_type": "code",
      "metadata": {
        "id": "YLbTy7G18nkE",
        "colab_type": "code",
        "colab": {
          "base_uri": "https://localhost:8080/",
          "height": 172
        },
        "outputId": "90b685dd-f203-48d0-a1ac-ef2fa2fa5dde"
      },
      "source": [
        "display_activation(activations,8,4,0)"
      ],
      "execution_count": 2,
      "outputs": [
        {
          "output_type": "error",
          "ename": "NameError",
          "evalue": "ignored",
          "traceback": [
            "\u001b[0;31m---------------------------------------------------------------------------\u001b[0m",
            "\u001b[0;31mNameError\u001b[0m                                 Traceback (most recent call last)",
            "\u001b[0;32m<ipython-input-2-c3bbcce9bcbb>\u001b[0m in \u001b[0;36m<module>\u001b[0;34m()\u001b[0m\n\u001b[0;32m----> 1\u001b[0;31m \u001b[0mdisplay_activation\u001b[0m\u001b[0;34m(\u001b[0m\u001b[0mactivations\u001b[0m\u001b[0;34m,\u001b[0m\u001b[0;36m8\u001b[0m\u001b[0;34m,\u001b[0m\u001b[0;36m4\u001b[0m\u001b[0;34m,\u001b[0m\u001b[0;36m0\u001b[0m\u001b[0;34m)\u001b[0m\u001b[0;34m\u001b[0m\u001b[0;34m\u001b[0m\u001b[0m\n\u001b[0m",
            "\u001b[0;31mNameError\u001b[0m: name 'activations' is not defined"
          ]
        }
      ]
    },
    {
      "cell_type": "code",
      "metadata": {
        "id": "T3RmRdy38uW9",
        "colab_type": "code",
        "colab": {}
      },
      "source": [
        "display_activation(activations,8,8,1)"
      ],
      "execution_count": null,
      "outputs": []
    },
    {
      "cell_type": "code",
      "metadata": {
        "id": "GeAszxdB9W8K",
        "colab_type": "code",
        "colab": {}
      },
      "source": [
        "#This is the activation map. \n",
        "# prepare a dataset -- "
      ],
      "execution_count": null,
      "outputs": []
    },
    {
      "cell_type": "markdown",
      "metadata": {
        "id": "sKbuqE1F-gdn",
        "colab_type": "text"
      },
      "source": [
        "# Transfer Learning: Understanding Transfer of Learning"
      ]
    },
    {
      "cell_type": "code",
      "metadata": {
        "id": "76OxQkBx-n-W",
        "colab_type": "code",
        "colab": {}
      },
      "source": [
        ""
      ],
      "execution_count": null,
      "outputs": []
    }
  ]
}