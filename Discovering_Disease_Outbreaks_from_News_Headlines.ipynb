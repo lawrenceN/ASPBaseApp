{
  "nbformat": 4,
  "nbformat_minor": 0,
  "metadata": {
    "colab": {
      "name": "Discovering_Disease_Outbreaks_from_News_Headlines.ipynb",
      "provenance": [],
      "authorship_tag": "ABX9TyN0zvZ/dIkjTHQ+W/JCZgdK",
      "include_colab_link": true
    },
    "kernelspec": {
      "name": "python3",
      "display_name": "Python 3"
    }
  },
  "cells": [
    {
      "cell_type": "markdown",
      "metadata": {
        "id": "view-in-github",
        "colab_type": "text"
      },
      "source": [
        "<a href=\"https://colab.research.google.com/github/lawrenceN/ASPBaseApp/blob/master/Discovering_Disease_Outbreaks_from_News_Headlines.ipynb\" target=\"_parent\"><img src=\"https://colab.research.google.com/assets/colab-badge.svg\" alt=\"Open In Colab\"/></a>"
      ]
    },
    {
      "cell_type": "markdown",
      "metadata": {
        "id": "rw-iFbvSuyZV",
        "colab_type": "text"
      },
      "source": [
        "Extracting city and Country Information from News Headlines"
      ]
    },
    {
      "cell_type": "code",
      "metadata": {
        "id": "7HXYxQNjkHVr",
        "colab_type": "code",
        "colab": {
          "base_uri": "https://localhost:8080/",
          "height": 35
        },
        "outputId": "7adcfa70-5855-4ab2-ad22-6367961e058f"
      },
      "source": [
        "# Importing the required libraries pandas for data processing (I want to try \n",
        "#dusk also**) geonamescache \n",
        "# geonamescache A Python library that provides functions to retrieve names, \n",
        "#ISO and FIPS codes of continents, countries as well as US states and counties \n",
        "#as Python dictionaries. The country and city datasets also include population \n",
        "#and geographic data. This copied from \"https://pypi.org/project/geonamescache/\"\n",
        "#re This module provides regular expression matching operations similar to\n",
        "#those found in Perl.  It supports both 8-bit and Unicode strings; both\n",
        "#the pattern and the strings being processed can contain null bytes and\n",
        "#characters outside the US ASCII range.\n",
        "\n",
        "#Regular expressions can contain both special and ordinary characters.\n",
        "#Most ordinary characters, like \"A\", \"a\", or \"0\", are the simplest\n",
        "#regular expressions; they simply match themselves.  You can\n",
        "#concatenate ordinary characters, so last matches the string 'last'.\n",
        "\n",
        "\n",
        "!pip install geonamescache\n",
        "import pandas as pd\n",
        "import geonamescache\n",
        "import re"
      ],
      "execution_count": 5,
      "outputs": [
        {
          "output_type": "stream",
          "text": [
            "Requirement already satisfied: geonamescache in /usr/local/lib/python3.6/dist-packages (1.1.0)\n"
          ],
          "name": "stdout"
        }
      ]
    },
    {
      "cell_type": "markdown",
      "metadata": {
        "id": "vXxF76FzjyjV",
        "colab_type": "text"
      },
      "source": [
        "Mounting Data from Google Drive"
      ]
    },
    {
      "cell_type": "code",
      "metadata": {
        "id": "Q8FYc2oon2HF",
        "colab_type": "code",
        "colab": {
          "base_uri": "https://localhost:8080/",
          "height": 294
        },
        "outputId": "67d458a4-2879-4206-c1e7-2ff47d0f2fde"
      },
      "source": [
        "!pip install PyDrive\n"
      ],
      "execution_count": 6,
      "outputs": [
        {
          "output_type": "stream",
          "text": [
            "Requirement already satisfied: PyDrive in /usr/local/lib/python3.6/dist-packages (1.3.1)\n",
            "Requirement already satisfied: google-api-python-client>=1.2 in /usr/local/lib/python3.6/dist-packages (from PyDrive) (1.7.12)\n",
            "Requirement already satisfied: PyYAML>=3.0 in /usr/local/lib/python3.6/dist-packages (from PyDrive) (3.13)\n",
            "Requirement already satisfied: oauth2client>=4.0.0 in /usr/local/lib/python3.6/dist-packages (from PyDrive) (4.1.3)\n",
            "Requirement already satisfied: google-auth-httplib2>=0.0.3 in /usr/local/lib/python3.6/dist-packages (from google-api-python-client>=1.2->PyDrive) (0.0.3)\n",
            "Requirement already satisfied: google-auth>=1.4.1 in /usr/local/lib/python3.6/dist-packages (from google-api-python-client>=1.2->PyDrive) (1.7.2)\n",
            "Requirement already satisfied: httplib2<1dev,>=0.17.0 in /usr/local/lib/python3.6/dist-packages (from google-api-python-client>=1.2->PyDrive) (0.17.3)\n",
            "Requirement already satisfied: six<2dev,>=1.6.1 in /usr/local/lib/python3.6/dist-packages (from google-api-python-client>=1.2->PyDrive) (1.12.0)\n",
            "Requirement already satisfied: uritemplate<4dev,>=3.0.0 in /usr/local/lib/python3.6/dist-packages (from google-api-python-client>=1.2->PyDrive) (3.0.1)\n",
            "Requirement already satisfied: rsa>=3.1.4 in /usr/local/lib/python3.6/dist-packages (from oauth2client>=4.0.0->PyDrive) (4.0)\n",
            "Requirement already satisfied: pyasn1-modules>=0.0.5 in /usr/local/lib/python3.6/dist-packages (from oauth2client>=4.0.0->PyDrive) (0.2.8)\n",
            "Requirement already satisfied: pyasn1>=0.1.7 in /usr/local/lib/python3.6/dist-packages (from oauth2client>=4.0.0->PyDrive) (0.4.8)\n",
            "Requirement already satisfied: cachetools<3.2,>=2.0.0 in /usr/local/lib/python3.6/dist-packages (from google-auth>=1.4.1->google-api-python-client>=1.2->PyDrive) (3.1.1)\n",
            "Requirement already satisfied: setuptools>=40.3.0 in /usr/local/lib/python3.6/dist-packages (from google-auth>=1.4.1->google-api-python-client>=1.2->PyDrive) (46.3.0)\n"
          ],
          "name": "stdout"
        }
      ]
    },
    {
      "cell_type": "markdown",
      "metadata": {
        "id": "Yt3hh454n9N7",
        "colab_type": "text"
      },
      "source": [
        "Creating connection between Calab and the drive"
      ]
    },
    {
      "cell_type": "code",
      "metadata": {
        "id": "q2uPCAn_oHW0",
        "colab_type": "code",
        "colab": {}
      },
      "source": [
        "from pydrive.auth import GoogleAuth\n",
        "from pydrive.drive import GoogleDrive\n",
        "from google.colab import auth\n",
        "from oauth2client.client import GoogleCredentials\n"
      ],
      "execution_count": 0,
      "outputs": []
    },
    {
      "cell_type": "code",
      "metadata": {
        "id": "pQ82_FEloRU3",
        "colab_type": "code",
        "colab": {}
      },
      "source": [
        "#We now Authenticate and create the PyDrive client"
      ],
      "execution_count": 0,
      "outputs": []
    },
    {
      "cell_type": "code",
      "metadata": {
        "id": "Zxx1FpiboKaJ",
        "colab_type": "code",
        "colab": {}
      },
      "source": [
        "auth.authenticate_user()\n",
        "gauth = GoogleAuth()\n",
        "gauth.credentials = GoogleCredentials.get_application_default()\n",
        "drive = GoogleDrive(gauth)\n"
      ],
      "execution_count": 0,
      "outputs": []
    },
    {
      "cell_type": "code",
      "metadata": {
        "id": "mrJ6gyn-quuK",
        "colab_type": "code",
        "colab": {}
      },
      "source": [
        "# Worked with the read_csv(), trying the read_fwf()- documentation says\n",
        "# A comma-separated values (csv) file is returned as two-dimensional data \n",
        "#structure with labeled axes."
      ],
      "execution_count": 0,
      "outputs": []
    },
    {
      "cell_type": "code",
      "metadata": {
        "id": "ZFKfXx9eorWc",
        "colab_type": "code",
        "colab": {}
      },
      "source": [
        "downloaded = drive.CreateFile({'id':\"1bGsWHjaok5EDQna9d03OWTT_--D-LGZh\"})   # replace the id with id of file you want to access\n",
        "downloaded.GetContentFile('headlines.txt')        # replace the file name with your file"
      ],
      "execution_count": 0,
      "outputs": []
    },
    {
      "cell_type": "code",
      "metadata": {
        "id": "qIaob2MgryxP",
        "colab_type": "code",
        "colab": {}
      },
      "source": [
        "myData=pd.read_fwf('headlines.txt',header=None)"
      ],
      "execution_count": 0,
      "outputs": []
    },
    {
      "cell_type": "code",
      "metadata": {
        "id": "8EFxJiXDsXzy",
        "colab_type": "code",
        "colab": {
          "base_uri": "https://localhost:8080/",
          "height": 677
        },
        "outputId": "91faeada-c5cb-4790-d27c-c5ce93c92bbf"
      },
      "source": [
        "myData.head(20)"
      ],
      "execution_count": 28,
      "outputs": [
        {
          "output_type": "execute_result",
          "data": {
            "text/html": [
              "<div>\n",
              "<style scoped>\n",
              "    .dataframe tbody tr th:only-of-type {\n",
              "        vertical-align: middle;\n",
              "    }\n",
              "\n",
              "    .dataframe tbody tr th {\n",
              "        vertical-align: top;\n",
              "    }\n",
              "\n",
              "    .dataframe thead th {\n",
              "        text-align: right;\n",
              "    }\n",
              "</style>\n",
              "<table border=\"1\" class=\"dataframe\">\n",
              "  <thead>\n",
              "    <tr style=\"text-align: right;\">\n",
              "      <th></th>\n",
              "      <th>0</th>\n",
              "    </tr>\n",
              "  </thead>\n",
              "  <tbody>\n",
              "    <tr>\n",
              "      <th>0</th>\n",
              "      <td>Zika Outbreak Hits Miami</td>\n",
              "    </tr>\n",
              "    <tr>\n",
              "      <th>1</th>\n",
              "      <td>Could Zika Reach New York City?</td>\n",
              "    </tr>\n",
              "    <tr>\n",
              "      <th>2</th>\n",
              "      <td>First Case of Zika in Miami Beach</td>\n",
              "    </tr>\n",
              "    <tr>\n",
              "      <th>3</th>\n",
              "      <td>Mystery Virus Spreads in Recife, Brazil</td>\n",
              "    </tr>\n",
              "    <tr>\n",
              "      <th>4</th>\n",
              "      <td>Dallas man comes down with case of Zika</td>\n",
              "    </tr>\n",
              "    <tr>\n",
              "      <th>5</th>\n",
              "      <td>Trinidad confirms first Zika case</td>\n",
              "    </tr>\n",
              "    <tr>\n",
              "      <th>6</th>\n",
              "      <td>Zika Concerns are Spreading in Houston</td>\n",
              "    </tr>\n",
              "    <tr>\n",
              "      <th>7</th>\n",
              "      <td>Geneve Scientists Battle to Find Cure</td>\n",
              "    </tr>\n",
              "    <tr>\n",
              "      <th>8</th>\n",
              "      <td>The CDC in Atlanta is Growing Worried</td>\n",
              "    </tr>\n",
              "    <tr>\n",
              "      <th>9</th>\n",
              "      <td>Zika Infested Monkeys in Sao Paulo</td>\n",
              "    </tr>\n",
              "    <tr>\n",
              "      <th>10</th>\n",
              "      <td>Brownsville teen contracts Zika virus</td>\n",
              "    </tr>\n",
              "    <tr>\n",
              "      <th>11</th>\n",
              "      <td>Mosquito control efforts in St. Louis take new...</td>\n",
              "    </tr>\n",
              "    <tr>\n",
              "      <th>12</th>\n",
              "      <td>San Juan reports 1st U.S. Zika-related death a...</td>\n",
              "    </tr>\n",
              "    <tr>\n",
              "      <th>13</th>\n",
              "      <td>Flu outbreak in Galveston, Texas</td>\n",
              "    </tr>\n",
              "    <tr>\n",
              "      <th>14</th>\n",
              "      <td>Zika alert â€“ Manila now threatened</td>\n",
              "    </tr>\n",
              "    <tr>\n",
              "      <th>15</th>\n",
              "      <td>Zika afflicts 7 in Iloilo City</td>\n",
              "    </tr>\n",
              "    <tr>\n",
              "      <th>16</th>\n",
              "      <td>New Los Angeles Hairstyle goes Viral</td>\n",
              "    </tr>\n",
              "    <tr>\n",
              "      <th>17</th>\n",
              "      <td>Louisiana Zika cases up to 26</td>\n",
              "    </tr>\n",
              "    <tr>\n",
              "      <th>18</th>\n",
              "      <td>Orlando volunteers aid Zika research</td>\n",
              "    </tr>\n",
              "    <tr>\n",
              "      <th>19</th>\n",
              "      <td>Zika infects pregnant woman in Cebu</td>\n",
              "    </tr>\n",
              "  </tbody>\n",
              "</table>\n",
              "</div>"
            ],
            "text/plain": [
              "                                                    0\n",
              "0                            Zika Outbreak Hits Miami\n",
              "1                     Could Zika Reach New York City?\n",
              "2                   First Case of Zika in Miami Beach\n",
              "3             Mystery Virus Spreads in Recife, Brazil\n",
              "4             Dallas man comes down with case of Zika\n",
              "5                   Trinidad confirms first Zika case\n",
              "6              Zika Concerns are Spreading in Houston\n",
              "7               Geneve Scientists Battle to Find Cure\n",
              "8               The CDC in Atlanta is Growing Worried\n",
              "9                  Zika Infested Monkeys in Sao Paulo\n",
              "10              Brownsville teen contracts Zika virus\n",
              "11  Mosquito control efforts in St. Louis take new...\n",
              "12  San Juan reports 1st U.S. Zika-related death a...\n",
              "13                   Flu outbreak in Galveston, Texas\n",
              "14               Zika alert â€“ Manila now threatened\n",
              "15                     Zika afflicts 7 in Iloilo City\n",
              "16               New Los Angeles Hairstyle goes Viral\n",
              "17                      Louisiana Zika cases up to 26\n",
              "18               Orlando volunteers aid Zika research\n",
              "19                Zika infects pregnant woman in Cebu"
            ]
          },
          "metadata": {
            "tags": []
          },
          "execution_count": 28
        }
      ]
    },
    {
      "cell_type": "markdown",
      "metadata": {
        "id": "GvCWiZxtsvt-",
        "colab_type": "text"
      },
      "source": [
        "Trying out on data investigation techniques "
      ]
    },
    {
      "cell_type": "code",
      "metadata": {
        "id": "8yi_W-mCj8rt",
        "colab_type": "code",
        "colab": {
          "base_uri": "https://localhost:8080/",
          "height": 990
        },
        "outputId": "0664b26f-a508-4112-edab-0ff120a21565"
      },
      "source": [
        "myData.sample(30)"
      ],
      "execution_count": 29,
      "outputs": [
        {
          "output_type": "execute_result",
          "data": {
            "text/html": [
              "<div>\n",
              "<style scoped>\n",
              "    .dataframe tbody tr th:only-of-type {\n",
              "        vertical-align: middle;\n",
              "    }\n",
              "\n",
              "    .dataframe tbody tr th {\n",
              "        vertical-align: top;\n",
              "    }\n",
              "\n",
              "    .dataframe thead th {\n",
              "        text-align: right;\n",
              "    }\n",
              "</style>\n",
              "<table border=\"1\" class=\"dataframe\">\n",
              "  <thead>\n",
              "    <tr style=\"text-align: right;\">\n",
              "      <th></th>\n",
              "      <th>0</th>\n",
              "    </tr>\n",
              "  </thead>\n",
              "  <tbody>\n",
              "    <tr>\n",
              "      <th>413</th>\n",
              "      <td>Mad Cow Disease Disastrous to Brussels</td>\n",
              "    </tr>\n",
              "    <tr>\n",
              "      <th>570</th>\n",
              "      <td>Manassas Encounters Severe Symptoms of Measles</td>\n",
              "    </tr>\n",
              "    <tr>\n",
              "      <th>2</th>\n",
              "      <td>First Case of Zika in Miami Beach</td>\n",
              "    </tr>\n",
              "    <tr>\n",
              "      <th>505</th>\n",
              "      <td>Malaria has Arrived in Terrebonne</td>\n",
              "    </tr>\n",
              "    <tr>\n",
              "      <th>420</th>\n",
              "      <td>Authorities are Worried about the Spread of He...</td>\n",
              "    </tr>\n",
              "    <tr>\n",
              "      <th>388</th>\n",
              "      <td>Zika symptoms spotted in Iquitos</td>\n",
              "    </tr>\n",
              "    <tr>\n",
              "      <th>605</th>\n",
              "      <td>Case of West Nile Virus Reported in Riverside</td>\n",
              "    </tr>\n",
              "    <tr>\n",
              "      <th>302</th>\n",
              "      <td>Rumors about Pneumonia spreading in Ottawa hav...</td>\n",
              "    </tr>\n",
              "    <tr>\n",
              "      <th>341</th>\n",
              "      <td>Zika symptoms spotted in Surat</td>\n",
              "    </tr>\n",
              "    <tr>\n",
              "      <th>382</th>\n",
              "      <td>Zika arrives in Orange City</td>\n",
              "    </tr>\n",
              "    <tr>\n",
              "      <th>551</th>\n",
              "      <td>Ibadan tests new cure for Malaria</td>\n",
              "    </tr>\n",
              "    <tr>\n",
              "      <th>285</th>\n",
              "      <td>St. Catharines Patient in Critical Condition a...</td>\n",
              "    </tr>\n",
              "    <tr>\n",
              "      <th>549</th>\n",
              "      <td>Zika Reported in Ciudad Acuna</td>\n",
              "    </tr>\n",
              "    <tr>\n",
              "      <th>541</th>\n",
              "      <td>More people in Cranford are infected with Hepa...</td>\n",
              "    </tr>\n",
              "    <tr>\n",
              "      <th>362</th>\n",
              "      <td>Laventille authorities confirmed the spread of...</td>\n",
              "    </tr>\n",
              "    <tr>\n",
              "      <th>466</th>\n",
              "      <td>Zika reported in Fort Pierce</td>\n",
              "    </tr>\n",
              "    <tr>\n",
              "      <th>240</th>\n",
              "      <td>More Livestock in Fontainebleau are infected w...</td>\n",
              "    </tr>\n",
              "    <tr>\n",
              "      <th>356</th>\n",
              "      <td>New medicine wipes out Dengue in Saginaw</td>\n",
              "    </tr>\n",
              "    <tr>\n",
              "      <th>469</th>\n",
              "      <td>Durango is infested with Hepatitis B</td>\n",
              "    </tr>\n",
              "    <tr>\n",
              "      <th>387</th>\n",
              "      <td>Will Rabies vaccine help Tangier?</td>\n",
              "    </tr>\n",
              "    <tr>\n",
              "      <th>58</th>\n",
              "      <td>Zika surfaces in Klang, Malaysia</td>\n",
              "    </tr>\n",
              "    <tr>\n",
              "      <th>18</th>\n",
              "      <td>Orlando volunteers aid Zika research</td>\n",
              "    </tr>\n",
              "    <tr>\n",
              "      <th>336</th>\n",
              "      <td>Rumors about Mad Cow Disease Brighton have bee...</td>\n",
              "    </tr>\n",
              "    <tr>\n",
              "      <th>359</th>\n",
              "      <td>New medicine wipes out Mumps in Saint Charles</td>\n",
              "    </tr>\n",
              "    <tr>\n",
              "      <th>176</th>\n",
              "      <td>Ithaca is infested with Dengue</td>\n",
              "    </tr>\n",
              "    <tr>\n",
              "      <th>215</th>\n",
              "      <td>Will HIV vaccine help Las Vegas?</td>\n",
              "    </tr>\n",
              "    <tr>\n",
              "      <th>463</th>\n",
              "      <td>More Patients in Magnolia are Getting Diagnose...</td>\n",
              "    </tr>\n",
              "    <tr>\n",
              "      <th>112</th>\n",
              "      <td>Zika Outbreak in Hyderabad</td>\n",
              "    </tr>\n",
              "    <tr>\n",
              "      <th>227</th>\n",
              "      <td>Zika Virus Detected in Lubbock</td>\n",
              "    </tr>\n",
              "    <tr>\n",
              "      <th>161</th>\n",
              "      <td>Veracruz hit by Zika Concerns</td>\n",
              "    </tr>\n",
              "  </tbody>\n",
              "</table>\n",
              "</div>"
            ],
            "text/plain": [
              "                                                     0\n",
              "413             Mad Cow Disease Disastrous to Brussels\n",
              "570     Manassas Encounters Severe Symptoms of Measles\n",
              "2                    First Case of Zika in Miami Beach\n",
              "505                  Malaria has Arrived in Terrebonne\n",
              "420  Authorities are Worried about the Spread of He...\n",
              "388                   Zika symptoms spotted in Iquitos\n",
              "605      Case of West Nile Virus Reported in Riverside\n",
              "302  Rumors about Pneumonia spreading in Ottawa hav...\n",
              "341                     Zika symptoms spotted in Surat\n",
              "382                        Zika arrives in Orange City\n",
              "551                  Ibadan tests new cure for Malaria\n",
              "285  St. Catharines Patient in Critical Condition a...\n",
              "549                      Zika Reported in Ciudad Acuna\n",
              "541  More people in Cranford are infected with Hepa...\n",
              "362  Laventille authorities confirmed the spread of...\n",
              "466                       Zika reported in Fort Pierce\n",
              "240  More Livestock in Fontainebleau are infected w...\n",
              "356           New medicine wipes out Dengue in Saginaw\n",
              "469               Durango is infested with Hepatitis B\n",
              "387                  Will Rabies vaccine help Tangier?\n",
              "58                    Zika surfaces in Klang, Malaysia\n",
              "18                Orlando volunteers aid Zika research\n",
              "336  Rumors about Mad Cow Disease Brighton have bee...\n",
              "359      New medicine wipes out Mumps in Saint Charles\n",
              "176                     Ithaca is infested with Dengue\n",
              "215                   Will HIV vaccine help Las Vegas?\n",
              "463  More Patients in Magnolia are Getting Diagnose...\n",
              "112                         Zika Outbreak in Hyderabad\n",
              "227                     Zika Virus Detected in Lubbock\n",
              "161                      Veracruz hit by Zika Concerns"
            ]
          },
          "metadata": {
            "tags": []
          },
          "execution_count": 29
        }
      ]
    },
    {
      "cell_type": "code",
      "metadata": {
        "id": "J1iNnScdu6lR",
        "colab_type": "code",
        "colab": {}
      },
      "source": [
        "#The column name is using the index (0) changing that to be the name headlines\n"
      ],
      "execution_count": 0,
      "outputs": []
    },
    {
      "cell_type": "code",
      "metadata": {
        "id": "_hIuY7CfhbIF",
        "colab_type": "code",
        "colab": {}
      },
      "source": [
        "myData.columns=['Headlines']"
      ],
      "execution_count": 0,
      "outputs": []
    },
    {
      "cell_type": "code",
      "metadata": {
        "id": "ixF4FbT2uB4l",
        "colab_type": "code",
        "colab": {
          "base_uri": "https://localhost:8080/",
          "height": 363
        },
        "outputId": "f26b1581-0d6f-4c07-dbb7-1fbb7834602b"
      },
      "source": [
        "myData.tail(10)"
      ],
      "execution_count": 34,
      "outputs": [
        {
          "output_type": "execute_result",
          "data": {
            "text/html": [
              "<div>\n",
              "<style scoped>\n",
              "    .dataframe tbody tr th:only-of-type {\n",
              "        vertical-align: middle;\n",
              "    }\n",
              "\n",
              "    .dataframe tbody tr th {\n",
              "        vertical-align: top;\n",
              "    }\n",
              "\n",
              "    .dataframe thead th {\n",
              "        text-align: right;\n",
              "    }\n",
              "</style>\n",
              "<table border=\"1\" class=\"dataframe\">\n",
              "  <thead>\n",
              "    <tr style=\"text-align: right;\">\n",
              "      <th></th>\n",
              "      <th>Headlines</th>\n",
              "    </tr>\n",
              "  </thead>\n",
              "  <tbody>\n",
              "    <tr>\n",
              "      <th>640</th>\n",
              "      <td>Authorities are Worried about the Spread of Va...</td>\n",
              "    </tr>\n",
              "    <tr>\n",
              "      <th>641</th>\n",
              "      <td>More Zika patients reported in Fort Worth</td>\n",
              "    </tr>\n",
              "    <tr>\n",
              "      <th>642</th>\n",
              "      <td>Zika symptoms spotted in Boynton Beach</td>\n",
              "    </tr>\n",
              "    <tr>\n",
              "      <th>643</th>\n",
              "      <td>Outbreak of Zika in Portoviejo</td>\n",
              "    </tr>\n",
              "    <tr>\n",
              "      <th>644</th>\n",
              "      <td>Influenza Exposure in Muscat</td>\n",
              "    </tr>\n",
              "    <tr>\n",
              "      <th>645</th>\n",
              "      <td>Rumors about Rabies spreading in Jerusalem hav...</td>\n",
              "    </tr>\n",
              "    <tr>\n",
              "      <th>646</th>\n",
              "      <td>More Zika patients reported in Indang</td>\n",
              "    </tr>\n",
              "    <tr>\n",
              "      <th>647</th>\n",
              "      <td>Suva authorities confirmed the spread of Rotav...</td>\n",
              "    </tr>\n",
              "    <tr>\n",
              "      <th>648</th>\n",
              "      <td>More Zika patients reported in Bella Vista</td>\n",
              "    </tr>\n",
              "    <tr>\n",
              "      <th>649</th>\n",
              "      <td>Zika Outbreak in Wichita Falls</td>\n",
              "    </tr>\n",
              "  </tbody>\n",
              "</table>\n",
              "</div>"
            ],
            "text/plain": [
              "                                             Headlines\n",
              "640  Authorities are Worried about the Spread of Va...\n",
              "641          More Zika patients reported in Fort Worth\n",
              "642             Zika symptoms spotted in Boynton Beach\n",
              "643                     Outbreak of Zika in Portoviejo\n",
              "644                       Influenza Exposure in Muscat\n",
              "645  Rumors about Rabies spreading in Jerusalem hav...\n",
              "646              More Zika patients reported in Indang\n",
              "647  Suva authorities confirmed the spread of Rotav...\n",
              "648         More Zika patients reported in Bella Vista\n",
              "649                     Zika Outbreak in Wichita Falls"
            ]
          },
          "metadata": {
            "tags": []
          },
          "execution_count": 34
        }
      ]
    },
    {
      "cell_type": "code",
      "metadata": {
        "id": "WxKpzQVwuo_w",
        "colab_type": "code",
        "colab": {}
      },
      "source": [
        "#Testing on the use of the geonamescache, (more discussion on this needed)\n",
        "\n",
        "gc = geonamescache.GeonamesCache()\n",
        "#countries = gc.get_countries()\n",
        "countries=gc.get_countries_by_names()\n",
        "\n",
        "# print countries dictio\n",
        "print(countries)"
      ],
      "execution_count": 0,
      "outputs": []
    },
    {
      "cell_type": "code",
      "metadata": {
        "id": "siwD34MAvYtz",
        "colab_type": "code",
        "colab": {}
      },
      "source": [
        "# Now using the initialized geonamescache gc to get the countries names and creating a regular expression.Using the method \n",
        "#get_countries_by_names()"
      ],
      "execution_count": 0,
      "outputs": []
    },
    {
      "cell_type": "code",
      "metadata": {
        "id": "425oprZ8wCRi",
        "colab_type": "code",
        "colab": {}
      },
      "source": [
        "# Use of regular expressions to set countries names "
      ],
      "execution_count": 0,
      "outputs": []
    },
    {
      "cell_type": "code",
      "metadata": {
        "id": "eg-F7qYkxXA3",
        "colab_type": "code",
        "colab": {}
      },
      "source": [
        "countriesString = '|'.join(countries) "
      ],
      "execution_count": 0,
      "outputs": []
    },
    {
      "cell_type": "code",
      "metadata": {
        "id": "ykbOw5_qx9J2",
        "colab_type": "code",
        "colab": {}
      },
      "source": [
        "countryRe=re.compile(r'({})?'.join(countriesString))"
      ],
      "execution_count": 0,
      "outputs": []
    },
    {
      "cell_type": "code",
      "metadata": {
        "id": "PXVl-mgZyXNe",
        "colab_type": "code",
        "colab": {}
      },
      "source": [
        "\n",
        "citiesList=[]"
      ],
      "execution_count": 0,
      "outputs": []
    },
    {
      "cell_type": "code",
      "metadata": {
        "id": "dUJImh8BykJM",
        "colab_type": "code",
        "colab": {}
      },
      "source": [
        "\n",
        "#Initialize a list of cities \n",
        "cities=gc.get_cities()"
      ],
      "execution_count": 0,
      "outputs": []
    },
    {
      "cell_type": "code",
      "metadata": {
        "id": "aWaHBb2KzIsl",
        "colab_type": "code",
        "colab": {}
      },
      "source": [
        "\n",
        "CountryJoinedRe=gc.get_cities()"
      ],
      "execution_count": 0,
      "outputs": []
    },
    {
      "cell_type": "code",
      "metadata": {
        "id": "EwChet5p0Foh",
        "colab_type": "code",
        "colab": {}
      },
      "source": [
        "for id in cities.keys():\n",
        "  citiesList.append(\"\\\\b{}\\\\b\".format(cities[id]['name']))"
      ],
      "execution_count": 0,
      "outputs": []
    },
    {
      "cell_type": "markdown",
      "metadata": {
        "id": "6HBmntFz2ETv",
        "colab_type": "text"
      },
      "source": [
        "Getting the US counties "
      ]
    },
    {
      "cell_type": "code",
      "metadata": {
        "id": "sS91CxMc2_j6",
        "colab_type": "code",
        "colab": {}
      },
      "source": [
        "USCounties = gc.get_us_counties()"
      ],
      "execution_count": 0,
      "outputs": []
    },
    {
      "cell_type": "code",
      "metadata": {
        "id": "EE6j2Nh804-p",
        "colab_type": "code",
        "colab": {}
      },
      "source": [
        "\n",
        "for county in USCounties:\n",
        "  citiesList.append(\"\\\\b{}\\\\b\".format(county['name']))\n"
      ],
      "execution_count": 0,
      "outputs": []
    },
    {
      "cell_type": "code",
      "metadata": {
        "id": "YtnJ1AH_2aIm",
        "colab_type": "code",
        "colab": {}
      },
      "source": [
        "#Getting the states in the US"
      ],
      "execution_count": 0,
      "outputs": []
    },
    {
      "cell_type": "code",
      "metadata": {
        "id": "BvxSTNOe4Brg",
        "colab_type": "code",
        "colab": {}
      },
      "source": [
        "statesUS=gc.get_us_states_by_names()"
      ],
      "execution_count": 0,
      "outputs": []
    },
    {
      "cell_type": "code",
      "metadata": {
        "id": "vh0H9cQy4UHj",
        "colab_type": "code",
        "colab": {}
      },
      "source": [
        "for state in statesUS.keys():\n",
        "  citiesList.append(\"\\\\b{}\\\\b\".format(statesUS[state]['name']))"
      ],
      "execution_count": 0,
      "outputs": []
    },
    {
      "cell_type": "code",
      "metadata": {
        "id": "I1MNwfV152nH",
        "colab_type": "code",
        "colab": {}
      },
      "source": [
        "citiesString='|'.join(citiesList)"
      ],
      "execution_count": 0,
      "outputs": []
    },
    {
      "cell_type": "code",
      "metadata": {
        "id": "FStkr7gp6LRC",
        "colab_type": "code",
        "colab": {}
      },
      "source": [
        "#using the regular expression for the cities "
      ],
      "execution_count": 0,
      "outputs": []
    },
    {
      "cell_type": "code",
      "metadata": {
        "id": "taf7UqEv6TLZ",
        "colab_type": "code",
        "colab": {}
      },
      "source": [
        "citiesRE=re.compile(r'({})'.format(citiesString),re.IGNORECASE)"
      ],
      "execution_count": 0,
      "outputs": []
    },
    {
      "cell_type": "code",
      "metadata": {
        "id": "Fej2pYAP72pc",
        "colab_type": "code",
        "colab": {}
      },
      "source": [
        ""
      ],
      "execution_count": 0,
      "outputs": []
    }
  ]
}