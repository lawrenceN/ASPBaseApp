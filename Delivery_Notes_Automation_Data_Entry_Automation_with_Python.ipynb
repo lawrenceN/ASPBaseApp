{
  "nbformat": 4,
  "nbformat_minor": 0,
  "metadata": {
    "colab": {
      "name": "Delivery Notes Automation: Data Entry Automation with Python.ipynb",
      "provenance": [],
      "authorship_tag": "ABX9TyN3z7Ak4sniNeS+XcdAroYu",
      "include_colab_link": true
    },
    "kernelspec": {
      "name": "python3",
      "display_name": "Python 3"
    }
  },
  "cells": [
    {
      "cell_type": "markdown",
      "metadata": {
        "id": "view-in-github",
        "colab_type": "text"
      },
      "source": [
        "<a href=\"https://colab.research.google.com/github/lawrenceN/ASPBaseApp/blob/master/Delivery_Notes_Automation_Data_Entry_Automation_with_Python.ipynb\" target=\"_parent\"><img src=\"https://colab.research.google.com/assets/colab-badge.svg\" alt=\"Open In Colab\"/></a>"
      ]
    },
    {
      "cell_type": "markdown",
      "metadata": {
        "id": "wGXI6qAH-h6Y",
        "colab_type": "text"
      },
      "source": [
        "# Introduction to the Project"
      ]
    },
    {
      "cell_type": "markdown",
      "metadata": {
        "id": "Vug_venp-3vG",
        "colab_type": "text"
      },
      "source": [
        "In this project, you will fill the role of a **Software Developer** at PharmaDeal Iberia, this company is a pharmaceutical supply chain that operates in Europe, specifically operates in Spain and Portugal and in Africa in Mozambique. You are given the the task to learn about Robotics Process Automation (RPA) from an external consultant hired by the company's board, and to implement a company-wide solutin that can automate the data entry of Delivery Notes (DNs). A DN is a document (usually with the format of an invoice) that describes the supply and receipt of goods."
      ]
    },
    {
      "cell_type": "markdown",
      "metadata": {
        "id": "WRwqM4kU_09i",
        "colab_type": "text"
      },
      "source": [
        "A global player called FashApothek, with a smaller local presence, has set up shop near PharmaDeal and has been steadily gaining market share in the region, as it employs state-of-the-art RPA software that can receive and process DNs from its suppliers ten times faster than PharmaDeal Iberia and at a reduced cost - learned this from the recent market research study."
      ]
    },
    {
      "cell_type": "markdown",
      "metadata": {
        "id": "zk8VYKNyA8Ph",
        "colab_type": "text"
      },
      "source": [
        "PharmaDeal knows that its position as the regional leader in this market is at stake if it cannot offer the same level of efficiency when it comes to receiving goods and it fears that some of its key suppliers might start switching over to the opponert. The company must innovate and do it fast. PharmaDeal has asked its developers to implement this company-wide solution.\n",
        "You need to understand the RPA process, identify the steps to be taken to automate the data entry of DNs\n",
        "\n",
        "\n",
        "*   Iterate through subfolders and identify PDF form files and Text based PDFs\n",
        "\n",
        "*   Extract field keys and values from the PDF forms and text based PDFs.\n",
        "*   Identify field IDs on web forms that correspond to the PDF documents to process.\n",
        "* Automate the entry of data extracted from the PDFs into their respective web page forms.\n",
        "\n"
      ]
    },
    {
      "cell_type": "markdown",
      "metadata": {
        "id": "ssFQ8K_YDLhK",
        "colab_type": "text"
      },
      "source": [
        "# Techniques Employed"
      ]
    },
    {
      "cell_type": "markdown",
      "metadata": {
        "id": "k_94-iv3Dh6U",
        "colab_type": "text"
      },
      "source": [
        "RPA developers use a diverse set of techniques to achieve the goal set forth for the this project. Some Python libraries needed for the project.\n",
        "\n",
        "\n",
        "*   Iterate through the subfolders and identify PDFs form files and text based PDFs - in-built libraries such as os and sys (os1- Miscellaneous interfaces using operating system dependent functionality. - sys-System specific parameters and funtions)\n",
        "\n",
        "*   Extract field keys and values from the PDF forms and text-based PDFs. - PyPDF2 Python library to identify AcroForm PDF fields and pdfplumber for text fields. (PyPDF2 - Extracts forms data from PDF files (Can also be used for splitting and merging documents page by page, cropping pages, merging multiple pages into a single page and encrypting and decrypting PDF files) - pdfplumber- Extract text data and tables from PDF files)\n",
        "\n",
        "* Identify fied IDs on web forms that correspond to the PDF document to process\n",
        "- Google Chrome Developer Tools to inspect the web page resources. \n",
        "\n",
        "* Automate the entry of data extracted from PDFs into their respective web forms. - Usage of generated JavaScript to automate the data entry of field values in web page forms. \n",
        "\n",
        "This project is a good example and represents some issues that developers face within their organizations to automate repetitive business processes that require a great deal of manual data entry. It fits in Introduction to data science Unit, since it has a feel of a project and utilizes the most popular libraries available in Python to a chieve the goal set. "
      ]
    },
    {
      "cell_type": "markdown",
      "metadata": {
        "id": "qElAvoRnFZ_h",
        "colab_type": "text"
      },
      "source": [
        "# Iterating through subfolders and identifying PDFs"
      ]
    },
    {
      "cell_type": "code",
      "metadata": {
        "id": "YLP9NbgKIL4e",
        "colab_type": "code",
        "colab": {
          "base_uri": "https://localhost:8080/",
          "height": 201
        },
        "outputId": "83557c6e-fef3-4198-8248-08914a1ee11e"
      },
      "source": [
        "# os and sys in-built\n",
        "!pip install PyPDF2"
      ],
      "execution_count": null,
      "outputs": [
        {
          "output_type": "stream",
          "text": [
            "Collecting PyPDF2\n",
            "\u001b[?25l  Downloading https://files.pythonhosted.org/packages/b4/01/68fcc0d43daf4c6bdbc6b33cc3f77bda531c86b174cac56ef0ffdb96faab/PyPDF2-1.26.0.tar.gz (77kB)\n",
            "\r\u001b[K     |████▎                           | 10kB 12.7MB/s eta 0:00:01\r\u001b[K     |████████▌                       | 20kB 1.8MB/s eta 0:00:01\r\u001b[K     |████████████▊                   | 30kB 2.3MB/s eta 0:00:01\r\u001b[K     |█████████████████               | 40kB 2.6MB/s eta 0:00:01\r\u001b[K     |█████████████████████▏          | 51kB 2.0MB/s eta 0:00:01\r\u001b[K     |█████████████████████████▍      | 61kB 2.3MB/s eta 0:00:01\r\u001b[K     |█████████████████████████████▋  | 71kB 2.5MB/s eta 0:00:01\r\u001b[K     |████████████████████████████████| 81kB 2.3MB/s \n",
            "\u001b[?25hBuilding wheels for collected packages: PyPDF2\n",
            "  Building wheel for PyPDF2 (setup.py) ... \u001b[?25l\u001b[?25hdone\n",
            "  Created wheel for PyPDF2: filename=PyPDF2-1.26.0-cp36-none-any.whl size=61086 sha256=51baeada318adf03b8d6e136629a22923dd5ab04f1637b66f65bd989a72818f1\n",
            "  Stored in directory: /root/.cache/pip/wheels/53/84/19/35bc977c8bf5f0c23a8a011aa958acd4da4bbd7a229315c1b7\n",
            "Successfully built PyPDF2\n",
            "Installing collected packages: PyPDF2\n",
            "Successfully installed PyPDF2-1.26.0\n"
          ],
          "name": "stdout"
        }
      ]
    },
    {
      "cell_type": "code",
      "metadata": {
        "id": "STGe1ctWIl0I",
        "colab_type": "code",
        "colab": {
          "base_uri": "https://localhost:8080/",
          "height": 515
        },
        "outputId": "8a684459-6275-4daa-d1d3-2fb15a45ee5c"
      },
      "source": [
        "#pdfplumber\n",
        "!pip install pdfplumber"
      ],
      "execution_count": null,
      "outputs": [
        {
          "output_type": "stream",
          "text": [
            "Collecting pdfplumber\n",
            "  Downloading https://files.pythonhosted.org/packages/2e/94/b0e9f8a4a0556c939b2fd94ca35a3c9856daca77b8a700d06b59dda68c20/pdfplumber-0.5.22.tar.gz\n",
            "Requirement already satisfied: chardet in /usr/local/lib/python3.6/dist-packages (from pdfplumber) (3.0.4)\n",
            "Collecting pycryptodome\n",
            "\u001b[?25l  Downloading https://files.pythonhosted.org/packages/17/55/17fa0b55849dc135f7bc400993a9206bf06d1b5d9520b0bc8d47c57aaef5/pycryptodome-3.9.8-cp36-cp36m-manylinux1_x86_64.whl (13.7MB)\n",
            "\u001b[K     |████████████████████████████████| 13.7MB 298kB/s \n",
            "\u001b[?25hCollecting unicodecsv>=0.14.1\n",
            "  Downloading https://files.pythonhosted.org/packages/6f/a4/691ab63b17505a26096608cc309960b5a6bdf39e4ba1a793d5f9b1a53270/unicodecsv-0.14.1.tar.gz\n",
            "Collecting pdfminer.six==20200104\n",
            "\u001b[?25l  Downloading https://files.pythonhosted.org/packages/22/bb/d38a297068723409193296f056c63fcefe6a8a784049b34bbdbf559b5118/pdfminer.six-20200104-py3-none-any.whl (5.6MB)\n",
            "\u001b[K     |████████████████████████████████| 5.6MB 42.9MB/s \n",
            "\u001b[?25hRequirement already satisfied: pillow>=7.0.0 in /usr/local/lib/python3.6/dist-packages (from pdfplumber) (7.0.0)\n",
            "Collecting wand\n",
            "\u001b[?25l  Downloading https://files.pythonhosted.org/packages/82/e4/d00cdc270cad06a2dd2d3095ffe0f6541d69104db504c4e94de805e3c6e0/Wand-0.6.2-py2.py3-none-any.whl (130kB)\n",
            "\u001b[K     |████████████████████████████████| 133kB 46.7MB/s \n",
            "\u001b[?25hRequirement already satisfied: sortedcontainers in /usr/local/lib/python3.6/dist-packages (from pdfminer.six==20200104->pdfplumber) (2.2.2)\n",
            "Building wheels for collected packages: pdfplumber, unicodecsv\n",
            "  Building wheel for pdfplumber (setup.py) ... \u001b[?25l\u001b[?25hdone\n",
            "  Created wheel for pdfplumber: filename=pdfplumber-0.5.22-cp36-none-any.whl size=30991 sha256=eb96f1a3f77f3c1687e23bffddd1bf75002197d206a09b5826bdb7d9e65b86f7\n",
            "  Stored in directory: /root/.cache/pip/wheels/a0/43/a9/8fccbc3b08b5da5eed4c085b07a5b36954efd86fe5364f7410\n",
            "  Building wheel for unicodecsv (setup.py) ... \u001b[?25l\u001b[?25hdone\n",
            "  Created wheel for unicodecsv: filename=unicodecsv-0.14.1-cp36-none-any.whl size=10768 sha256=d0fc3253a339d83169517d162c98a01b0178a25d66948edf71c65d3773aaa504\n",
            "  Stored in directory: /root/.cache/pip/wheels/a6/09/e9/e800279c98a0a8c94543f3de6c8a562f60e51363ed26e71283\n",
            "Successfully built pdfplumber unicodecsv\n",
            "Installing collected packages: pycryptodome, unicodecsv, pdfminer.six, wand, pdfplumber\n",
            "Successfully installed pdfminer.six-20200104 pdfplumber-0.5.22 pycryptodome-3.9.8 unicodecsv-0.14.1 wand-0.6.2\n"
          ],
          "name": "stdout"
        }
      ]
    },
    {
      "cell_type": "markdown",
      "metadata": {
        "id": "oNzQnMrcNb2Q",
        "colab_type": "text"
      },
      "source": [
        "The file has PDFs each is DN. Two possible layout of DN to automate: all are combined text based PDFS with embedded forms with editable (correponds to a field within the form that is a textbox) or selectable fields (can be selected- dropdown). Note: Only this two notes are acceptable in this company - 211559-050 format - send when goods re supplied directly to PharmaDeal repair center- TALLER. Format 2 is 1900070 which is used when goods supplied are sent directly to the PharmaDeals logistics center. -- Delivery Note,,, Delivery date "
      ]
    },
    {
      "cell_type": "markdown",
      "metadata": {
        "id": "vtGt5PbBRrd6",
        "colab_type": "text"
      },
      "source": [
        "We want a python function that iterates through this folder and returns   a list of PDF files found within all the subfolders. The code should be as efficent as possible no more than 6 lines of code.----(Not a must**) "
      ]
    },
    {
      "cell_type": "markdown",
      "metadata": {
        "id": "_JllHT_0TqyC",
        "colab_type": "text"
      },
      "source": [
        "\n",
        "# once the PDF resource files have been downloaded, you should be able to execute the Python script and get the list of the pdf "
      ]
    },
    {
      "cell_type": "code",
      "metadata": {
        "id": "2sileCdGIxtC",
        "colab_type": "code",
        "colab": {}
      },
      "source": [
        "import os\n",
        "import sys"
      ],
      "execution_count": null,
      "outputs": []
    },
    {
      "cell_type": "code",
      "metadata": {
        "id": "C5lVql28Ix4j",
        "colab_type": "code",
        "colab": {}
      },
      "source": [
        "def getFiles():\n",
        "  fls=[]\n",
        "  for d, sd, fl in os.walk('.'):\n",
        "    for f in fl:\n",
        "      fls.append(os.path.join(d,f))\n",
        "  return list(filter(lambda f: '.pdf' in f, fls))"
      ],
      "execution_count": null,
      "outputs": []
    },
    {
      "cell_type": "code",
      "metadata": {
        "id": "8TgYKr_oUmix",
        "colab_type": "code",
        "colab": {
          "base_uri": "https://localhost:8080/",
          "height": 35
        },
        "outputId": "faf1d649-eb26-4dd3-8eba-f9834d7c7509"
      },
      "source": [
        "if __name__=='__main__':\n",
        "  print(getFiles())"
      ],
      "execution_count": null,
      "outputs": [
        {
          "output_type": "stream",
          "text": [
            "[]\n"
          ],
          "name": "stdout"
        }
      ]
    },
    {
      "cell_type": "code",
      "metadata": {
        "id": "cMMXCqXNUc-C",
        "colab_type": "code",
        "colab": {}
      },
      "source": [
        "\n"
      ],
      "execution_count": null,
      "outputs": []
    },
    {
      "cell_type": "code",
      "metadata": {
        "id": "JV3YNSxEWbm4",
        "colab_type": "code",
        "colab": {
          "base_uri": "https://localhost:8080/",
          "height": 129
        },
        "outputId": "3aeaf387-6c14-4d36-a1ad-81b484c33bb0"
      },
      "source": [
        "from google.colab import drive\n",
        "drive.mount('/content/drive')"
      ],
      "execution_count": null,
      "outputs": [
        {
          "output_type": "stream",
          "text": [
            "Go to this URL in a browser: https://accounts.google.com/o/oauth2/auth?client_id=947318989803-6bn6qk8qdgf4n4g3pfee6491hc0brc4i.apps.googleusercontent.com&redirect_uri=urn%3aietf%3awg%3aoauth%3a2.0%3aoob&response_type=code&scope=email%20https%3a%2f%2fwww.googleapis.com%2fauth%2fdocs.test%20https%3a%2f%2fwww.googleapis.com%2fauth%2fdrive%20https%3a%2f%2fwww.googleapis.com%2fauth%2fdrive.photos.readonly%20https%3a%2f%2fwww.googleapis.com%2fauth%2fpeopleapi.readonly\n",
            "\n",
            "Enter your authorization code:\n",
            "··········\n",
            "Mounted at /content/drive\n"
          ],
          "name": "stdout"
        }
      ]
    },
    {
      "cell_type": "code",
      "metadata": {
        "id": "0yWNWhrzYIRd",
        "colab_type": "code",
        "colab": {
          "base_uri": "https://localhost:8080/",
          "height": 55
        },
        "outputId": "94b6038a-df32-41ee-dd5d-464355ca44f7"
      },
      "source": [
        "if __name__=='__main__':\n",
        "  print(getFiles())"
      ],
      "execution_count": null,
      "outputs": [
        {
          "output_type": "stream",
          "text": [
            "['./drive/My Drive/Getting started.pdf', './drive/My Drive/formats/formats/format1/folder/1900070.pdf', './drive/My Drive/formats/formats/format2/211559-050.pdf']\n"
          ],
          "name": "stdout"
        }
      ]
    },
    {
      "cell_type": "markdown",
      "metadata": {
        "id": "nCAEDbHyFlei",
        "colab_type": "text"
      },
      "source": [
        "# Extracting fields from PDFs"
      ]
    },
    {
      "cell_type": "markdown",
      "metadata": {
        "id": "_aP6NIxVb0H9",
        "colab_type": "text"
      },
      "source": [
        "## Identifying and reading Fields from the PDFs. "
      ]
    },
    {
      "cell_type": "markdown",
      "metadata": {
        "id": "6hOsTAAYcCZk",
        "colab_type": "text"
      },
      "source": [
        "The aim is to read each of the PDF files identified in the above section. For each PDF file, identify the document type and read all the applicable dataset fields, depending on the type of PDF. It is possible to implement the full project using the pdfplumber only but we need to use two  since each has its own limitations. Using the two ensures more possibilities of being successful. \n",
        "The Workflow:\n",
        "\n",
        "\n",
        "*   For each PDF layout (there are two possible layouts),, create an .ini file that will contain the names of the fields that we need to identify and the extracted when reading these PDFs, depending of the type and layout each PDF. \n",
        "\n",
        "*   Editable and Selectable form field names should be appended an |e or |s respectively, within the .ini file. Non-editable form fields should not be appended any |e |s to their names. Each line within a .ini file represents a field name.\n",
        "\n",
        "* Fields that have the |e appended to their names need to be read as PDF editables form fields.... their names indicates PDF form field key.\n",
        "\n",
        "* Field with |s appended read as PDF editable form fields.\n",
        "\n",
        "*Field with no |e or |s appended to their names shoud be read along with the test that is the text that is contained within that same line and the line below. This is what the gettextfieds should return. \n",
        "* Form fields and their values should be returned in an ordered dictionary which will be used to build the browser automation script, this is what the getfieds should return. \n",
        "\n"
      ]
    },
    {
      "cell_type": "markdown",
      "metadata": {
        "id": "jmeTOmBmfrCb",
        "colab_type": "text"
      },
      "source": [
        "#fn is the name fo the file to analyze\n",
        "\n",
        "def getfields(fn):\n",
        "  # do something ,,\n",
        "  fields =getformfields(pdf)\n",
        "  #do somthing ...\n",
        "  return OrderedDict(k, v.get('\\v','')) for k, v in fields. items())\n",
        "  ## write this ==markdown==== //case in data science where this is important..."
      ]
    },
    {
      "cell_type": "code",
      "metadata": {
        "id": "pgDij8Brfmxq",
        "colab_type": "code",
        "colab": {}
      },
      "source": [
        ""
      ],
      "execution_count": null,
      "outputs": []
    },
    {
      "cell_type": "markdown",
      "metadata": {
        "id": "pFmpY7RNFqjp",
        "colab_type": "text"
      },
      "source": [
        "# Data Entry automation on web pages"
      ]
    },
    {
      "cell_type": "code",
      "metadata": {
        "id": "RZwXL-5kFuxt",
        "colab_type": "code",
        "colab": {}
      },
      "source": [
        ""
      ],
      "execution_count": null,
      "outputs": []
    }
  ]
}