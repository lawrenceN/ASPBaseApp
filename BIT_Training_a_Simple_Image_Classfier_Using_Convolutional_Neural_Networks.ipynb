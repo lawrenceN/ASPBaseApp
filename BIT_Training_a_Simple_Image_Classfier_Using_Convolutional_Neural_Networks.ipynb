{
  "nbformat": 4,
  "nbformat_minor": 0,
  "metadata": {
    "colab": {
      "name": "BIT: Training a Simple Image Classfier Using Convolutional Neural Networks.ipynb",
      "provenance": [],
      "authorship_tag": "ABX9TyMP7oZ/1ZSwVxnnCuR6n+xl",
      "include_colab_link": true
    },
    "kernelspec": {
      "name": "python3",
      "display_name": "Python 3"
    }
  },
  "cells": [
    {
      "cell_type": "markdown",
      "metadata": {
        "id": "view-in-github",
        "colab_type": "text"
      },
      "source": [
        "<a href=\"https://colab.research.google.com/github/lawrenceN/ASPBaseApp/blob/master/BIT_Training_a_Simple_Image_Classfier_Using_Convolutional_Neural_Networks.ipynb\" target=\"_parent\"><img src=\"https://colab.research.google.com/assets/colab-badge.svg\" alt=\"Open In Colab\"/></a>"
      ]
    },
    {
      "cell_type": "markdown",
      "metadata": {
        "id": "_zs3NN9WqD-S",
        "colab_type": "text"
      },
      "source": [
        "# Training a Simple Image Classifier Using CNN"
      ]
    },
    {
      "cell_type": "markdown",
      "metadata": {
        "id": "Zewdsm7_qcrP",
        "colab_type": "text"
      },
      "source": [
        "**Objective:** To create a CNN for classification of handwritten digits:\n",
        "\n",
        "\n",
        "\n",
        "1.   Load in the MNIST dataset and examine it.\n",
        "\n",
        "\n",
        "*   Use any library to load the MNIST (in Tensorflow and PyTorch Modules) dataset \n",
        "*   Inspect the data: size, shape and quantity.\n",
        "*   View random samples using either OpenCV or Matplotlib and observe the complexity of the images. \n",
        "\n",
        "\n",
        "2.   Using numpy or other libraries prepare your dataset for training\n",
        "* Ensure the format or shape of the data is appropriate for input into your model (one-hot encoding is needed for the labels)\n",
        "* Ensure data types are correct and that data is normalized\n",
        "\n",
        "3. Create a CNN with the following specifications\n",
        "* input dimensions of 28 x 28 x 1\n",
        "* Two Convolution Layers (kernel Size 3*3). The first with 64 filters, the second with 32.  Use the ReLu as the activation Layer. \n",
        "* Max pooling of size 2*2\n",
        "* Dropout Rate of 0.25\n",
        "* Add a Dense Layer comprising of 128 outputs\n",
        "*Add another Dropout Layer that indicates the class probabilities\n",
        "* Add the final Dropout Layer that indicates the class probabilities\n",
        "4. Train the CNN on the MNIST dataset \n",
        "* For at least 10 Epochs using batch size of 32\n",
        "5. Plot graphs showing how your training and validation loss and accuracy changed with respect to the Epochs completed. \n",
        "6.Save your model, you will be using it for the second milestone\n",
        "7. Test the model on some random samples from the test dataset. \n",
        "\n",
        "\n"
      ]
    },
    {
      "cell_type": "markdown",
      "metadata": {
        "id": "KQ8h7QRWvszZ",
        "colab_type": "text"
      },
      "source": [
        "# Loading the Data"
      ]
    },
    {
      "cell_type": "code",
      "metadata": {
        "id": "XXiZLq3Lvvf-",
        "colab_type": "code",
        "colab": {}
      },
      "source": [
        "from tensorflow.keras.datasets import mnist"
      ],
      "execution_count": null,
      "outputs": []
    },
    {
      "cell_type": "code",
      "metadata": {
        "id": "UOt-xdKEv1LE",
        "colab_type": "code",
        "colab": {}
      },
      "source": [
        "# load the dataset\n",
        "(x_train, y_train),(x_test,y_test)=mnist.load_data()"
      ],
      "execution_count": null,
      "outputs": []
    },
    {
      "cell_type": "code",
      "metadata": {
        "id": "HttyzqUUwEK8",
        "colab_type": "code",
        "colab": {
          "base_uri": "https://localhost:8080/",
          "height": 237
        },
        "outputId": "2544835c-0431-43a1-b166-3a001c79d1c7"
      },
      "source": [
        "#display the dataset\n",
        "print('Initial shape or dimensions of the x_train',str(x_train.shape) +'\\n')\n",
        "print('Number of samples in our training data: '+ str(len(x_train)))\n",
        "print('Number of labels in our training data:  '+ str(len(y_train)))\n",
        "print('Number of samples in our test data: '+ str(len(x_test)))\n",
        "print('Number of labels in our test data: '+ str(len(y_test))+'\\n')\n",
        "\n",
        "print('Dimensions of x_train: '+ str(x_train[0].shape))\n",
        "print('Labels in x_train: '+ str(y_train.shape)+'\\n')\n",
        "print('Dimensions of x_test: '+str(x_test[0].shape))\n",
        "print('Labels  in y_test: '+ str(y_test.shape))\n"
      ],
      "execution_count": null,
      "outputs": [
        {
          "output_type": "stream",
          "text": [
            "Initial shape or dimensions of the x_train (60000, 28, 28)\n",
            "\n",
            "Number of samples in our training data: 60000\n",
            "Number of labels in our training data:  60000\n",
            "Number of samples in our test data: 10000\n",
            "Number of labels in our test data: 10000\n",
            "\n",
            "Dimensions of x_train: (28, 28)\n",
            "Labels in x_train: (60000,)\n",
            "\n",
            "Dimensions of x_test: (28, 28)\n",
            "Labels  in y_test: (10000,)\n"
          ],
          "name": "stdout"
        }
      ]
    },
    {
      "cell_type": "markdown",
      "metadata": {
        "id": "MskWPqMXzJBk",
        "colab_type": "text"
      },
      "source": [
        "# Looking at some images in the dataset"
      ]
    },
    {
      "cell_type": "code",
      "metadata": {
        "id": "r_0IYVY9zPt6",
        "colab_type": "code",
        "colab": {}
      },
      "source": [
        "#importing matplotlib\n",
        "import matplotlib.pyplot as plt\n",
        "import numpy as np\n"
      ],
      "execution_count": null,
      "outputs": []
    },
    {
      "cell_type": "code",
      "metadata": {
        "id": "rin_UJYTzePg",
        "colab_type": "code",
        "colab": {
          "base_uri": "https://localhost:8080/",
          "height": 191
        },
        "outputId": "bccebc60-c84a-4741-a72e-b0db4b12f03f"
      },
      "source": [
        "# plots 6 images, note subplot's arguments are nrows, ncols and index\n",
        "# we set the color map to grey since our image dataset is grayscale\n",
        "plt.subplot(331)\n",
        "random_num=np.random.randint(0,len(x_train))\n",
        "_=plt.imshow(x_train[random_num], cmap=plt.get_cmap('gray'))\n",
        "plt.subplot(332)\n",
        "random_num=np.random.randint(0,len(x_train))\n",
        "_=plt.imshow(x_train[random_num], cmap=plt.get_cmap('gray'))\n",
        "\n",
        "plt.subplot(333)\n",
        "random_num=np.random.randint(0,len(x_train))\n",
        "_=plt.imshow(x_train[random_num], cmap=plt.get_cmap('gray'))\n",
        "\n",
        "plt.subplot(334)\n",
        "random_num=np.random.randint(0,len(x_train))\n",
        "_=plt.imshow(x_train[random_num], cmap=plt.get_cmap('gray'))\n",
        "\n",
        "plt.subplot(335)\n",
        "random_num=np.random.randint(0,len(x_train))\n",
        "_=plt.imshow(x_train[random_num], cmap=plt.get_cmap('gray'))\n",
        "\n",
        "plt.subplot(336)\n",
        "random_num=np.random.randint(0,len(x_train))\n",
        "_=plt.imshow(x_train[random_num], cmap=plt.get_cmap('gray'))\n",
        "\n",
        "plt.show()"
      ],
      "execution_count": null,
      "outputs": [
        {
          "output_type": "display_data",
          "data": {
            "image/png": "[encoded data removed]",
            "text/plain": [
              "<Figure size 432x288 with 6 Axes>"
            ]
          },
          "metadata": {
            "tags": [],
            "needs_background": "light"
          }
        }
      ]
    },
    {
      "cell_type": "markdown",
      "metadata": {
        "id": "ITKm2kGa2OBn",
        "colab_type": "text"
      },
      "source": [
        "# Preparing our Dataset for Keras"
      ]
    },
    {
      "cell_type": "markdown",
      "metadata": {
        "id": "JrOF7H8A2V1j",
        "colab_type": "text"
      },
      "source": [
        "Keras requires our input data as a 4-Dimensional shape of (60000,28,28,1). When we initially loaded the data, x_train was (60000,28,28). We need the labels to be one-hot-encoded."
      ]
    },
    {
      "cell_type": "code",
      "metadata": {
        "id": "59saROPK2SVp",
        "colab_type": "code",
        "colab": {
          "base_uri": "https://localhost:8080/",
          "height": 72
        },
        "outputId": "c41f6603-3ecb-4b3c-b1e2-ff41c8adf6e5"
      },
      "source": [
        "#number of rows and columns\n",
        "img_rows=x_train[0].shape[0]\n",
        "img_cols=x_train[0].shape[1]\n",
        "\n",
        "# getting the data in the right 'shape' needed for Keras\n",
        "# We need to add a 4 th dimeniosion to our data thereby changing our\n",
        "# original image shape of (60000,28,28) to (60000,28,28,1)\n",
        "x_train=x_train.reshape(x_train.shape[0],img_rows,img_cols,1)\n",
        "x_test=x_test.reshape(x_test.shape[0],img_rows,img_cols, 1)\n",
        "\n",
        "# store the shape of the single image for future use as a variable storing \n",
        "#our input shape\n",
        "input_shape=(img_rows, img_cols,1)\n",
        "\n",
        "#change our image type to float32 data types\n",
        "x_train=x_train.astype('float32') # uint8 originally\n",
        "x_test=x_test.astype('float32')\n",
        "\n",
        "#Normalize the data by changing the range form (0 to 255) to (0 to 1)\n",
        "x_train/=255.0\n",
        "x_test/=255.0\n",
        "\n",
        "print('x_train shape:',x_train.shape)\n",
        "print(x_train.shape[0],'train samples')\n",
        "print(x_test.shape[0], 'test samples')\n",
        "\n"
      ],
      "execution_count": null,
      "outputs": [
        {
          "output_type": "stream",
          "text": [
            "x_train shape: (60000, 28, 28, 1)\n",
            "60000 train samples\n",
            "10000 test samples\n"
          ],
          "name": "stdout"
        }
      ]
    },
    {
      "cell_type": "markdown",
      "metadata": {
        "id": "3h3PY2xEMZIx",
        "colab_type": "text"
      },
      "source": [
        ""
      ]
    },
    {
      "cell_type": "markdown",
      "metadata": {
        "id": "Z8rupVjkMaoq",
        "colab_type": "text"
      },
      "source": [
        "# Performing one-hot-enconding of the data labels"
      ]
    },
    {
      "cell_type": "code",
      "metadata": {
        "id": "e1UPnHAL27KX",
        "colab_type": "code",
        "colab": {
          "base_uri": "https://localhost:8080/",
          "height": 35
        },
        "outputId": "6861347a-1453-4f86-9e55-39dbf43843c2"
      },
      "source": [
        "from tensorflow.keras.utils import to_categorical\n",
        "#Using the hot encode outputs\n",
        "y_train=to_categorical(y_train)\n",
        "y_test=to_categorical(y_test)\n",
        "#let's count the number of columns in our hot encoded matrix\n",
        "print('Number of Classes: '+ str(y_test.shape[1]))\n",
        "num_classes = y_test.shape[1]"
      ],
      "execution_count": null,
      "outputs": [
        {
          "output_type": "stream",
          "text": [
            "Number of Classes: 10\n"
          ],
          "name": "stdout"
        }
      ]
    },
    {
      "cell_type": "code",
      "metadata": {
        "id": "leB-jhl0OIBc",
        "colab_type": "code",
        "colab": {
          "base_uri": "https://localhost:8080/",
          "height": 476
        },
        "outputId": "298642b8-6a6a-42c5-c3b7-74fec0f0c314"
      },
      "source": [
        "from tensorflow.keras.models import Sequential\n",
        "from tensorflow.keras.layers import Dense, Dropout, Flatten\n",
        "from tensorflow.keras.layers import Conv2D, MaxPooling2D\n",
        "from tensorflow.keras import backend as k\n",
        "from tensorflow.keras.optimizers import SGD\n",
        "\n",
        "#create model\n",
        "model=Sequential()\n",
        "\n",
        "#First convolution Layer, Filter size 32 which reduces our layer\n",
        "#size to 26 * 26 * 32\n",
        "#We use ReLU activation and specify our input_shape which is 28 x 28 x 1\n",
        "model.add(Conv2D(32, kernel_size=(3,3), activation='relu', input_shape=input_shape))\n",
        "\n",
        "# Second convolution Layer, Filter size 64, which reduces our sizes to 12 x 12 x 64\n",
        "model.add(Conv2D(64,(3,3), activation='relu'))\n",
        "\n",
        "#We use Maxpooling with a kernel size of 2 * 2, this reduces our size to 12 x 12x64\n",
        "model.add(MaxPooling2D(pool_size=(2,2)))\n",
        "\n",
        "#We use a dropout P setting of 0.25 to reduce overfitting\n",
        "model.add(Dropout(0.25))\n",
        "\n",
        "# We then Flatten our tensor object before input into our Dense Layer\n",
        "#Flatten operation on a tensor reshapes the tensor to have the shape that is\n",
        "#Equal to the number of elements contained in tensor\n",
        "# In our CNN it goes form 12 * 12 * 64 to 9216 *1\n",
        "model.add(Flatten())\n",
        "\n",
        "#We connect this layer to a fully connected/Dense layer of size 1 * 128\n",
        "model.add(Dense(128, activation='relu'))\n",
        "\n",
        "#We use another Dropout layer\n",
        "model.add(Dropout(0.5))\n",
        "\n",
        "# We create our final fully connected/ Dense layer with an output for each class\n",
        "# (10) \n",
        "model.add(Dense(num_classes,activation='softmax'))\n",
        "\n",
        "# We compile our model, this creates an object that stores the model just created\n",
        "# We set out Optimizer to use Stochastic Gradient Descent (Learning rate of 0.01)\n",
        "# Finally, the metrics (what we judge our performance on) to be accuracy\n",
        "model.compile(loss='categorical_crossentropy',optimizer=SGD(0.01), metrics=['accuracy'])\n",
        "#We use the summary function to display our model \n",
        "print(model.summary())\n"
      ],
      "execution_count": null,
      "outputs": [
        {
          "output_type": "stream",
          "text": [
            "Model: \"sequential_4\"\n",
            "_________________________________________________________________\n",
            "Layer (type)                 Output Shape              Param #   \n",
            "=================================================================\n",
            "conv2d_2 (Conv2D)            (None, 26, 26, 32)        320       \n",
            "_________________________________________________________________\n",
            "conv2d_3 (Conv2D)            (None, 24, 24, 64)        18496     \n",
            "_________________________________________________________________\n",
            "max_pooling2d_1 (MaxPooling2 (None, 12, 12, 64)        0         \n",
            "_________________________________________________________________\n",
            "dropout_2 (Dropout)          (None, 12, 12, 64)        0         \n",
            "_________________________________________________________________\n",
            "flatten_1 (Flatten)          (None, 9216)              0         \n",
            "_________________________________________________________________\n",
            "dense_2 (Dense)              (None, 128)               1179776   \n",
            "_________________________________________________________________\n",
            "dropout_3 (Dropout)          (None, 128)               0         \n",
            "_________________________________________________________________\n",
            "dense_3 (Dense)              (None, 10)                1290      \n",
            "=================================================================\n",
            "Total params: 1,199,882\n",
            "Trainable params: 1,199,882\n",
            "Non-trainable params: 0\n",
            "_________________________________________________________________\n",
            "None\n"
          ],
          "name": "stdout"
        }
      ]
    },
    {
      "cell_type": "markdown",
      "metadata": {
        "id": "69vsvJb6hct4",
        "colab_type": "text"
      },
      "source": [
        ""
      ]
    },
    {
      "cell_type": "markdown",
      "metadata": {
        "id": "128UEGHdhdcH",
        "colab_type": "text"
      },
      "source": [
        "# Training our CNN"
      ]
    },
    {
      "cell_type": "code",
      "metadata": {
        "id": "NXveIi4nak3w",
        "colab_type": "code",
        "colab": {
          "base_uri": "https://localhost:8080/",
          "height": 441
        },
        "outputId": "f8131bb7-19aa-4d3c-964a-b2bf40675ddc"
      },
      "source": [
        "batch_size=32\n",
        "epochs=10\n",
        "#store our results here so we can plot later\n",
        "# In our fit function we specify our datasets (x_train and y_train),\n",
        "# the batch size (typically 16 to 128 depending on your RAM), the number of epochs\n",
        "#epochs()10 to 100) and our validation datasets (x_test and y_test)\n",
        "#verbose = 1 , sets our training to output performace metrics every epoch\n",
        "\n",
        "history = model.fit(x_train,y_train, batch_size=batch_size,epochs=epochs, verbose=1,validation_data=(x_test,y_test))\n",
        "#We obtain our accuracy score using the evalute function\n",
        "score=model.evaluate(x_test,y_test, verbose=0)\n",
        "print('Test Loss: ', score[0])\n",
        "print('Test accuracy:',score[1])\n"
      ],
      "execution_count": null,
      "outputs": [
        {
          "output_type": "stream",
          "text": [
            "Epoch 1/10\n",
            "1875/1875 [==============================] - 159s 85ms/step - loss: 0.6189 - accuracy: 0.8051 - val_loss: 0.2047 - val_accuracy: 0.9416\n",
            "Epoch 2/10\n",
            "1875/1875 [==============================] - 162s 86ms/step - loss: 0.3042 - accuracy: 0.9084 - val_loss: 0.1438 - val_accuracy: 0.9563\n",
            "Epoch 3/10\n",
            "1875/1875 [==============================] - 166s 88ms/step - loss: 0.2326 - accuracy: 0.9293 - val_loss: 0.1065 - val_accuracy: 0.9672\n",
            "Epoch 4/10\n",
            "1875/1875 [==============================] - 162s 86ms/step - loss: 0.1811 - accuracy: 0.9463 - val_loss: 0.0815 - val_accuracy: 0.9747\n",
            "Epoch 5/10\n",
            "1875/1875 [==============================] - 164s 87ms/step - loss: 0.1485 - accuracy: 0.9560 - val_loss: 0.0691 - val_accuracy: 0.9783\n",
            "Epoch 6/10\n",
            "1875/1875 [==============================] - 162s 87ms/step - loss: 0.1269 - accuracy: 0.9621 - val_loss: 0.0575 - val_accuracy: 0.9817\n",
            "Epoch 7/10\n",
            "1875/1875 [==============================] - 161s 86ms/step - loss: 0.1106 - accuracy: 0.9667 - val_loss: 0.0534 - val_accuracy: 0.9827\n",
            "Epoch 8/10\n",
            "1875/1875 [==============================] - 161s 86ms/step - loss: 0.1018 - accuracy: 0.9693 - val_loss: 0.0480 - val_accuracy: 0.9839\n",
            "Epoch 9/10\n",
            "1875/1875 [==============================] - 162s 87ms/step - loss: 0.0907 - accuracy: 0.9720 - val_loss: 0.0460 - val_accuracy: 0.9844\n",
            "Epoch 10/10\n",
            "1875/1875 [==============================] - 162s 86ms/step - loss: 0.0851 - accuracy: 0.9738 - val_loss: 0.0450 - val_accuracy: 0.9842\n",
            "Test Loss:  0.04503090679645538\n",
            "Test accuracy: 0.9842000007629395\n"
          ],
          "name": "stdout"
        }
      ]
    },
    {
      "cell_type": "code",
      "metadata": {
        "id": "7m6mP_XblSbb",
        "colab_type": "code",
        "colab": {}
      },
      "source": [
        ""
      ],
      "execution_count": null,
      "outputs": []
    }
  ]
}