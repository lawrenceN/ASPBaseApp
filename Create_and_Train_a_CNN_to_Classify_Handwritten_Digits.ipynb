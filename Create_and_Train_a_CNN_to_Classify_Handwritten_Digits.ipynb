{
  "nbformat": 4,
  "nbformat_minor": 0,
  "metadata": {
    "kernelspec": {
      "display_name": "Python 3",
      "language": "python",
      "name": "python3"
    },
    "language_info": {
      "codemirror_mode": {
        "name": "ipython",
        "version": 3
      },
      "file_extension": ".py",
      "mimetype": "text/x-python",
      "name": "python",
      "nbconvert_exporter": "python",
      "pygments_lexer": "ipython3",
      "version": "3.7.7"
    },
    "colab": {
      "name": "Create and Train a CNN to Classify Handwritten Digits.ipynb",
      "provenance": [],
      "include_colab_link": true
    }
  },
  "cells": [
    {
      "cell_type": "markdown",
      "metadata": {
        "id": "view-in-github",
        "colab_type": "text"
      },
      "source": [
        "<a href=\"https://colab.research.google.com/github/lawrenceN/ASPBaseApp/blob/master/Create_and_Train_a_CNN_to_Classify_Handwritten_Digits.ipynb\" target=\"_parent\"><img src=\"https://colab.research.google.com/assets/colab-badge.svg\" alt=\"Open In Colab\"/></a>"
      ]
    },
    {
      "cell_type": "markdown",
      "metadata": {
        "id": "qT1V7zgEvdcp"
      },
      "source": [
        "# Introduction "
      ]
    },
    {
      "cell_type": "markdown",
      "metadata": {
        "id": "FRUmtZQTvdcw"
      },
      "source": [
        "Deep learning \n",
        "\n",
        "* powerful subset of machine learning\n",
        "* Produced very impressive results in computer vision and NLP\n",
        "* Resource intensive deep-learning solutions are possible:\n",
        "   - Big data\n",
        "   - Processing Power\n",
        "   - Internet speeds\n",
        "   - Parallel computing - hardware and software \n",
        "\n"
      ]
    },
    {
      "cell_type": "markdown",
      "metadata": {
        "id": "2HgQaCNMvdcx"
      },
      "source": [
        "# Keras and Tensorflow \n",
        "\n",
        "* Keras - friendly interface to Google's TensorFlow (CNTK)\n",
        "* Google Mind team developed Keras to make deep-learning capabilities accessble\n",
        "* Google has several projects - based deep learning "
      ]
    },
    {
      "cell_type": "markdown",
      "metadata": {
        "id": "ff3_UsU6vdcy"
      },
      "source": [
        "# Models \n",
        "\n",
        "* Deep learning models connect multiple layers\n",
        "* Models encapsulate mathematical algorithms -- Complex\n",
        "    * Simply the process by just defining parameters and you manupulate\n",
        "* Keras helps during experimentation\n",
        "* More data - better trained learning models\n",
        "* Deep learning -- processing power, High performance - GPUs(-- NVIDIA) and TPUs (Tensor processing Units- Google)\n"
      ]
    },
    {
      "cell_type": "markdown",
      "metadata": {
        "id": "UYKmnpZEvdcz"
      },
      "source": [
        "#  Applications\n",
        "\n",
        "- Game playing\n",
        "- Computer Vision\n",
        "- Self driven cars\n",
        "- Google search\n",
        "- Enhancing image resolution\n",
        "- Predicting weather conditions and earthquakes\n",
        "\n"
      ]
    },
    {
      "cell_type": "markdown",
      "metadata": {
        "id": "ml3jdjIHvdc0"
      },
      "source": [
        "# Kera Built-in Datasets\n",
        "* MNIST - handwritten digits\n",
        "* Fashion- MNIST dataset on fashion articles \n",
        "* IMDb Movie reviews -- NLP - RNNs - + or - \n",
        "* CIFAR10 small image classification also CIFAR 100 - 100 Categories \n"
      ]
    },
    {
      "cell_type": "markdown",
      "metadata": {
        "id": "eWm-FFZ0vdc0"
      },
      "source": [
        "# How Artificial Neurons Decice Whether to Activate Synapses \n",
        "\n",
        "*  As the network trains. The aim is to minize the error rate - network predicted labels and the actual\n",
        "*  Error rate -- Loss\n",
        "*   Calculation that determines the loss is the loss function\n",
        "* Backpropagation -- During training the network determines the amount that each neuron contributes to the loss anad then adjusts the weights, in an effort to minimize the loss."
      ]
    },
    {
      "cell_type": "markdown",
      "metadata": {
        "id": "bwYhKZm0vdc1"
      },
      "source": [
        "# Tensors \n",
        "- Deep learning framworks manipulate data in form of tensors\n",
        "- multidimensional array -- Framework tensorflow-- packs all the data into one or more tensors... user for mathematical calculations - ANN to learn \n",
        "\n",
        "- Tensors can get very large \n",
        "- 0D scalar \n",
        "- 1D tensor - vector (2,3,4,6)\n",
        " - 2D tensor -- 2 d array - matrix\n",
        " - 3D tensor - 3 d array color image -- with and height,,, depth (RGB)\n",
        " - 4D tensor - collection of color images  in 3D tensors \n",
        " - 5D tensor - 4D tensor that contains videos\n",
        " \n",
        "\n",
        " "
      ]
    },
    {
      "cell_type": "code",
      "metadata": {
        "id": "OFNleL9evdc3",
        "outputId": "94436e71-5437-4642-dda8-4cd8247ccc6d"
      },
      "source": [
        "import tensorflow as tf "
      ],
      "execution_count": null,
      "outputs": [
        {
          "output_type": "stream",
          "text": [
            "C:\\anaconda\\envs\\tf_env\\lib\\site-packages\\tensorflow\\python\\framework\\dtypes.py:516: FutureWarning: Passing (type, 1) or '1type' as a synonym of type is deprecated; in a future version of numpy, it will be understood as (type, (1,)) / '(1,)type'.\n",
            "  _np_qint8 = np.dtype([(\"qint8\", np.int8, 1)])\n",
            "C:\\anaconda\\envs\\tf_env\\lib\\site-packages\\tensorflow\\python\\framework\\dtypes.py:517: FutureWarning: Passing (type, 1) or '1type' as a synonym of type is deprecated; in a future version of numpy, it will be understood as (type, (1,)) / '(1,)type'.\n",
            "  _np_quint8 = np.dtype([(\"quint8\", np.uint8, 1)])\n",
            "C:\\anaconda\\envs\\tf_env\\lib\\site-packages\\tensorflow\\python\\framework\\dtypes.py:518: FutureWarning: Passing (type, 1) or '1type' as a synonym of type is deprecated; in a future version of numpy, it will be understood as (type, (1,)) / '(1,)type'.\n",
            "  _np_qint16 = np.dtype([(\"qint16\", np.int16, 1)])\n",
            "C:\\anaconda\\envs\\tf_env\\lib\\site-packages\\tensorflow\\python\\framework\\dtypes.py:519: FutureWarning: Passing (type, 1) or '1type' as a synonym of type is deprecated; in a future version of numpy, it will be understood as (type, (1,)) / '(1,)type'.\n",
            "  _np_quint16 = np.dtype([(\"quint16\", np.uint16, 1)])\n",
            "C:\\anaconda\\envs\\tf_env\\lib\\site-packages\\tensorflow\\python\\framework\\dtypes.py:520: FutureWarning: Passing (type, 1) or '1type' as a synonym of type is deprecated; in a future version of numpy, it will be understood as (type, (1,)) / '(1,)type'.\n",
            "  _np_qint32 = np.dtype([(\"qint32\", np.int32, 1)])\n",
            "C:\\anaconda\\envs\\tf_env\\lib\\site-packages\\tensorflow\\python\\framework\\dtypes.py:525: FutureWarning: Passing (type, 1) or '1type' as a synonym of type is deprecated; in a future version of numpy, it will be understood as (type, (1,)) / '(1,)type'.\n",
            "  np_resource = np.dtype([(\"resource\", np.ubyte, 1)])\n",
            "C:\\anaconda\\envs\\tf_env\\lib\\site-packages\\tensorboard\\compat\\tensorflow_stub\\dtypes.py:541: FutureWarning: Passing (type, 1) or '1type' as a synonym of type is deprecated; in a future version of numpy, it will be understood as (type, (1,)) / '(1,)type'.\n",
            "  _np_qint8 = np.dtype([(\"qint8\", np.int8, 1)])\n",
            "C:\\anaconda\\envs\\tf_env\\lib\\site-packages\\tensorboard\\compat\\tensorflow_stub\\dtypes.py:542: FutureWarning: Passing (type, 1) or '1type' as a synonym of type is deprecated; in a future version of numpy, it will be understood as (type, (1,)) / '(1,)type'.\n",
            "  _np_quint8 = np.dtype([(\"quint8\", np.uint8, 1)])\n",
            "C:\\anaconda\\envs\\tf_env\\lib\\site-packages\\tensorboard\\compat\\tensorflow_stub\\dtypes.py:543: FutureWarning: Passing (type, 1) or '1type' as a synonym of type is deprecated; in a future version of numpy, it will be understood as (type, (1,)) / '(1,)type'.\n",
            "  _np_qint16 = np.dtype([(\"qint16\", np.int16, 1)])\n",
            "C:\\anaconda\\envs\\tf_env\\lib\\site-packages\\tensorboard\\compat\\tensorflow_stub\\dtypes.py:544: FutureWarning: Passing (type, 1) or '1type' as a synonym of type is deprecated; in a future version of numpy, it will be understood as (type, (1,)) / '(1,)type'.\n",
            "  _np_quint16 = np.dtype([(\"quint16\", np.uint16, 1)])\n",
            "C:\\anaconda\\envs\\tf_env\\lib\\site-packages\\tensorboard\\compat\\tensorflow_stub\\dtypes.py:545: FutureWarning: Passing (type, 1) or '1type' as a synonym of type is deprecated; in a future version of numpy, it will be understood as (type, (1,)) / '(1,)type'.\n",
            "  _np_qint32 = np.dtype([(\"qint32\", np.int32, 1)])\n",
            "C:\\anaconda\\envs\\tf_env\\lib\\site-packages\\tensorboard\\compat\\tensorflow_stub\\dtypes.py:550: FutureWarning: Passing (type, 1) or '1type' as a synonym of type is deprecated; in a future version of numpy, it will be understood as (type, (1,)) / '(1,)type'.\n",
            "  np_resource = np.dtype([(\"resource\", np.ubyte, 1)])\n"
          ],
          "name": "stderr"
        }
      ]
    },
    {
      "cell_type": "code",
      "metadata": {
        "id": "cccnVt8lvdc5"
      },
      "source": [
        "#500 X 500 tnesor with elements equal to 0.5 \n",
        "a=tf.ones([500,500])*0.5\n"
      ],
      "execution_count": null,
      "outputs": []
    },
    {
      "cell_type": "code",
      "metadata": {
        "id": "92DP7l8Jvdc5"
      },
      "source": [
        "import numpy as np"
      ],
      "execution_count": null,
      "outputs": []
    },
    {
      "cell_type": "code",
      "metadata": {
        "id": "aK6tcAZHvdc7"
      },
      "source": [
        "m1=[[1.0,2.0],[3.0,4.0]]"
      ],
      "execution_count": null,
      "outputs": []
    },
    {
      "cell_type": "code",
      "metadata": {
        "id": "2EhrGH1dvdc7"
      },
      "source": [
        "m2=np.array([[1.0,2.0], [3.0,4.0]], dtype=np.float32)"
      ],
      "execution_count": null,
      "outputs": []
    },
    {
      "cell_type": "code",
      "metadata": {
        "id": "9lJWMjZMvdc8"
      },
      "source": [
        "m3=tf.constant([[1.0,2.0],[3.0,4.0]])"
      ],
      "execution_count": null,
      "outputs": []
    },
    {
      "cell_type": "code",
      "metadata": {
        "id": "_j3Qup-Zvdc8",
        "outputId": "9d0d47fe-cea7-45b6-bd98-7b6b3dd54e20"
      },
      "source": [
        "type(m1)"
      ],
      "execution_count": null,
      "outputs": [
        {
          "output_type": "execute_result",
          "data": {
            "text/plain": [
              "list"
            ]
          },
          "metadata": {
            "tags": []
          },
          "execution_count": 7
        }
      ]
    },
    {
      "cell_type": "code",
      "metadata": {
        "id": "z4kIP6fnvdc9",
        "outputId": "e744a3c0-8e68-411b-b856-8c5e8bea127e"
      },
      "source": [
        "type(m2)"
      ],
      "execution_count": null,
      "outputs": [
        {
          "output_type": "execute_result",
          "data": {
            "text/plain": [
              "numpy.ndarray"
            ]
          },
          "metadata": {
            "tags": []
          },
          "execution_count": 8
        }
      ]
    },
    {
      "cell_type": "code",
      "metadata": {
        "id": "P3UzDXy4vdc9",
        "outputId": "4339837f-82f2-44fe-95b6-3a458690bb90"
      },
      "source": [
        "type(m3)"
      ],
      "execution_count": null,
      "outputs": [
        {
          "output_type": "execute_result",
          "data": {
            "text/plain": [
              "tensorflow.python.framework.ops.Tensor"
            ]
          },
          "metadata": {
            "tags": []
          },
          "execution_count": 9
        }
      ]
    },
    {
      "cell_type": "code",
      "metadata": {
        "id": "CpSRK8Zlvdc9"
      },
      "source": [
        ""
      ],
      "execution_count": null,
      "outputs": []
    },
    {
      "cell_type": "code",
      "metadata": {
        "id": "ZcdkOzwPvdc-",
        "outputId": "0730320e-57fe-40cb-c317-9ae15ce9f76c"
      },
      "source": [
        "m1"
      ],
      "execution_count": null,
      "outputs": [
        {
          "output_type": "execute_result",
          "data": {
            "text/plain": [
              "[[1.0, 2.0], [3.0, 4.0]]"
            ]
          },
          "metadata": {
            "tags": []
          },
          "execution_count": 10
        }
      ]
    },
    {
      "cell_type": "code",
      "metadata": {
        "id": "nuD8CwVIvdc-",
        "outputId": "0a28758d-74f7-401f-c578-7121469b6c02"
      },
      "source": [
        "m2"
      ],
      "execution_count": null,
      "outputs": [
        {
          "output_type": "execute_result",
          "data": {
            "text/plain": [
              "array([[1., 2.],\n",
              "       [3., 4.]], dtype=float32)"
            ]
          },
          "metadata": {
            "tags": []
          },
          "execution_count": 11
        }
      ]
    },
    {
      "cell_type": "markdown",
      "metadata": {
        "id": "eqjyGlvrvdc_"
      },
      "source": [
        "#  Convolutional Neural Networks for Vision: Multi-Classifiction with the MNIST Dataset \n",
        "\n",
        "\n",
        "\n"
      ]
    },
    {
      "cell_type": "code",
      "metadata": {
        "id": "rY99OUufvdc_"
      },
      "source": [
        "from tensorflow.keras.datasets import mnist"
      ],
      "execution_count": null,
      "outputs": []
    },
    {
      "cell_type": "code",
      "metadata": {
        "id": "Vz19_ZcIvdc_"
      },
      "source": [
        "(x_train, y_train),(x_test,y_test)=mnist.load_data()"
      ],
      "execution_count": null,
      "outputs": []
    },
    {
      "cell_type": "code",
      "metadata": {
        "id": "IfnAYHV-vddA",
        "outputId": "c17c6cfe-6364-409a-9ff9-2745880081e5"
      },
      "source": [
        "x_train.shape"
      ],
      "execution_count": null,
      "outputs": [
        {
          "output_type": "execute_result",
          "data": {
            "text/plain": [
              "(60000, 28, 28)"
            ]
          },
          "metadata": {
            "tags": []
          },
          "execution_count": 14
        }
      ]
    },
    {
      "cell_type": "code",
      "metadata": {
        "id": "W-bByGVSvddA",
        "outputId": "d0f0d250-1951-4f3b-ce58-8d00eaf57382"
      },
      "source": [
        "y_train.shape"
      ],
      "execution_count": null,
      "outputs": [
        {
          "output_type": "execute_result",
          "data": {
            "text/plain": [
              "(60000,)"
            ]
          },
          "metadata": {
            "tags": []
          },
          "execution_count": 15
        }
      ]
    },
    {
      "cell_type": "code",
      "metadata": {
        "id": "7dcnSe8jvddA",
        "outputId": "de589b27-222e-4cbb-ea1f-a487689571be"
      },
      "source": [
        "y_train"
      ],
      "execution_count": null,
      "outputs": [
        {
          "output_type": "execute_result",
          "data": {
            "text/plain": [
              "array([5, 0, 4, ..., 5, 6, 8], dtype=uint8)"
            ]
          },
          "metadata": {
            "tags": []
          },
          "execution_count": 16
        }
      ]
    },
    {
      "cell_type": "code",
      "metadata": {
        "id": "NH8hHZqKvddA",
        "outputId": "e3c5cd27-ef28-434e-a570-6e9f4d3e46f1"
      },
      "source": [
        "x_test.shape"
      ],
      "execution_count": null,
      "outputs": [
        {
          "output_type": "execute_result",
          "data": {
            "text/plain": [
              "(10000, 28, 28)"
            ]
          },
          "metadata": {
            "tags": []
          },
          "execution_count": 17
        }
      ]
    },
    {
      "cell_type": "markdown",
      "metadata": {
        "id": "2vmp9pC_vddA"
      },
      "source": [
        "# Visualizing Digits"
      ]
    },
    {
      "cell_type": "code",
      "metadata": {
        "id": "l6ajPw37vddB"
      },
      "source": [
        "%matplotlib inline"
      ],
      "execution_count": null,
      "outputs": []
    },
    {
      "cell_type": "code",
      "metadata": {
        "id": "tM6EUyvHvddB"
      },
      "source": [
        "import matplotlib.pyplot as plt\n",
        "import seaborn as sns"
      ],
      "execution_count": null,
      "outputs": []
    },
    {
      "cell_type": "code",
      "metadata": {
        "id": "oN2Z5wF_vddB"
      },
      "source": [
        "# visual some set of digits\n",
        "\n",
        "import numpy as np"
      ],
      "execution_count": null,
      "outputs": []
    },
    {
      "cell_type": "code",
      "metadata": {
        "id": "w7K7flw8vddC"
      },
      "source": [
        "index = np.random.choice(np.arange(len(x_train)),100, replace=False)\n"
      ],
      "execution_count": null,
      "outputs": []
    },
    {
      "cell_type": "code",
      "metadata": {
        "scrolled": true,
        "id": "4QVhj-iGvddC",
        "outputId": "254a95ff-15bf-46ba-865e-8af07548a45e"
      },
      "source": [
        "index"
      ],
      "execution_count": null,
      "outputs": [
        {
          "output_type": "execute_result",
          "data": {
            "text/plain": [
              "array([15215, 34950,  5404, 40930, 46611,  5744, 37895, 55545, 33749,\n",
              "       39516, 41314, 46349,  2706, 20642, 44222, 27592, 50745, 52866,\n",
              "        8635, 19057, 22627, 43132, 40613, 22884, 42899, 40145, 11222,\n",
              "       16725, 48366, 30483, 23815, 56841, 41974, 34173, 29220, 57249,\n",
              "        2396, 48221, 36378, 18562, 10818, 24059, 55985, 40045, 50507,\n",
              "       24439, 19504,   259, 38224, 18552, 31445, 32863, 17328, 59322,\n",
              "        6636,  6023, 54358, 22667, 56353, 41746, 26367, 25393, 51318,\n",
              "       51068, 36490, 59329,  8242, 21231, 35825, 55718, 48813, 15694,\n",
              "       49692, 33493, 27156, 16798,  5993,   359,  1686,  9281, 37745,\n",
              "       13215, 25871,  7914, 51956, 11264, 25653,  6182,   774, 52167,\n",
              "       29039,  7208, 29598,  2601, 19603, 36002, 45127, 23498, 20787,\n",
              "       52495])"
            ]
          },
          "metadata": {
            "tags": []
          },
          "execution_count": 22
        }
      ]
    },
    {
      "cell_type": "code",
      "metadata": {
        "id": "EE--_OcJvddD",
        "outputId": "21c91f7e-6f6d-4f98-8f5f-e0bc1b286352"
      },
      "source": [
        "figure, axes =plt.subplots(nrows=10, ncols=10, figsize=(16,9))\n",
        "for item in zip(axes.ravel(),x_train[index],y_train[index]):\n",
        "    axes,image,target =item\n",
        "    axes.imshow(image, cmap=plt.cm.gray_r)\n",
        "    axes.set_xticks([])\n",
        "    axes.set_yticks([])\n",
        "    axes.set_title(target)\n",
        "plt.tight_layout()"
      ],
      "execution_count": null,
      "outputs": [
        {
          "output_type": "display_data",
          "data": {
            "image/png": "[encoded data removed]",
            "text/plain": [
              "<Figure size 1152x648 with 100 Axes>"
            ]
          },
          "metadata": {
            "tags": []
          }
        }
      ]
    },
    {
      "cell_type": "code",
      "metadata": {
        "id": "17LqeSc5vddD",
        "outputId": "af1186c5-a659-44e9-cde9-ed61de6b569b"
      },
      "source": [
        "y_train[0]"
      ],
      "execution_count": null,
      "outputs": [
        {
          "output_type": "execute_result",
          "data": {
            "text/plain": [
              "5"
            ]
          },
          "metadata": {
            "tags": []
          },
          "execution_count": 24
        }
      ]
    },
    {
      "cell_type": "markdown",
      "metadata": {
        "id": "KyIlN7S1vddD"
      },
      "source": [
        "* Scikit-learn -- preprocessed into shapes that the model can consume.\n",
        "* MNIST dataset requires some preparation for use in Keras \n",
        "* Keras convets require Numpy array as the input\n",
        "* Each sample must have the shape (width,height, channels) -- (28, 28, 1) 0- 255\n",
        "* The NN learn from the images it creates\n",
        "   - the channels represent complex features --edges, curves and lines\n",
        "   "
      ]
    },
    {
      "cell_type": "markdown",
      "metadata": {
        "id": "8x7rNp-dvddD"
      },
      "source": [
        "# Reshaping the Data"
      ]
    },
    {
      "cell_type": "code",
      "metadata": {
        "id": "lEQXj0c5vddD"
      },
      "source": [
        "x_train=x_train.reshape((60000,28,28,1))"
      ],
      "execution_count": null,
      "outputs": []
    },
    {
      "cell_type": "code",
      "metadata": {
        "id": "BO1wZ5AovddE",
        "outputId": "c9eb0c8a-0f38-4c73-fcb6-d771c6cf9e32"
      },
      "source": [
        "x_train.shape"
      ],
      "execution_count": null,
      "outputs": [
        {
          "output_type": "execute_result",
          "data": {
            "text/plain": [
              "(60000, 28, 28, 1)"
            ]
          },
          "metadata": {
            "tags": []
          },
          "execution_count": 26
        }
      ]
    },
    {
      "cell_type": "code",
      "metadata": {
        "id": "Tp3aA8YZvddE"
      },
      "source": [
        "x_test=x_test.reshape((10000,28,28,1))"
      ],
      "execution_count": null,
      "outputs": []
    },
    {
      "cell_type": "code",
      "metadata": {
        "id": "or66i4d2vddE",
        "outputId": "d5c932d8-915f-42f5-a35e-a12758a6a2c6"
      },
      "source": [
        "x_test.shape"
      ],
      "execution_count": null,
      "outputs": [
        {
          "output_type": "execute_result",
          "data": {
            "text/plain": [
              "(10000, 28, 28, 1)"
            ]
          },
          "metadata": {
            "tags": []
          },
          "execution_count": 28
        }
      ]
    },
    {
      "cell_type": "code",
      "metadata": {
        "id": "ETBWs11nvddF",
        "outputId": "95bc4180-e688-416b-b637-3a72895fbbe8"
      },
      "source": [
        "60000/70000*100"
      ],
      "execution_count": null,
      "outputs": [
        {
          "output_type": "execute_result",
          "data": {
            "text/plain": [
              "85.71428571428571"
            ]
          },
          "metadata": {
            "tags": []
          },
          "execution_count": 29
        }
      ]
    },
    {
      "cell_type": "markdown",
      "metadata": {
        "id": "yeEH_fVEvddF"
      },
      "source": [
        "# Normalising the Data\n",
        "* Deep learning networks perform better on data that is normalized. (0 - 255)\n",
        "* within the range (0.0 - 1.0)-- mean 0.0 and the sd =1\n",
        "* we divide by 255 "
      ]
    },
    {
      "cell_type": "code",
      "metadata": {
        "id": "52DCeUuMvddG"
      },
      "source": [
        "x_train= x_train.astype('float32')/255"
      ],
      "execution_count": null,
      "outputs": []
    },
    {
      "cell_type": "code",
      "metadata": {
        "id": "jImxhAYSvddH"
      },
      "source": [
        "x_test=x_test.astype('float32')/255"
      ],
      "execution_count": null,
      "outputs": []
    },
    {
      "cell_type": "markdown",
      "metadata": {
        "id": "pBnpnfUnvddH"
      },
      "source": [
        "# One-Hot Encoding: Convert the Labels to Categorical Data\n",
        "\n",
        "* Predictions will be an array of 10 probabilities\n",
        "* To evalute model accuracy, Keras compares predictions to dataset's labels\n",
        "    - same shape\n",
        "    - Transform the labesl into categorical data arrays machine the prediction format\n",
        "    - for example for the number 7 [0.0,0.0,0.0,0.0,0.0,0.0,0.0,1.0,0.0,0.0]\n",
        "    - to_categorical() keras does the one-hot encoding"
      ]
    },
    {
      "cell_type": "code",
      "metadata": {
        "id": "wN8n92SVvddH"
      },
      "source": [
        "from tensorflow.keras.utils import to_categorical "
      ],
      "execution_count": null,
      "outputs": []
    },
    {
      "cell_type": "code",
      "metadata": {
        "id": "pr9Na70QvddH"
      },
      "source": [
        "y_train=to_categorical(y_train)"
      ],
      "execution_count": null,
      "outputs": []
    },
    {
      "cell_type": "code",
      "metadata": {
        "id": "Dw-fdqbdvddI",
        "outputId": "4c6d19e7-fcd5-46e8-80ae-d2853097bef7"
      },
      "source": [
        "y_train.shape"
      ],
      "execution_count": null,
      "outputs": [
        {
          "output_type": "execute_result",
          "data": {
            "text/plain": [
              "(60000, 10)"
            ]
          },
          "metadata": {
            "tags": []
          },
          "execution_count": 34
        }
      ]
    },
    {
      "cell_type": "code",
      "metadata": {
        "id": "WVyCZIouvddI",
        "outputId": "5f1f8a97-84ed-44a7-9de9-e5f6ac12db3d"
      },
      "source": [
        "y_train[3]"
      ],
      "execution_count": null,
      "outputs": [
        {
          "output_type": "execute_result",
          "data": {
            "text/plain": [
              "array([0., 1., 0., 0., 0., 0., 0., 0., 0., 0.], dtype=float32)"
            ]
          },
          "metadata": {
            "tags": []
          },
          "execution_count": 35
        }
      ]
    },
    {
      "cell_type": "code",
      "metadata": {
        "id": "lIt3WGe6vddJ"
      },
      "source": [
        "y_test=to_categorical(y_test)"
      ],
      "execution_count": null,
      "outputs": []
    },
    {
      "cell_type": "code",
      "metadata": {
        "id": "HHFlzjmMvdde",
        "outputId": "e2f9faf8-2c78-491c-811e-38dccdfd4723"
      },
      "source": [
        "y_test.shape"
      ],
      "execution_count": null,
      "outputs": [
        {
          "output_type": "execute_result",
          "data": {
            "text/plain": [
              "(10000, 10)"
            ]
          },
          "metadata": {
            "tags": []
          },
          "execution_count": 37
        }
      ]
    },
    {
      "cell_type": "markdown",
      "metadata": {
        "id": "wHj05iJTvdde"
      },
      "source": [
        "# Creating the Neural Network"
      ]
    },
    {
      "cell_type": "markdown",
      "metadata": {
        "id": "oyLw-rsevddf"
      },
      "source": [
        "- Configure a Convolutional Neural Network (CNN)\n",
        "- Sequential model - stacks layers - execute sequentially\n",
        "    * output of one layer becomes input to the next\n",
        "    * Feed Forward network\n",
        "    "
      ]
    },
    {
      "cell_type": "code",
      "metadata": {
        "id": "FYSBEckdvddf"
      },
      "source": [
        "from tensorflow.keras.models import Sequential"
      ],
      "execution_count": null,
      "outputs": []
    },
    {
      "cell_type": "code",
      "metadata": {
        "id": "Q-s8WacCvddg"
      },
      "source": [
        "cnn=Sequential()"
      ],
      "execution_count": null,
      "outputs": []
    },
    {
      "cell_type": "code",
      "metadata": {
        "id": "B665UlEpvddg",
        "outputId": "21518761-c3e4-4e5b-d24e-21397cfd3535"
      },
      "source": [
        "cnn"
      ],
      "execution_count": null,
      "outputs": [
        {
          "output_type": "execute_result",
          "data": {
            "text/plain": [
              "<tensorflow.python.keras.engine.sequential.Sequential at 0x1fd3f5fe688>"
            ]
          },
          "metadata": {
            "tags": []
          },
          "execution_count": 40
        }
      ]
    },
    {
      "cell_type": "markdown",
      "metadata": {
        "id": "8N-g9qsjvddg"
      },
      "source": [
        "# Adding Layers to the Network\n",
        "   - Input layers (typical convnet) receive the training samples.\n",
        "    - Hidden layers that learn from the training samples\n",
        "    - output layer that produces the predictions\n",
        "    "
      ]
    },
    {
      "cell_type": "code",
      "metadata": {
        "id": "ltNNBUUpvddg"
      },
      "source": [
        "# import the layer classes \n",
        "\n",
        "from tensorflow.keras.layers import Conv2D, Dense, Flatten, MaxPooling2D"
      ],
      "execution_count": null,
      "outputs": []
    },
    {
      "cell_type": "markdown",
      "metadata": {
        "id": "3xkLwWefvddg"
      },
      "source": [
        "# Convolution \n",
        "- We start with a convolution layer\n",
        "- Uses the relationships between pixels in close proximity to learn useful features (small areas of each sample)"
      ]
    },
    {
      "cell_type": "markdown",
      "metadata": {
        "id": "5HF0Ka5Cvddh"
      },
      "source": [
        "- Examine convolution on a 6 X 6 image\n",
        "- 3 by 3 kernel \n",
        "- Convolution performs calculation that learn from the kernels 9 features then output 1 new feature \n"
      ]
    },
    {
      "cell_type": "markdown",
      "metadata": {
        "id": "qhtDWAccvddh"
      },
      "source": [
        "- kernel is 3 x 3 other exists 5 x 5, 7 x 7 \n",
        "- kernel is a `hyperparameter`\n",
        "- By looking at features near one another, the network begins to recognize features - edges, straight lines and curves"
      ]
    },
    {
      "cell_type": "markdown",
      "metadata": {
        "id": "VlppROgkvddh"
      },
      "source": [
        "- Complete pass left to right is called a filter\n",
        "- if you use 3 by 3 kernel, the output will be 2 less\n",
        "- for use 28 by 28 --- 26 by 26 \n",
        "- The number of filters in convolution layer is commonly 32 or 64 \n",
        "- Each filter produces different results\n",
        "- High resolution images (high features) - require more filters\n",
        "- set of filters produced by a convolution layer is called a feature map\n",
        "- higher -- nose eyes, mouths\n",
        "\n",
        "- After `learning a feature  a network can recognize that feature anywhere` in the image\n",
        "   - convnets are popular with object recognition "
      ]
    },
    {
      "cell_type": "code",
      "metadata": {
        "id": "Ls-FKVebvddi",
        "outputId": "4d3fe7f5-b0d7-4244-91f1-14ada41d98f8"
      },
      "source": [
        "# add the convolution layer -- Conv2D \n",
        "cnn.add(Conv2D(filters=64, kernel_size=(3,3), activation='relu', input_shape=(28,28,1)))"
      ],
      "execution_count": null,
      "outputs": [
        {
          "output_type": "stream",
          "text": [
            "WARNING:tensorflow:From C:\\anaconda\\envs\\tf_env\\lib\\site-packages\\tensorflow\\python\\ops\\init_ops.py:1251: calling VarianceScaling.__init__ (from tensorflow.python.ops.init_ops) with dtype is deprecated and will be removed in a future version.\n",
            "Instructions for updating:\n",
            "Call initializer instance with the dtype argument instead of passing it to the constructor\n"
          ],
          "name": "stdout"
        }
      ]
    },
    {
      "cell_type": "markdown",
      "metadata": {
        "id": "n1qy9jIlvddj"
      },
      "source": [
        "- filters = 64 -- the number of filters in the resulting feature map\n",
        "- kernel_size = (3,3) - the size for kernel in each filter\n",
        "- activation = 'relu' - Rectified Linear Unit activation function \n",
        "\n",
        "# Dimensionality \n",
        "  - Deep learning often requires a lot of processing power.\n",
        "    \n",
        "# Overfitting \n",
        "  - can occur if the model is soo complex\n",
        "    - Deep learning overfitting occurs when the model dimensionality becomes too large\n",
        "    - to prevent overfitting -- pooling \n",
        "    \n",
        "# Adding a Pooling Layer\n",
        "\n",
        "- To reduce overfitting and computation time a convolution layer is often followed by one or more layers that is meant to reduce the dimensionality \n",
        "- pooling compressed (or down-samples) the results by discarding features\n",
        "- helps in making the model more general \n",
        "- The most common used pooling technique is `max - pooling` \n",
        "- stride for 2 by 2 pool is 2 \n",
        "- Four group of features is reduced to one 26 x 26 x 64 = 13 x 13 x 64"
      ]
    },
    {
      "cell_type": "code",
      "metadata": {
        "id": "xQBFinodvddj"
      },
      "source": [
        "cnn.add(MaxPooling2D(pool_size=(2,2)))"
      ],
      "execution_count": null,
      "outputs": []
    },
    {
      "cell_type": "code",
      "metadata": {
        "id": "G8glyitavddj"
      },
      "source": [
        "cnn.add(Conv2D(filters=128, kernel_size=(3,3), activation='relu')) # 11 by 11 by 128"
      ],
      "execution_count": null,
      "outputs": []
    },
    {
      "cell_type": "code",
      "metadata": {
        "id": "0FxKYcphvddj"
      },
      "source": [
        "cnn.add(MaxPooling2D(pool_size=(2,2))) # round down (10 by 10 ) - 5 by 5 by 128 "
      ],
      "execution_count": null,
      "outputs": []
    },
    {
      "cell_type": "markdown",
      "metadata": {
        "id": "Z-gDsh9Cvddj"
      },
      "source": [
        "# Flattening the Results\n",
        " - The model output one dimensional array of 10 probabilities \n",
        " - To prepare for one-dimensional predictions, we need to flatten the previous layer's output into One dimension\n",
        " -  Flatten layer's output will be = 5x5x 128 = 3200"
      ]
    },
    {
      "cell_type": "code",
      "metadata": {
        "id": "F1NzSnlwvddj"
      },
      "source": [
        "cnn.add(Flatten())"
      ],
      "execution_count": null,
      "outputs": []
    },
    {
      "cell_type": "markdown",
      "metadata": {
        "id": "96VZDG-Mvddk"
      },
      "source": [
        "# Adding a Dense Layer to Reduce the Number of Features\n",
        "\n",
        "- Layer before the Flatten () learned digit features\n",
        "- Learn the relationships among those features to classify which digit each image represents\n",
        "- Accomplished with fully connected Dense layers\n"
      ]
    },
    {
      "cell_type": "code",
      "metadata": {
        "id": "hWrBrlbxvddk"
      },
      "source": [
        "cnn.add(Dense(units=128, activation='relu'))"
      ],
      "execution_count": null,
      "outputs": []
    },
    {
      "cell_type": "markdown",
      "metadata": {
        "id": "WW52v4Wrvddl"
      },
      "source": [
        " - creates 128 neurons (units) that learn form 3200 output from the Flatten layer"
      ]
    },
    {
      "cell_type": "markdown",
      "metadata": {
        "id": "_6ljWnxIvddl"
      },
      "source": [
        "- Add another final Dense layer, which outputs into neurons the classes 0 -9 \n",
        "- Softmax activation function converts values to these 10 neurons into `classification probabilities`"
      ]
    },
    {
      "cell_type": "code",
      "metadata": {
        "id": "XnNDIhXsvddm"
      },
      "source": [
        "cnn.add(Dense(units=10, activation='softmax'))"
      ],
      "execution_count": null,
      "outputs": []
    },
    {
      "cell_type": "code",
      "metadata": {
        "id": "M4Vl3wcDvddm",
        "outputId": "62b2b49c-6e7d-422d-a9a5-58f2f78ffd4b"
      },
      "source": [
        "cnn.summary()"
      ],
      "execution_count": null,
      "outputs": [
        {
          "output_type": "stream",
          "text": [
            "Model: \"sequential\"\n",
            "_________________________________________________________________\n",
            "Layer (type)                 Output Shape              Param #   \n",
            "=================================================================\n",
            "conv2d (Conv2D)              (None, 26, 26, 64)        640       \n",
            "_________________________________________________________________\n",
            "max_pooling2d (MaxPooling2D) (None, 13, 13, 64)        0         \n",
            "_________________________________________________________________\n",
            "conv2d_1 (Conv2D)            (None, 11, 11, 128)       73856     \n",
            "_________________________________________________________________\n",
            "max_pooling2d_1 (MaxPooling2 (None, 5, 5, 128)         0         \n",
            "_________________________________________________________________\n",
            "flatten (Flatten)            (None, 3200)              0         \n",
            "_________________________________________________________________\n",
            "dense (Dense)                (None, 128)               409728    \n",
            "_________________________________________________________________\n",
            "dense_1 (Dense)              (None, 10)                1290      \n",
            "=================================================================\n",
            "Total params: 485,514\n",
            "Trainable params: 485,514\n",
            "Non-trainable params: 0\n",
            "_________________________________________________________________\n"
          ],
          "name": "stdout"
        }
      ]
    },
    {
      "cell_type": "markdown",
      "metadata": {
        "id": "xluPd8Npvddm"
      },
      "source": [
        " - Parameters - weights that the network learns during the training \n",
        " - small network but needs to learn from nearly 500 000\n",
        " - None -- model does not know in advance, how many training samples we will provide."
      ]
    },
    {
      "cell_type": "markdown",
      "metadata": {
        "id": "_qvNtvnlvddm"
      },
      "source": [
        "# Visualizing the Model's sturcture \n",
        " - plot_model()\n",
        "    "
      ]
    },
    {
      "cell_type": "code",
      "metadata": {
        "id": "sh-Q6ychvddm"
      },
      "source": [
        "from tensorflow.keras.utils import plot_model"
      ],
      "execution_count": null,
      "outputs": []
    },
    {
      "cell_type": "code",
      "metadata": {
        "id": "cYIFGiKBvddn"
      },
      "source": [
        "from IPython.display import Image"
      ],
      "execution_count": null,
      "outputs": []
    },
    {
      "cell_type": "code",
      "metadata": {
        "id": "u1ALYaLivddn",
        "outputId": "ecfa3d7b-5535-4aca-ff4e-4a0dddb24899"
      },
      "source": [
        "plot_model(cnn, to_file='convnet.png',show_shapes=True, show_layer_names=True)\n",
        "Image(filename='convnet.png') # display the resulting image"
      ],
      "execution_count": null,
      "outputs": [
        {
          "output_type": "execute_result",
          "data": {
            "image/png": "[encoded data removed]",
            "text/plain": [
              "<IPython.core.display.Image object>"
            ]
          },
          "metadata": {
            "tags": []
          },
          "execution_count": 52
        }
      ]
    },
    {
      "cell_type": "code",
      "metadata": {
        "id": "HHCtJHgCvddo"
      },
      "source": [
        "# Compile the Model\n",
        "\n",
        "cnn.compile(optimizer='adam', loss='categorical_crossentropy', metrics=['accuracy'])"
      ],
      "execution_count": null,
      "outputs": []
    },
    {
      "cell_type": "markdown",
      "metadata": {
        "id": "Eg5aIZIHvddo"
      },
      "source": [
        "- adam - adjust the weights int he NN as the network learns\n",
        "- loss function for the optimizer is a multi-classification (10 classes) for binary - (binary-crossentropy), regression - mean_squared_error\n",
        "\n",
        "- Accuracy is commonly used in classification models\n",
        "- Check the correction predictions"
      ]
    },
    {
      "cell_type": "markdown",
      "metadata": {
        "id": "5h3XK6Mfvddo"
      },
      "source": [
        "# Training the model \n",
        "- fit() method\n",
        "- batch_size the number of samples to process at a time\n",
        "- most models use base of 2 - 32, 64 \n",
        "- features class\n"
      ]
    },
    {
      "cell_type": "code",
      "metadata": {
        "id": "Rdqe6ukuvddp"
      },
      "source": [
        "from tensorflow.keras.callbacks import TensorBoard\n",
        "import time\n",
        "tensorboard_callback=TensorBoard(log_dir=f'C:\\\\Users\\\\Lawrence Nderu\\\\logscnn\\\\mnist{time.time()}',histogram_freq=1,write_graph=True)\n",
        "\n"
      ],
      "execution_count": null,
      "outputs": []
    },
    {
      "cell_type": "code",
      "metadata": {
        "id": "vYlxz4Kvvddp",
        "outputId": "43201642-5a1b-4f2e-ee65-bd97adc8346f"
      },
      "source": [
        "cnn.fit(x_train,y_train,epochs=10,batch_size=64, validation_split=0.1, callbacks=[tensorboard_callback]) "
      ],
      "execution_count": null,
      "outputs": [
        {
          "output_type": "stream",
          "text": [
            "Train on 54000 samples, validate on 6000 samples\n",
            "Epoch 1/10\n",
            "54000/54000 [==============================] - 60s 1ms/sample - loss: 0.1416 - acc: 0.9566 - val_loss: 0.0489 - val_acc: 0.9858\n",
            "Epoch 2/10\n",
            "54000/54000 [==============================] - 46s 860us/sample - loss: 0.0447 - acc: 0.9863 - val_loss: 0.0386 - val_acc: 0.9887 loss: 0.0449 - acc - ETA: 0s - loss: 0.0446 - acc: 0.\n",
            "Epoch 3/10\n",
            "54000/54000 [==============================] - 44s 811us/sample - loss: 0.0292 - acc: 0.9911 - val_loss: 0.0375 - val_acc: 0.9877\n",
            "Epoch 4/10\n",
            "54000/54000 [==============================] - 45s 831us/sample - loss: 0.0211 - acc: 0.9933 - val_loss: 0.0345 - val_acc: 0.9908\n",
            "Epoch 5/10\n",
            "54000/54000 [==============================] - 41s 757us/sample - loss: 0.0155 - acc: 0.9950 - val_loss: 0.0325 - val_acc: 0.9910\n",
            "Epoch 6/10\n",
            "54000/54000 [==============================] - 44s 821us/sample - loss: 0.0125 - acc: 0.9958 - val_loss: 0.0408 - val_acc: 0.9902\n",
            "Epoch 7/10\n",
            "54000/54000 [==============================] - 43s 804us/sample - loss: 0.0109 - acc: 0.9961 - val_loss: 0.0402 - val_acc: 0.9902\n",
            "Epoch 8/10\n",
            "54000/54000 [==============================] - 45s 834us/sample - loss: 0.0078 - acc: 0.9975 - val_loss: 0.0484 - val_acc: 0.9895\n",
            "Epoch 9/10\n",
            "54000/54000 [==============================] - 44s 809us/sample - loss: 0.0073 - acc: 0.9976 - val_loss: 0.0470 - val_acc: 0.9900\n",
            "Epoch 10/10\n",
            "54000/54000 [==============================] - 45s 842us/sample - loss: 0.0050 - acc: 0.9983 - val_loss: 0.0450 - val_acc: 0.9907\n"
          ],
          "name": "stdout"
        },
        {
          "output_type": "execute_result",
          "data": {
            "text/plain": [
              "<tensorflow.python.keras.callbacks.History at 0x1fd37c63f48>"
            ]
          },
          "metadata": {
            "tags": []
          },
          "execution_count": 55
        }
      ]
    },
    {
      "cell_type": "code",
      "metadata": {
        "id": "naTJ5zVyvddp",
        "outputId": "9e884d73-92d3-401b-ff3c-7ab822209bb9"
      },
      "source": [
        "51+51+51+49+51"
      ],
      "execution_count": null,
      "outputs": [
        {
          "output_type": "execute_result",
          "data": {
            "text/plain": [
              "253"
            ]
          },
          "metadata": {
            "tags": []
          },
          "execution_count": 56
        }
      ]
    },
    {
      "cell_type": "code",
      "metadata": {
        "id": "dvkzvmAZvddq",
        "outputId": "22f4753e-8de3-469b-dd7c-3f567667c636"
      },
      "source": [
        "253/60"
      ],
      "execution_count": null,
      "outputs": [
        {
          "output_type": "execute_result",
          "data": {
            "text/plain": [
              "4.216666666666667"
            ]
          },
          "metadata": {
            "tags": []
          },
          "execution_count": 57
        }
      ]
    },
    {
      "cell_type": "markdown",
      "metadata": {
        "id": "cdoIJnggvddq"
      },
      "source": [
        "# Evaluating the Model on Unseen Data \n",
        "\n",
        "- use the evaluete method. "
      ]
    },
    {
      "cell_type": "code",
      "metadata": {
        "id": "PIkeszaRvddq",
        "outputId": "6b95565e-7fc6-43da-c828-e41355a484dd"
      },
      "source": [
        "loss, accuracy =cnn.evaluate(x_test,y_test)"
      ],
      "execution_count": null,
      "outputs": [
        {
          "output_type": "stream",
          "text": [
            "10000/10000 [==============================] - 3s 332us/sample - loss: 0.0389 - acc: 0.9903\n"
          ],
          "name": "stdout"
        }
      ]
    },
    {
      "cell_type": "code",
      "metadata": {
        "id": "ghunmSrHvddr",
        "outputId": "3ab91754-1397-4034-c021-58feac113f10"
      },
      "source": [
        "loss"
      ],
      "execution_count": null,
      "outputs": [
        {
          "output_type": "execute_result",
          "data": {
            "text/plain": [
              "0.038932777963311176"
            ]
          },
          "metadata": {
            "tags": []
          },
          "execution_count": 59
        }
      ]
    },
    {
      "cell_type": "code",
      "metadata": {
        "id": "YVwDttwFvddr",
        "outputId": "32fdce53-5c52-40bd-b5dc-52400cfc776a"
      },
      "source": [
        "accuracy"
      ],
      "execution_count": null,
      "outputs": [
        {
          "output_type": "execute_result",
          "data": {
            "text/plain": [
              "0.9903"
            ]
          },
          "metadata": {
            "tags": []
          },
          "execution_count": 60
        }
      ]
    },
    {
      "cell_type": "markdown",
      "metadata": {
        "id": "c_CF4aZavdds"
      },
      "source": [
        "# Making prediction using predict method\n",
        "\n",
        "- predict()"
      ]
    },
    {
      "cell_type": "code",
      "metadata": {
        "id": "Yz1K7oj_vdds"
      },
      "source": [
        "predictions=cnn.predict(x_test)"
      ],
      "execution_count": null,
      "outputs": []
    },
    {
      "cell_type": "code",
      "metadata": {
        "id": "0eND5twNvdds",
        "outputId": "39bd9f64-9120-40b3-ed67-bb333efb3ee6"
      },
      "source": [
        "y_test[23]"
      ],
      "execution_count": null,
      "outputs": [
        {
          "output_type": "execute_result",
          "data": {
            "text/plain": [
              "array([0., 0., 0., 0., 0., 1., 0., 0., 0., 0.], dtype=float32)"
            ]
          },
          "metadata": {
            "tags": []
          },
          "execution_count": 62
        }
      ]
    },
    {
      "cell_type": "code",
      "metadata": {
        "id": "b2F-hbu_vdds",
        "outputId": "26cfd7ac-8123-44c4-9903-4ed53eebaaa4"
      },
      "source": [
        "predictions[23]"
      ],
      "execution_count": null,
      "outputs": [
        {
          "output_type": "execute_result",
          "data": {
            "text/plain": [
              "array([2.07055563e-16, 2.09183715e-19, 6.36178984e-18, 1.10720808e-10,\n",
              "       9.22610289e-18, 1.00000000e+00, 2.65988176e-10, 2.30099581e-18,\n",
              "       9.33836206e-15, 1.29474565e-11], dtype=float32)"
            ]
          },
          "metadata": {
            "tags": []
          },
          "execution_count": 63
        }
      ]
    },
    {
      "cell_type": "code",
      "metadata": {
        "id": "mU-gYv29vdds",
        "outputId": "2978c9ab-f467-47a3-a654-24d99644197f"
      },
      "source": [
        "for index, probability in enumerate(predictions[23]):\n",
        "    print(f'{index}: {probability: .10%}')"
      ],
      "execution_count": null,
      "outputs": [
        {
          "output_type": "stream",
          "text": [
            "0:  0.0000000000%\n",
            "1:  0.0000000000%\n",
            "2:  0.0000000000%\n",
            "3:  0.0000000111%\n",
            "4:  0.0000000000%\n",
            "5:  100.0000000000%\n",
            "6:  0.0000000266%\n",
            "7:  0.0000000000%\n",
            "8:  0.0000000000%\n",
            "9:  0.0000000013%\n"
          ],
          "name": "stdout"
        }
      ]
    },
    {
      "cell_type": "markdown",
      "metadata": {
        "id": "Z2zP3FiAvddt"
      },
      "source": [
        "# Locating the Incorrect Predictions "
      ]
    },
    {
      "cell_type": "markdown",
      "metadata": {
        "id": "DPZAAaFuvddu"
      },
      "source": [
        "- View some incorrectly predicted images, see which digits is our model having trouble with\n",
        "- To do this we compare the index of the largest probability in the predictions with the index containing a `1`. \n",
        "- same prediction is correct "
      ]
    },
    {
      "cell_type": "markdown",
      "metadata": {
        "id": "pq1FM-4Hvddu"
      },
      "source": [
        "- Reshape samples from the shape (28,28,1) - (keras needed) but the matplotlib requires data to be displayed at images (28,28)"
      ]
    },
    {
      "cell_type": "code",
      "metadata": {
        "id": "aefBYBnhvddw"
      },
      "source": [
        "images=x_test.reshape((10000,28,28))"
      ],
      "execution_count": null,
      "outputs": []
    },
    {
      "cell_type": "code",
      "metadata": {
        "id": "xmDSYfWivddw"
      },
      "source": [
        "incorrect_predictions=[]"
      ],
      "execution_count": null,
      "outputs": []
    },
    {
      "cell_type": "code",
      "metadata": {
        "id": "gNbWjEdEvddw"
      },
      "source": [
        "for i, (p,e) in enumerate(zip(predictions,y_test)):\n",
        "    predicted, expected=np.argmax(p),np.argmax(e)\n",
        "    if predicted !=expected :  \n",
        "        incorrect_predictions.append((i, images[i],predicted,expected))"
      ],
      "execution_count": null,
      "outputs": []
    },
    {
      "cell_type": "code",
      "metadata": {
        "id": "EsHw3214vddw",
        "outputId": "8e8119e5-5fb9-435f-d29a-c3d5e55e01e9"
      },
      "source": [
        "len(incorrect_predictions)"
      ],
      "execution_count": null,
      "outputs": [
        {
          "output_type": "execute_result",
          "data": {
            "text/plain": [
              "97"
            ]
          },
          "metadata": {
            "tags": []
          },
          "execution_count": 68
        }
      ]
    },
    {
      "cell_type": "code",
      "metadata": {
        "id": "wuLDCNr0vddw",
        "outputId": "ab621fe5-509b-45c3-aaf2-9a0eabcb484c"
      },
      "source": [
        "len(y_test)"
      ],
      "execution_count": null,
      "outputs": [
        {
          "output_type": "execute_result",
          "data": {
            "text/plain": [
              "10000"
            ]
          },
          "metadata": {
            "tags": []
          },
          "execution_count": 69
        }
      ]
    },
    {
      "cell_type": "code",
      "metadata": {
        "id": "sS93fCONvddy",
        "outputId": "39f95d98-fce6-48b2-84a6-afb292faade3"
      },
      "source": [
        "(10000-89)/10000*100 "
      ],
      "execution_count": null,
      "outputs": [
        {
          "output_type": "execute_result",
          "data": {
            "text/plain": [
              "99.11"
            ]
          },
          "metadata": {
            "tags": []
          },
          "execution_count": 70
        }
      ]
    },
    {
      "cell_type": "code",
      "metadata": {
        "id": "Y4NkV9OKvddy",
        "outputId": "8999ef85-b423-4c54-bbe1-16633313e865"
      },
      "source": [
        "100-0.89"
      ],
      "execution_count": null,
      "outputs": [
        {
          "output_type": "execute_result",
          "data": {
            "text/plain": [
              "99.11"
            ]
          },
          "metadata": {
            "tags": []
          },
          "execution_count": 71
        }
      ]
    },
    {
      "cell_type": "markdown",
      "metadata": {
        "id": "O_SC_rhivddy"
      },
      "source": [
        "# Visulizing Incorrect Predictions\n",
        "\n",
        "- 24 incorrect images - value p - value e\n"
      ]
    },
    {
      "cell_type": "code",
      "metadata": {
        "id": "jfhq1JV_vddy",
        "outputId": "3e6fce84-28d5-48e5-8fa6-2a82ee98dd8f"
      },
      "source": [
        "figure,axes=plt.subplots(nrows=4,ncols=6,figsize=(16,12))\n",
        "\n",
        "for axes, item in zip(axes.ravel(),incorrect_predictions):\n",
        "    index, image, predicted, expected =item\n",
        "    axes.imshow(image, cmap=plt.cm.gray_r)\n",
        "    axes.set_xticks([])\n",
        "    axes.set_yticks([])\n",
        "    axes.set_title(f'index: {index}\\np: {predicted}; e: {expected}')\n",
        "plt.tight_layout()"
      ],
      "execution_count": null,
      "outputs": [
        {
          "output_type": "display_data",
          "data": {
            "image/png": "[encoded data removed]",
            "text/plain": [
              "<Figure size 1152x864 with 24 Axes>"
            ]
          },
          "metadata": {
            "tags": []
          }
        }
      ]
    },
    {
      "cell_type": "code",
      "metadata": {
        "id": "orDB9ONqvddz"
      },
      "source": [
        "# Displaying the probabilities for the incorrect Predictions\n",
        "\n",
        "def display_probabilities(prediction):\n",
        "    for index, probability in enumerate(prediction):\n",
        "        print(f'{index}: {probability: .10%}')"
      ],
      "execution_count": null,
      "outputs": []
    },
    {
      "cell_type": "code",
      "metadata": {
        "id": "8DZnmTEnvddz",
        "outputId": "6d656c1d-952d-4098-e679-bfd890f9a70a"
      },
      "source": [
        "display_probabilities(predictions[1709])"
      ],
      "execution_count": null,
      "outputs": [
        {
          "output_type": "stream",
          "text": [
            "0:  0.0011878469%\n",
            "1:  0.0105572399%\n",
            "2:  0.0004247436%\n",
            "3:  1.2928267941%\n",
            "4:  0.0035245797%\n",
            "5:  83.3572626114%\n",
            "6:  0.0000565715%\n",
            "7:  0.1167959417%\n",
            "8:  0.5408483092%\n",
            "9:  14.6765172482%\n"
          ],
          "name": "stdout"
        }
      ]
    },
    {
      "cell_type": "markdown",
      "metadata": {
        "id": "88ligMx3vddz"
      },
      "source": [
        "# Saving and Loading the model \n",
        "\n",
        "- save the state of the model\n",
        "- call it later \n",
        "    * make more predictions\n",
        "    * Train more\n",
        "    * Train for problems \n",
        "    * Transfer learning \n",
        "- save - model architecture, state - HDF5 -- Hierarchical Data Format "
      ]
    },
    {
      "cell_type": "code",
      "metadata": {
        "id": "-VH0edaVvddz"
      },
      "source": [
        "cnn.save('mnist_cnn.h5')"
      ],
      "execution_count": null,
      "outputs": []
    },
    {
      "cell_type": "code",
      "metadata": {
        "id": "Og4_2Oquvddz"
      },
      "source": [
        "from tensorflow.keras.models import load_model"
      ],
      "execution_count": null,
      "outputs": []
    },
    {
      "cell_type": "code",
      "metadata": {
        "scrolled": true,
        "id": "hsNgMqCUvdd0",
        "outputId": "d060ab97-84bc-4951-cb45-69b7f0404acf"
      },
      "source": [
        "cnn=load_model('mnist_cnn.h5')"
      ],
      "execution_count": null,
      "outputs": [
        {
          "output_type": "stream",
          "text": [
            "WARNING:tensorflow:From C:\\anaconda\\envs\\tf_env\\lib\\site-packages\\tensorflow\\python\\ops\\init_ops.py:97: calling GlorotUniform.__init__ (from tensorflow.python.ops.init_ops) with dtype is deprecated and will be removed in a future version.\n",
            "Instructions for updating:\n",
            "Call initializer instance with the dtype argument instead of passing it to the constructor\n",
            "WARNING:tensorflow:From C:\\anaconda\\envs\\tf_env\\lib\\site-packages\\tensorflow\\python\\ops\\init_ops.py:97: calling Zeros.__init__ (from tensorflow.python.ops.init_ops) with dtype is deprecated and will be removed in a future version.\n",
            "Instructions for updating:\n",
            "Call initializer instance with the dtype argument instead of passing it to the constructor\n"
          ],
          "name": "stdout"
        }
      ]
    },
    {
      "cell_type": "code",
      "metadata": {
        "id": "fpL32Klkvdd0",
        "outputId": "80f882af-4747-4618-c284-3f3f91c63217"
      },
      "source": [
        "cnn"
      ],
      "execution_count": null,
      "outputs": [
        {
          "output_type": "execute_result",
          "data": {
            "text/plain": [
              "<tensorflow.python.keras.engine.sequential.Sequential at 0x1fd3f472e88>"
            ]
          },
          "metadata": {
            "tags": []
          },
          "execution_count": 78
        }
      ]
    },
    {
      "cell_type": "markdown",
      "metadata": {
        "id": "FqwdX3Z_vdd1"
      },
      "source": [
        "# TensorBoard\n",
        "- difficult to know and fully understand all the details of deep learning models\n",
        "- Challenges - testing, debugging,updating the model and the algorithms\n",
        "- So many features - not be apparent \n",
        "- Tensorboard helps you visualize the neural network\n",
        "- Insights into how the model is learning - tune `hyperparameters`"
      ]
    },
    {
      "cell_type": "code",
      "metadata": {
        "id": "Tf7pkno3vdd1"
      },
      "source": [
        "from tensorflow.keras.callbacks import TensorBoard"
      ],
      "execution_count": null,
      "outputs": []
    },
    {
      "cell_type": "code",
      "metadata": {
        "id": "LA6aiWCGvdd1"
      },
      "source": [
        "import time"
      ],
      "execution_count": null,
      "outputs": []
    },
    {
      "cell_type": "code",
      "metadata": {
        "id": "ihaWU1JNvdd2"
      },
      "source": [
        "tensorboard_callback=TensorBoard(log_dir=f'./logs/mnist{time.time()}', histogram_freq=1,write_graph=True)"
      ],
      "execution_count": null,
      "outputs": []
    },
    {
      "cell_type": "markdown",
      "metadata": {
        "id": "8sM7v_Jmvdd2"
      },
      "source": [
        "- CNN\n",
        "- (Fashion- MNIST dataset on fashion articles )- keras comes bundled with Fashion- MNIST database. 28 by 28 grayscale images 10 categories - 0 T-shirt/top 1 Trouser 2, pullover     9 Ankle boot 60,000 training samples and 10, 000 testing samples "
      ]
    }
  ]
}